{
  "nbformat": 4,
  "nbformat_minor": 0,
  "metadata": {
    "accelerator": "GPU",
    "colab": {
      "name": "[Tubes NLP] Topic Classfication",
      "provenance": []
    },
    "kernelspec": {
      "display_name": "Python 3",
      "name": "python3"
    },
    "language_info": {
      "name": "python"
    },
    "widgets": {
      "application/vnd.jupyter.widget-state+json": {
        "869715d90ffc4d1abf128ebc7e4cd057": {
          "model_module": "@jupyter-widgets/controls",
          "model_name": "HBoxModel",
          "model_module_version": "1.5.0",
          "state": {
            "_view_name": "HBoxView",
            "_dom_classes": [],
            "_model_name": "HBoxModel",
            "_view_module": "@jupyter-widgets/controls",
            "_model_module_version": "1.5.0",
            "_view_count": null,
            "_view_module_version": "1.5.0",
            "box_style": "",
            "layout": "IPY_MODEL_230aea2375f44787806853c8271e3f0e",
            "_model_module": "@jupyter-widgets/controls",
            "children": [
              "IPY_MODEL_cf41ec5def7c44a0ba17c357892def30",
              "IPY_MODEL_ca85212f90e54e42869281bfdd2a6bfd",
              "IPY_MODEL_437fbe326f72456eb0bc595d9ca732ec"
            ]
          }
        },
        "230aea2375f44787806853c8271e3f0e": {
          "model_module": "@jupyter-widgets/base",
          "model_name": "LayoutModel",
          "model_module_version": "1.2.0",
          "state": {
            "_view_name": "LayoutView",
            "grid_template_rows": null,
            "right": null,
            "justify_content": null,
            "_view_module": "@jupyter-widgets/base",
            "overflow": null,
            "_model_module_version": "1.2.0",
            "_view_count": null,
            "flex_flow": null,
            "width": null,
            "min_width": null,
            "border": null,
            "align_items": null,
            "bottom": null,
            "_model_module": "@jupyter-widgets/base",
            "top": null,
            "grid_column": null,
            "overflow_y": null,
            "overflow_x": null,
            "grid_auto_flow": null,
            "grid_area": null,
            "grid_template_columns": null,
            "flex": null,
            "_model_name": "LayoutModel",
            "justify_items": null,
            "grid_row": null,
            "max_height": null,
            "align_content": null,
            "visibility": null,
            "align_self": null,
            "height": null,
            "min_height": null,
            "padding": null,
            "grid_auto_rows": null,
            "grid_gap": null,
            "max_width": null,
            "order": null,
            "_view_module_version": "1.2.0",
            "grid_template_areas": null,
            "object_position": null,
            "object_fit": null,
            "grid_auto_columns": null,
            "margin": null,
            "display": null,
            "left": null
          }
        },
        "cf41ec5def7c44a0ba17c357892def30": {
          "model_module": "@jupyter-widgets/controls",
          "model_name": "HTMLModel",
          "model_module_version": "1.5.0",
          "state": {
            "_view_name": "HTMLView",
            "style": "IPY_MODEL_09f7f850cfa74b2babbdf4468c30d6ff",
            "_dom_classes": [],
            "description": "",
            "_model_name": "HTMLModel",
            "placeholder": "​",
            "_view_module": "@jupyter-widgets/controls",
            "_model_module_version": "1.5.0",
            "value": "Downloading: 100%",
            "_view_count": null,
            "_view_module_version": "1.5.0",
            "description_tooltip": null,
            "_model_module": "@jupyter-widgets/controls",
            "layout": "IPY_MODEL_076412497f6248a9ae2c44991b4eaeb9"
          }
        },
        "ca85212f90e54e42869281bfdd2a6bfd": {
          "model_module": "@jupyter-widgets/controls",
          "model_name": "FloatProgressModel",
          "model_module_version": "1.5.0",
          "state": {
            "_view_name": "ProgressView",
            "style": "IPY_MODEL_66b73ed5986d4b60838d9da13c89fb98",
            "_dom_classes": [],
            "description": "",
            "_model_name": "FloatProgressModel",
            "bar_style": "success",
            "max": 231508,
            "_view_module": "@jupyter-widgets/controls",
            "_model_module_version": "1.5.0",
            "value": 231508,
            "_view_count": null,
            "_view_module_version": "1.5.0",
            "orientation": "horizontal",
            "min": 0,
            "description_tooltip": null,
            "_model_module": "@jupyter-widgets/controls",
            "layout": "IPY_MODEL_b70803663d7640108b7c1fa06baf9560"
          }
        },
        "437fbe326f72456eb0bc595d9ca732ec": {
          "model_module": "@jupyter-widgets/controls",
          "model_name": "HTMLModel",
          "model_module_version": "1.5.0",
          "state": {
            "_view_name": "HTMLView",
            "style": "IPY_MODEL_315c972916b346e4a9450642abbdd1a6",
            "_dom_classes": [],
            "description": "",
            "_model_name": "HTMLModel",
            "placeholder": "​",
            "_view_module": "@jupyter-widgets/controls",
            "_model_module_version": "1.5.0",
            "value": " 232k/232k [00:00&lt;00:00, 364kB/s]",
            "_view_count": null,
            "_view_module_version": "1.5.0",
            "description_tooltip": null,
            "_model_module": "@jupyter-widgets/controls",
            "layout": "IPY_MODEL_08f5a40449b4485895ae4cda4ccddcb9"
          }
        },
        "09f7f850cfa74b2babbdf4468c30d6ff": {
          "model_module": "@jupyter-widgets/controls",
          "model_name": "DescriptionStyleModel",
          "model_module_version": "1.5.0",
          "state": {
            "_view_name": "StyleView",
            "_model_name": "DescriptionStyleModel",
            "description_width": "",
            "_view_module": "@jupyter-widgets/base",
            "_model_module_version": "1.5.0",
            "_view_count": null,
            "_view_module_version": "1.2.0",
            "_model_module": "@jupyter-widgets/controls"
          }
        },
        "076412497f6248a9ae2c44991b4eaeb9": {
          "model_module": "@jupyter-widgets/base",
          "model_name": "LayoutModel",
          "model_module_version": "1.2.0",
          "state": {
            "_view_name": "LayoutView",
            "grid_template_rows": null,
            "right": null,
            "justify_content": null,
            "_view_module": "@jupyter-widgets/base",
            "overflow": null,
            "_model_module_version": "1.2.0",
            "_view_count": null,
            "flex_flow": null,
            "width": null,
            "min_width": null,
            "border": null,
            "align_items": null,
            "bottom": null,
            "_model_module": "@jupyter-widgets/base",
            "top": null,
            "grid_column": null,
            "overflow_y": null,
            "overflow_x": null,
            "grid_auto_flow": null,
            "grid_area": null,
            "grid_template_columns": null,
            "flex": null,
            "_model_name": "LayoutModel",
            "justify_items": null,
            "grid_row": null,
            "max_height": null,
            "align_content": null,
            "visibility": null,
            "align_self": null,
            "height": null,
            "min_height": null,
            "padding": null,
            "grid_auto_rows": null,
            "grid_gap": null,
            "max_width": null,
            "order": null,
            "_view_module_version": "1.2.0",
            "grid_template_areas": null,
            "object_position": null,
            "object_fit": null,
            "grid_auto_columns": null,
            "margin": null,
            "display": null,
            "left": null
          }
        },
        "66b73ed5986d4b60838d9da13c89fb98": {
          "model_module": "@jupyter-widgets/controls",
          "model_name": "ProgressStyleModel",
          "model_module_version": "1.5.0",
          "state": {
            "_view_name": "StyleView",
            "_model_name": "ProgressStyleModel",
            "description_width": "",
            "_view_module": "@jupyter-widgets/base",
            "_model_module_version": "1.5.0",
            "_view_count": null,
            "_view_module_version": "1.2.0",
            "bar_color": null,
            "_model_module": "@jupyter-widgets/controls"
          }
        },
        "b70803663d7640108b7c1fa06baf9560": {
          "model_module": "@jupyter-widgets/base",
          "model_name": "LayoutModel",
          "model_module_version": "1.2.0",
          "state": {
            "_view_name": "LayoutView",
            "grid_template_rows": null,
            "right": null,
            "justify_content": null,
            "_view_module": "@jupyter-widgets/base",
            "overflow": null,
            "_model_module_version": "1.2.0",
            "_view_count": null,
            "flex_flow": null,
            "width": null,
            "min_width": null,
            "border": null,
            "align_items": null,
            "bottom": null,
            "_model_module": "@jupyter-widgets/base",
            "top": null,
            "grid_column": null,
            "overflow_y": null,
            "overflow_x": null,
            "grid_auto_flow": null,
            "grid_area": null,
            "grid_template_columns": null,
            "flex": null,
            "_model_name": "LayoutModel",
            "justify_items": null,
            "grid_row": null,
            "max_height": null,
            "align_content": null,
            "visibility": null,
            "align_self": null,
            "height": null,
            "min_height": null,
            "padding": null,
            "grid_auto_rows": null,
            "grid_gap": null,
            "max_width": null,
            "order": null,
            "_view_module_version": "1.2.0",
            "grid_template_areas": null,
            "object_position": null,
            "object_fit": null,
            "grid_auto_columns": null,
            "margin": null,
            "display": null,
            "left": null
          }
        },
        "315c972916b346e4a9450642abbdd1a6": {
          "model_module": "@jupyter-widgets/controls",
          "model_name": "DescriptionStyleModel",
          "model_module_version": "1.5.0",
          "state": {
            "_view_name": "StyleView",
            "_model_name": "DescriptionStyleModel",
            "description_width": "",
            "_view_module": "@jupyter-widgets/base",
            "_model_module_version": "1.5.0",
            "_view_count": null,
            "_view_module_version": "1.2.0",
            "_model_module": "@jupyter-widgets/controls"
          }
        },
        "08f5a40449b4485895ae4cda4ccddcb9": {
          "model_module": "@jupyter-widgets/base",
          "model_name": "LayoutModel",
          "model_module_version": "1.2.0",
          "state": {
            "_view_name": "LayoutView",
            "grid_template_rows": null,
            "right": null,
            "justify_content": null,
            "_view_module": "@jupyter-widgets/base",
            "overflow": null,
            "_model_module_version": "1.2.0",
            "_view_count": null,
            "flex_flow": null,
            "width": null,
            "min_width": null,
            "border": null,
            "align_items": null,
            "bottom": null,
            "_model_module": "@jupyter-widgets/base",
            "top": null,
            "grid_column": null,
            "overflow_y": null,
            "overflow_x": null,
            "grid_auto_flow": null,
            "grid_area": null,
            "grid_template_columns": null,
            "flex": null,
            "_model_name": "LayoutModel",
            "justify_items": null,
            "grid_row": null,
            "max_height": null,
            "align_content": null,
            "visibility": null,
            "align_self": null,
            "height": null,
            "min_height": null,
            "padding": null,
            "grid_auto_rows": null,
            "grid_gap": null,
            "max_width": null,
            "order": null,
            "_view_module_version": "1.2.0",
            "grid_template_areas": null,
            "object_position": null,
            "object_fit": null,
            "grid_auto_columns": null,
            "margin": null,
            "display": null,
            "left": null
          }
        },
        "e7229b43ad8e4f72a084ebb56ea864e9": {
          "model_module": "@jupyter-widgets/controls",
          "model_name": "HBoxModel",
          "model_module_version": "1.5.0",
          "state": {
            "_view_name": "HBoxView",
            "_dom_classes": [],
            "_model_name": "HBoxModel",
            "_view_module": "@jupyter-widgets/controls",
            "_model_module_version": "1.5.0",
            "_view_count": null,
            "_view_module_version": "1.5.0",
            "box_style": "",
            "layout": "IPY_MODEL_b6dee7761a1842969233510818eb0327",
            "_model_module": "@jupyter-widgets/controls",
            "children": [
              "IPY_MODEL_1d56a2a1df45427f8e37c5cf6846d87a",
              "IPY_MODEL_b6808b73fc484d50a2d1a05dd945bdcf",
              "IPY_MODEL_d4d7940125d04a8a92b3600a18904543"
            ]
          }
        },
        "b6dee7761a1842969233510818eb0327": {
          "model_module": "@jupyter-widgets/base",
          "model_name": "LayoutModel",
          "model_module_version": "1.2.0",
          "state": {
            "_view_name": "LayoutView",
            "grid_template_rows": null,
            "right": null,
            "justify_content": null,
            "_view_module": "@jupyter-widgets/base",
            "overflow": null,
            "_model_module_version": "1.2.0",
            "_view_count": null,
            "flex_flow": null,
            "width": null,
            "min_width": null,
            "border": null,
            "align_items": null,
            "bottom": null,
            "_model_module": "@jupyter-widgets/base",
            "top": null,
            "grid_column": null,
            "overflow_y": null,
            "overflow_x": null,
            "grid_auto_flow": null,
            "grid_area": null,
            "grid_template_columns": null,
            "flex": null,
            "_model_name": "LayoutModel",
            "justify_items": null,
            "grid_row": null,
            "max_height": null,
            "align_content": null,
            "visibility": null,
            "align_self": null,
            "height": null,
            "min_height": null,
            "padding": null,
            "grid_auto_rows": null,
            "grid_gap": null,
            "max_width": null,
            "order": null,
            "_view_module_version": "1.2.0",
            "grid_template_areas": null,
            "object_position": null,
            "object_fit": null,
            "grid_auto_columns": null,
            "margin": null,
            "display": null,
            "left": null
          }
        },
        "1d56a2a1df45427f8e37c5cf6846d87a": {
          "model_module": "@jupyter-widgets/controls",
          "model_name": "HTMLModel",
          "model_module_version": "1.5.0",
          "state": {
            "_view_name": "HTMLView",
            "style": "IPY_MODEL_5f804f246b54417a8f18265c47fb0411",
            "_dom_classes": [],
            "description": "",
            "_model_name": "HTMLModel",
            "placeholder": "​",
            "_view_module": "@jupyter-widgets/controls",
            "_model_module_version": "1.5.0",
            "value": "Downloading: 100%",
            "_view_count": null,
            "_view_module_version": "1.5.0",
            "description_tooltip": null,
            "_model_module": "@jupyter-widgets/controls",
            "layout": "IPY_MODEL_d4b423ace4a84551bf266e87d8fe130b"
          }
        },
        "b6808b73fc484d50a2d1a05dd945bdcf": {
          "model_module": "@jupyter-widgets/controls",
          "model_name": "FloatProgressModel",
          "model_module_version": "1.5.0",
          "state": {
            "_view_name": "ProgressView",
            "style": "IPY_MODEL_ed49ce74013f49e796424aa86ae45795",
            "_dom_classes": [],
            "description": "",
            "_model_name": "FloatProgressModel",
            "bar_style": "success",
            "max": 433,
            "_view_module": "@jupyter-widgets/controls",
            "_model_module_version": "1.5.0",
            "value": 433,
            "_view_count": null,
            "_view_module_version": "1.5.0",
            "orientation": "horizontal",
            "min": 0,
            "description_tooltip": null,
            "_model_module": "@jupyter-widgets/controls",
            "layout": "IPY_MODEL_57f0086574b24a47846cc12e0e1dfcb1"
          }
        },
        "d4d7940125d04a8a92b3600a18904543": {
          "model_module": "@jupyter-widgets/controls",
          "model_name": "HTMLModel",
          "model_module_version": "1.5.0",
          "state": {
            "_view_name": "HTMLView",
            "style": "IPY_MODEL_02158b73c2a04296853bb4bb334388e5",
            "_dom_classes": [],
            "description": "",
            "_model_name": "HTMLModel",
            "placeholder": "​",
            "_view_module": "@jupyter-widgets/controls",
            "_model_module_version": "1.5.0",
            "value": " 433/433 [00:00&lt;00:00, 11.0kB/s]",
            "_view_count": null,
            "_view_module_version": "1.5.0",
            "description_tooltip": null,
            "_model_module": "@jupyter-widgets/controls",
            "layout": "IPY_MODEL_b33ac4b334074ab19138e41de7e4448e"
          }
        },
        "5f804f246b54417a8f18265c47fb0411": {
          "model_module": "@jupyter-widgets/controls",
          "model_name": "DescriptionStyleModel",
          "model_module_version": "1.5.0",
          "state": {
            "_view_name": "StyleView",
            "_model_name": "DescriptionStyleModel",
            "description_width": "",
            "_view_module": "@jupyter-widgets/base",
            "_model_module_version": "1.5.0",
            "_view_count": null,
            "_view_module_version": "1.2.0",
            "_model_module": "@jupyter-widgets/controls"
          }
        },
        "d4b423ace4a84551bf266e87d8fe130b": {
          "model_module": "@jupyter-widgets/base",
          "model_name": "LayoutModel",
          "model_module_version": "1.2.0",
          "state": {
            "_view_name": "LayoutView",
            "grid_template_rows": null,
            "right": null,
            "justify_content": null,
            "_view_module": "@jupyter-widgets/base",
            "overflow": null,
            "_model_module_version": "1.2.0",
            "_view_count": null,
            "flex_flow": null,
            "width": null,
            "min_width": null,
            "border": null,
            "align_items": null,
            "bottom": null,
            "_model_module": "@jupyter-widgets/base",
            "top": null,
            "grid_column": null,
            "overflow_y": null,
            "overflow_x": null,
            "grid_auto_flow": null,
            "grid_area": null,
            "grid_template_columns": null,
            "flex": null,
            "_model_name": "LayoutModel",
            "justify_items": null,
            "grid_row": null,
            "max_height": null,
            "align_content": null,
            "visibility": null,
            "align_self": null,
            "height": null,
            "min_height": null,
            "padding": null,
            "grid_auto_rows": null,
            "grid_gap": null,
            "max_width": null,
            "order": null,
            "_view_module_version": "1.2.0",
            "grid_template_areas": null,
            "object_position": null,
            "object_fit": null,
            "grid_auto_columns": null,
            "margin": null,
            "display": null,
            "left": null
          }
        },
        "ed49ce74013f49e796424aa86ae45795": {
          "model_module": "@jupyter-widgets/controls",
          "model_name": "ProgressStyleModel",
          "model_module_version": "1.5.0",
          "state": {
            "_view_name": "StyleView",
            "_model_name": "ProgressStyleModel",
            "description_width": "",
            "_view_module": "@jupyter-widgets/base",
            "_model_module_version": "1.5.0",
            "_view_count": null,
            "_view_module_version": "1.2.0",
            "bar_color": null,
            "_model_module": "@jupyter-widgets/controls"
          }
        },
        "57f0086574b24a47846cc12e0e1dfcb1": {
          "model_module": "@jupyter-widgets/base",
          "model_name": "LayoutModel",
          "model_module_version": "1.2.0",
          "state": {
            "_view_name": "LayoutView",
            "grid_template_rows": null,
            "right": null,
            "justify_content": null,
            "_view_module": "@jupyter-widgets/base",
            "overflow": null,
            "_model_module_version": "1.2.0",
            "_view_count": null,
            "flex_flow": null,
            "width": null,
            "min_width": null,
            "border": null,
            "align_items": null,
            "bottom": null,
            "_model_module": "@jupyter-widgets/base",
            "top": null,
            "grid_column": null,
            "overflow_y": null,
            "overflow_x": null,
            "grid_auto_flow": null,
            "grid_area": null,
            "grid_template_columns": null,
            "flex": null,
            "_model_name": "LayoutModel",
            "justify_items": null,
            "grid_row": null,
            "max_height": null,
            "align_content": null,
            "visibility": null,
            "align_self": null,
            "height": null,
            "min_height": null,
            "padding": null,
            "grid_auto_rows": null,
            "grid_gap": null,
            "max_width": null,
            "order": null,
            "_view_module_version": "1.2.0",
            "grid_template_areas": null,
            "object_position": null,
            "object_fit": null,
            "grid_auto_columns": null,
            "margin": null,
            "display": null,
            "left": null
          }
        },
        "02158b73c2a04296853bb4bb334388e5": {
          "model_module": "@jupyter-widgets/controls",
          "model_name": "DescriptionStyleModel",
          "model_module_version": "1.5.0",
          "state": {
            "_view_name": "StyleView",
            "_model_name": "DescriptionStyleModel",
            "description_width": "",
            "_view_module": "@jupyter-widgets/base",
            "_model_module_version": "1.5.0",
            "_view_count": null,
            "_view_module_version": "1.2.0",
            "_model_module": "@jupyter-widgets/controls"
          }
        },
        "b33ac4b334074ab19138e41de7e4448e": {
          "model_module": "@jupyter-widgets/base",
          "model_name": "LayoutModel",
          "model_module_version": "1.2.0",
          "state": {
            "_view_name": "LayoutView",
            "grid_template_rows": null,
            "right": null,
            "justify_content": null,
            "_view_module": "@jupyter-widgets/base",
            "overflow": null,
            "_model_module_version": "1.2.0",
            "_view_count": null,
            "flex_flow": null,
            "width": null,
            "min_width": null,
            "border": null,
            "align_items": null,
            "bottom": null,
            "_model_module": "@jupyter-widgets/base",
            "top": null,
            "grid_column": null,
            "overflow_y": null,
            "overflow_x": null,
            "grid_auto_flow": null,
            "grid_area": null,
            "grid_template_columns": null,
            "flex": null,
            "_model_name": "LayoutModel",
            "justify_items": null,
            "grid_row": null,
            "max_height": null,
            "align_content": null,
            "visibility": null,
            "align_self": null,
            "height": null,
            "min_height": null,
            "padding": null,
            "grid_auto_rows": null,
            "grid_gap": null,
            "max_width": null,
            "order": null,
            "_view_module_version": "1.2.0",
            "grid_template_areas": null,
            "object_position": null,
            "object_fit": null,
            "grid_auto_columns": null,
            "margin": null,
            "display": null,
            "left": null
          }
        },
        "9489720e2199494cb6c25301e3fe9c9f": {
          "model_module": "@jupyter-widgets/controls",
          "model_name": "HBoxModel",
          "model_module_version": "1.5.0",
          "state": {
            "_view_name": "HBoxView",
            "_dom_classes": [],
            "_model_name": "HBoxModel",
            "_view_module": "@jupyter-widgets/controls",
            "_model_module_version": "1.5.0",
            "_view_count": null,
            "_view_module_version": "1.5.0",
            "box_style": "",
            "layout": "IPY_MODEL_b3277997cf6d468aaf693ebce48984ea",
            "_model_module": "@jupyter-widgets/controls",
            "children": [
              "IPY_MODEL_250cd40f481042c29629add68efe1085",
              "IPY_MODEL_f21b323c32994f18a82435364d2e8dbf",
              "IPY_MODEL_fe3b2477212c4d7ea339ff1f95c4660c"
            ]
          }
        },
        "b3277997cf6d468aaf693ebce48984ea": {
          "model_module": "@jupyter-widgets/base",
          "model_name": "LayoutModel",
          "model_module_version": "1.2.0",
          "state": {
            "_view_name": "LayoutView",
            "grid_template_rows": null,
            "right": null,
            "justify_content": null,
            "_view_module": "@jupyter-widgets/base",
            "overflow": null,
            "_model_module_version": "1.2.0",
            "_view_count": null,
            "flex_flow": null,
            "width": null,
            "min_width": null,
            "border": null,
            "align_items": null,
            "bottom": null,
            "_model_module": "@jupyter-widgets/base",
            "top": null,
            "grid_column": null,
            "overflow_y": null,
            "overflow_x": null,
            "grid_auto_flow": null,
            "grid_area": null,
            "grid_template_columns": null,
            "flex": null,
            "_model_name": "LayoutModel",
            "justify_items": null,
            "grid_row": null,
            "max_height": null,
            "align_content": null,
            "visibility": null,
            "align_self": null,
            "height": null,
            "min_height": null,
            "padding": null,
            "grid_auto_rows": null,
            "grid_gap": null,
            "max_width": null,
            "order": null,
            "_view_module_version": "1.2.0",
            "grid_template_areas": null,
            "object_position": null,
            "object_fit": null,
            "grid_auto_columns": null,
            "margin": null,
            "display": null,
            "left": null
          }
        },
        "250cd40f481042c29629add68efe1085": {
          "model_module": "@jupyter-widgets/controls",
          "model_name": "HTMLModel",
          "model_module_version": "1.5.0",
          "state": {
            "_view_name": "HTMLView",
            "style": "IPY_MODEL_f5c56bb85ad249c69d1b907f99a528c1",
            "_dom_classes": [],
            "description": "",
            "_model_name": "HTMLModel",
            "placeholder": "​",
            "_view_module": "@jupyter-widgets/controls",
            "_model_module_version": "1.5.0",
            "value": "Downloading: 100%",
            "_view_count": null,
            "_view_module_version": "1.5.0",
            "description_tooltip": null,
            "_model_module": "@jupyter-widgets/controls",
            "layout": "IPY_MODEL_2851b83b4e4441c48c88199ad866dcd7"
          }
        },
        "f21b323c32994f18a82435364d2e8dbf": {
          "model_module": "@jupyter-widgets/controls",
          "model_name": "FloatProgressModel",
          "model_module_version": "1.5.0",
          "state": {
            "_view_name": "ProgressView",
            "style": "IPY_MODEL_ca5986d766e340e092f20ec9a70b2056",
            "_dom_classes": [],
            "description": "",
            "_model_name": "FloatProgressModel",
            "bar_style": "success",
            "max": 440473133,
            "_view_module": "@jupyter-widgets/controls",
            "_model_module_version": "1.5.0",
            "value": 440473133,
            "_view_count": null,
            "_view_module_version": "1.5.0",
            "orientation": "horizontal",
            "min": 0,
            "description_tooltip": null,
            "_model_module": "@jupyter-widgets/controls",
            "layout": "IPY_MODEL_db0e809968054c10be9dfa8749dde3f1"
          }
        },
        "fe3b2477212c4d7ea339ff1f95c4660c": {
          "model_module": "@jupyter-widgets/controls",
          "model_name": "HTMLModel",
          "model_module_version": "1.5.0",
          "state": {
            "_view_name": "HTMLView",
            "style": "IPY_MODEL_6cbb7588b2bc4ce5ae521e0c9cc97d32",
            "_dom_classes": [],
            "description": "",
            "_model_name": "HTMLModel",
            "placeholder": "​",
            "_view_module": "@jupyter-widgets/controls",
            "_model_module_version": "1.5.0",
            "value": " 440M/440M [00:13&lt;00:00, 31.8MB/s]",
            "_view_count": null,
            "_view_module_version": "1.5.0",
            "description_tooltip": null,
            "_model_module": "@jupyter-widgets/controls",
            "layout": "IPY_MODEL_b0740cf89f7941d5859eb31d9bc80703"
          }
        },
        "f5c56bb85ad249c69d1b907f99a528c1": {
          "model_module": "@jupyter-widgets/controls",
          "model_name": "DescriptionStyleModel",
          "model_module_version": "1.5.0",
          "state": {
            "_view_name": "StyleView",
            "_model_name": "DescriptionStyleModel",
            "description_width": "",
            "_view_module": "@jupyter-widgets/base",
            "_model_module_version": "1.5.0",
            "_view_count": null,
            "_view_module_version": "1.2.0",
            "_model_module": "@jupyter-widgets/controls"
          }
        },
        "2851b83b4e4441c48c88199ad866dcd7": {
          "model_module": "@jupyter-widgets/base",
          "model_name": "LayoutModel",
          "model_module_version": "1.2.0",
          "state": {
            "_view_name": "LayoutView",
            "grid_template_rows": null,
            "right": null,
            "justify_content": null,
            "_view_module": "@jupyter-widgets/base",
            "overflow": null,
            "_model_module_version": "1.2.0",
            "_view_count": null,
            "flex_flow": null,
            "width": null,
            "min_width": null,
            "border": null,
            "align_items": null,
            "bottom": null,
            "_model_module": "@jupyter-widgets/base",
            "top": null,
            "grid_column": null,
            "overflow_y": null,
            "overflow_x": null,
            "grid_auto_flow": null,
            "grid_area": null,
            "grid_template_columns": null,
            "flex": null,
            "_model_name": "LayoutModel",
            "justify_items": null,
            "grid_row": null,
            "max_height": null,
            "align_content": null,
            "visibility": null,
            "align_self": null,
            "height": null,
            "min_height": null,
            "padding": null,
            "grid_auto_rows": null,
            "grid_gap": null,
            "max_width": null,
            "order": null,
            "_view_module_version": "1.2.0",
            "grid_template_areas": null,
            "object_position": null,
            "object_fit": null,
            "grid_auto_columns": null,
            "margin": null,
            "display": null,
            "left": null
          }
        },
        "ca5986d766e340e092f20ec9a70b2056": {
          "model_module": "@jupyter-widgets/controls",
          "model_name": "ProgressStyleModel",
          "model_module_version": "1.5.0",
          "state": {
            "_view_name": "StyleView",
            "_model_name": "ProgressStyleModel",
            "description_width": "",
            "_view_module": "@jupyter-widgets/base",
            "_model_module_version": "1.5.0",
            "_view_count": null,
            "_view_module_version": "1.2.0",
            "bar_color": null,
            "_model_module": "@jupyter-widgets/controls"
          }
        },
        "db0e809968054c10be9dfa8749dde3f1": {
          "model_module": "@jupyter-widgets/base",
          "model_name": "LayoutModel",
          "model_module_version": "1.2.0",
          "state": {
            "_view_name": "LayoutView",
            "grid_template_rows": null,
            "right": null,
            "justify_content": null,
            "_view_module": "@jupyter-widgets/base",
            "overflow": null,
            "_model_module_version": "1.2.0",
            "_view_count": null,
            "flex_flow": null,
            "width": null,
            "min_width": null,
            "border": null,
            "align_items": null,
            "bottom": null,
            "_model_module": "@jupyter-widgets/base",
            "top": null,
            "grid_column": null,
            "overflow_y": null,
            "overflow_x": null,
            "grid_auto_flow": null,
            "grid_area": null,
            "grid_template_columns": null,
            "flex": null,
            "_model_name": "LayoutModel",
            "justify_items": null,
            "grid_row": null,
            "max_height": null,
            "align_content": null,
            "visibility": null,
            "align_self": null,
            "height": null,
            "min_height": null,
            "padding": null,
            "grid_auto_rows": null,
            "grid_gap": null,
            "max_width": null,
            "order": null,
            "_view_module_version": "1.2.0",
            "grid_template_areas": null,
            "object_position": null,
            "object_fit": null,
            "grid_auto_columns": null,
            "margin": null,
            "display": null,
            "left": null
          }
        },
        "6cbb7588b2bc4ce5ae521e0c9cc97d32": {
          "model_module": "@jupyter-widgets/controls",
          "model_name": "DescriptionStyleModel",
          "model_module_version": "1.5.0",
          "state": {
            "_view_name": "StyleView",
            "_model_name": "DescriptionStyleModel",
            "description_width": "",
            "_view_module": "@jupyter-widgets/base",
            "_model_module_version": "1.5.0",
            "_view_count": null,
            "_view_module_version": "1.2.0",
            "_model_module": "@jupyter-widgets/controls"
          }
        },
        "b0740cf89f7941d5859eb31d9bc80703": {
          "model_module": "@jupyter-widgets/base",
          "model_name": "LayoutModel",
          "model_module_version": "1.2.0",
          "state": {
            "_view_name": "LayoutView",
            "grid_template_rows": null,
            "right": null,
            "justify_content": null,
            "_view_module": "@jupyter-widgets/base",
            "overflow": null,
            "_model_module_version": "1.2.0",
            "_view_count": null,
            "flex_flow": null,
            "width": null,
            "min_width": null,
            "border": null,
            "align_items": null,
            "bottom": null,
            "_model_module": "@jupyter-widgets/base",
            "top": null,
            "grid_column": null,
            "overflow_y": null,
            "overflow_x": null,
            "grid_auto_flow": null,
            "grid_area": null,
            "grid_template_columns": null,
            "flex": null,
            "_model_name": "LayoutModel",
            "justify_items": null,
            "grid_row": null,
            "max_height": null,
            "align_content": null,
            "visibility": null,
            "align_self": null,
            "height": null,
            "min_height": null,
            "padding": null,
            "grid_auto_rows": null,
            "grid_gap": null,
            "max_width": null,
            "order": null,
            "_view_module_version": "1.2.0",
            "grid_template_areas": null,
            "object_position": null,
            "object_fit": null,
            "grid_auto_columns": null,
            "margin": null,
            "display": null,
            "left": null
          }
        }
      }
    }
  },
  "cells": [
    {
      "cell_type": "code",
      "metadata": {
        "colab": {
          "base_uri": "https://localhost:8080/"
        },
        "id": "VGJPDapemsd5",
        "outputId": "371f70fa-7858-456c-9ba1-1db46e8d97c7"
      },
      "source": [
        "!pip install transformers==3.0.0"
      ],
      "execution_count": 1,
      "outputs": [
        {
          "output_type": "stream",
          "name": "stdout",
          "text": [
            "Collecting transformers==3.0.0\n",
            "  Downloading transformers-3.0.0-py3-none-any.whl (754 kB)\n",
            "\u001b[?25l\r\u001b[K     |▍                               | 10 kB 22.3 MB/s eta 0:00:01\r\u001b[K     |▉                               | 20 kB 10.1 MB/s eta 0:00:01\r\u001b[K     |█▎                              | 30 kB 8.5 MB/s eta 0:00:01\r\u001b[K     |█▊                              | 40 kB 7.7 MB/s eta 0:00:01\r\u001b[K     |██▏                             | 51 kB 4.2 MB/s eta 0:00:01\r\u001b[K     |██▋                             | 61 kB 4.4 MB/s eta 0:00:01\r\u001b[K     |███                             | 71 kB 4.6 MB/s eta 0:00:01\r\u001b[K     |███▌                            | 81 kB 5.2 MB/s eta 0:00:01\r\u001b[K     |████                            | 92 kB 3.9 MB/s eta 0:00:01\r\u001b[K     |████▍                           | 102 kB 4.3 MB/s eta 0:00:01\r\u001b[K     |████▊                           | 112 kB 4.3 MB/s eta 0:00:01\r\u001b[K     |█████▏                          | 122 kB 4.3 MB/s eta 0:00:01\r\u001b[K     |█████▋                          | 133 kB 4.3 MB/s eta 0:00:01\r\u001b[K     |██████                          | 143 kB 4.3 MB/s eta 0:00:01\r\u001b[K     |██████▌                         | 153 kB 4.3 MB/s eta 0:00:01\r\u001b[K     |███████                         | 163 kB 4.3 MB/s eta 0:00:01\r\u001b[K     |███████▍                        | 174 kB 4.3 MB/s eta 0:00:01\r\u001b[K     |███████▉                        | 184 kB 4.3 MB/s eta 0:00:01\r\u001b[K     |████████▎                       | 194 kB 4.3 MB/s eta 0:00:01\r\u001b[K     |████████▊                       | 204 kB 4.3 MB/s eta 0:00:01\r\u001b[K     |█████████▏                      | 215 kB 4.3 MB/s eta 0:00:01\r\u001b[K     |█████████▌                      | 225 kB 4.3 MB/s eta 0:00:01\r\u001b[K     |██████████                      | 235 kB 4.3 MB/s eta 0:00:01\r\u001b[K     |██████████▍                     | 245 kB 4.3 MB/s eta 0:00:01\r\u001b[K     |██████████▉                     | 256 kB 4.3 MB/s eta 0:00:01\r\u001b[K     |███████████▎                    | 266 kB 4.3 MB/s eta 0:00:01\r\u001b[K     |███████████▊                    | 276 kB 4.3 MB/s eta 0:00:01\r\u001b[K     |████████████▏                   | 286 kB 4.3 MB/s eta 0:00:01\r\u001b[K     |████████████▋                   | 296 kB 4.3 MB/s eta 0:00:01\r\u001b[K     |█████████████                   | 307 kB 4.3 MB/s eta 0:00:01\r\u001b[K     |█████████████▌                  | 317 kB 4.3 MB/s eta 0:00:01\r\u001b[K     |██████████████                  | 327 kB 4.3 MB/s eta 0:00:01\r\u001b[K     |██████████████▎                 | 337 kB 4.3 MB/s eta 0:00:01\r\u001b[K     |██████████████▊                 | 348 kB 4.3 MB/s eta 0:00:01\r\u001b[K     |███████████████▏                | 358 kB 4.3 MB/s eta 0:00:01\r\u001b[K     |███████████████▋                | 368 kB 4.3 MB/s eta 0:00:01\r\u001b[K     |████████████████                | 378 kB 4.3 MB/s eta 0:00:01\r\u001b[K     |████████████████▌               | 389 kB 4.3 MB/s eta 0:00:01\r\u001b[K     |█████████████████               | 399 kB 4.3 MB/s eta 0:00:01\r\u001b[K     |█████████████████▍              | 409 kB 4.3 MB/s eta 0:00:01\r\u001b[K     |█████████████████▉              | 419 kB 4.3 MB/s eta 0:00:01\r\u001b[K     |██████████████████▎             | 430 kB 4.3 MB/s eta 0:00:01\r\u001b[K     |██████████████████▊             | 440 kB 4.3 MB/s eta 0:00:01\r\u001b[K     |███████████████████             | 450 kB 4.3 MB/s eta 0:00:01\r\u001b[K     |███████████████████▌            | 460 kB 4.3 MB/s eta 0:00:01\r\u001b[K     |████████████████████            | 471 kB 4.3 MB/s eta 0:00:01\r\u001b[K     |████████████████████▍           | 481 kB 4.3 MB/s eta 0:00:01\r\u001b[K     |████████████████████▉           | 491 kB 4.3 MB/s eta 0:00:01\r\u001b[K     |█████████████████████▎          | 501 kB 4.3 MB/s eta 0:00:01\r\u001b[K     |█████████████████████▊          | 512 kB 4.3 MB/s eta 0:00:01\r\u001b[K     |██████████████████████▏         | 522 kB 4.3 MB/s eta 0:00:01\r\u001b[K     |██████████████████████▋         | 532 kB 4.3 MB/s eta 0:00:01\r\u001b[K     |███████████████████████         | 542 kB 4.3 MB/s eta 0:00:01\r\u001b[K     |███████████████████████▌        | 552 kB 4.3 MB/s eta 0:00:01\r\u001b[K     |███████████████████████▉        | 563 kB 4.3 MB/s eta 0:00:01\r\u001b[K     |████████████████████████▎       | 573 kB 4.3 MB/s eta 0:00:01\r\u001b[K     |████████████████████████▊       | 583 kB 4.3 MB/s eta 0:00:01\r\u001b[K     |█████████████████████████▏      | 593 kB 4.3 MB/s eta 0:00:01\r\u001b[K     |█████████████████████████▋      | 604 kB 4.3 MB/s eta 0:00:01\r\u001b[K     |██████████████████████████      | 614 kB 4.3 MB/s eta 0:00:01\r\u001b[K     |██████████████████████████▌     | 624 kB 4.3 MB/s eta 0:00:01\r\u001b[K     |███████████████████████████     | 634 kB 4.3 MB/s eta 0:00:01\r\u001b[K     |███████████████████████████▍    | 645 kB 4.3 MB/s eta 0:00:01\r\u001b[K     |███████████████████████████▉    | 655 kB 4.3 MB/s eta 0:00:01\r\u001b[K     |████████████████████████████▎   | 665 kB 4.3 MB/s eta 0:00:01\r\u001b[K     |████████████████████████████▋   | 675 kB 4.3 MB/s eta 0:00:01\r\u001b[K     |█████████████████████████████   | 686 kB 4.3 MB/s eta 0:00:01\r\u001b[K     |█████████████████████████████▌  | 696 kB 4.3 MB/s eta 0:00:01\r\u001b[K     |██████████████████████████████  | 706 kB 4.3 MB/s eta 0:00:01\r\u001b[K     |██████████████████████████████▍ | 716 kB 4.3 MB/s eta 0:00:01\r\u001b[K     |██████████████████████████████▉ | 727 kB 4.3 MB/s eta 0:00:01\r\u001b[K     |███████████████████████████████▎| 737 kB 4.3 MB/s eta 0:00:01\r\u001b[K     |███████████████████████████████▊| 747 kB 4.3 MB/s eta 0:00:01\r\u001b[K     |████████████████████████████████| 754 kB 4.3 MB/s \n",
            "\u001b[?25hRequirement already satisfied: numpy in /usr/local/lib/python3.7/dist-packages (from transformers==3.0.0) (1.19.5)\n",
            "Collecting tokenizers==0.8.0-rc4\n",
            "  Downloading tokenizers-0.8.0rc4-cp37-cp37m-manylinux1_x86_64.whl (3.0 MB)\n",
            "\u001b[K     |████████████████████████████████| 3.0 MB 18.5 MB/s \n",
            "\u001b[?25hRequirement already satisfied: requests in /usr/local/lib/python3.7/dist-packages (from transformers==3.0.0) (2.23.0)\n",
            "Collecting sentencepiece\n",
            "  Downloading sentencepiece-0.1.96-cp37-cp37m-manylinux_2_17_x86_64.manylinux2014_x86_64.whl (1.2 MB)\n",
            "\u001b[K     |████████████████████████████████| 1.2 MB 40.6 MB/s \n",
            "\u001b[?25hRequirement already satisfied: packaging in /usr/local/lib/python3.7/dist-packages (from transformers==3.0.0) (21.2)\n",
            "Requirement already satisfied: filelock in /usr/local/lib/python3.7/dist-packages (from transformers==3.0.0) (3.3.2)\n",
            "Requirement already satisfied: tqdm>=4.27 in /usr/local/lib/python3.7/dist-packages (from transformers==3.0.0) (4.62.3)\n",
            "Collecting sacremoses\n",
            "  Downloading sacremoses-0.0.46-py3-none-any.whl (895 kB)\n",
            "\u001b[K     |████████████████████████████████| 895 kB 50.5 MB/s \n",
            "\u001b[?25hRequirement already satisfied: regex!=2019.12.17 in /usr/local/lib/python3.7/dist-packages (from transformers==3.0.0) (2019.12.20)\n",
            "Requirement already satisfied: pyparsing<3,>=2.0.2 in /usr/local/lib/python3.7/dist-packages (from packaging->transformers==3.0.0) (2.4.7)\n",
            "Requirement already satisfied: idna<3,>=2.5 in /usr/local/lib/python3.7/dist-packages (from requests->transformers==3.0.0) (2.10)\n",
            "Requirement already satisfied: chardet<4,>=3.0.2 in /usr/local/lib/python3.7/dist-packages (from requests->transformers==3.0.0) (3.0.4)\n",
            "Requirement already satisfied: certifi>=2017.4.17 in /usr/local/lib/python3.7/dist-packages (from requests->transformers==3.0.0) (2021.10.8)\n",
            "Requirement already satisfied: urllib3!=1.25.0,!=1.25.1,<1.26,>=1.21.1 in /usr/local/lib/python3.7/dist-packages (from requests->transformers==3.0.0) (1.24.3)\n",
            "Requirement already satisfied: click in /usr/local/lib/python3.7/dist-packages (from sacremoses->transformers==3.0.0) (7.1.2)\n",
            "Requirement already satisfied: six in /usr/local/lib/python3.7/dist-packages (from sacremoses->transformers==3.0.0) (1.15.0)\n",
            "Requirement already satisfied: joblib in /usr/local/lib/python3.7/dist-packages (from sacremoses->transformers==3.0.0) (1.1.0)\n",
            "Installing collected packages: tokenizers, sentencepiece, sacremoses, transformers\n",
            "Successfully installed sacremoses-0.0.46 sentencepiece-0.1.96 tokenizers-0.8.0rc4 transformers-3.0.0\n"
          ]
        }
      ]
    },
    {
      "cell_type": "code",
      "metadata": {
        "id": "tfsGfaWuYDhG"
      },
      "source": [
        "!pip install -q kaggle"
      ],
      "execution_count": 2,
      "outputs": []
    },
    {
      "cell_type": "code",
      "metadata": {
        "colab": {
          "base_uri": "https://localhost:8080/"
        },
        "id": "oNtRAtZfZWS3",
        "outputId": "3a90d07e-5abe-454d-ae50-9a94d236c8b9"
      },
      "source": [
        "!mkdir ~/.kaggle\n",
        "\n",
        "!cp kaggle.json ~/.kaggle/\n",
        "\n",
        "!chmod 600 ~/.kaggle/kaggle.json"
      ],
      "execution_count": 4,
      "outputs": [
        {
          "output_type": "stream",
          "name": "stdout",
          "text": [
            "mkdir: cannot create directory ‘/root/.kaggle’: File exists\n"
          ]
        }
      ]
    },
    {
      "cell_type": "code",
      "metadata": {
        "colab": {
          "base_uri": "https://localhost:8080/"
        },
        "id": "qZxvvfujZaAA",
        "outputId": "e25d3a7f-312a-4d91-c5d7-2bb405e5f9e5"
      },
      "source": [
        "!kaggle datasets list"
      ],
      "execution_count": 5,
      "outputs": [
        {
          "output_type": "stream",
          "name": "stdout",
          "text": [
            "Warning: Looks like you're using an outdated API Version, please consider updating (server 1.5.12 / client 1.5.4)\n",
            "ref                                                         title                                              size  lastUpdated          downloadCount  \n",
            "----------------------------------------------------------  ------------------------------------------------  -----  -------------------  -------------  \n",
            "gpreda/reddit-vaccine-myths                                 Reddit Vaccine Myths                              237KB  2021-11-10 18:11:20          15624  \n",
            "crowww/a-large-scale-fish-dataset                           A Large Scale Fish Dataset                          3GB  2021-04-28 17:03:01           9475  \n",
            "imsparsh/musicnet-dataset                                   MusicNet Dataset                                   22GB  2021-02-18 14:12:19           4266  \n",
            "dhruvildave/wikibooks-dataset                               Wikibooks Dataset                                   2GB  2021-10-22 10:48:21           3467  \n",
            "promptcloud/careerbuilder-job-listing-2020                  Careerbuilder Job Listing 2020                     42MB  2021-03-05 06:59:52           2634  \n",
            "nickuzmenkov/nih-chest-xrays-tfrecords                      NIH Chest X-rays TFRecords                         11GB  2021-03-09 04:49:23           1579  \n",
            "fatiimaezzahra/famous-iconic-women                          Famous Iconic Women                               838MB  2021-02-28 14:56:00           1836  \n",
            "alsgroup/end-als                                            End ALS Kaggle Challenge                           12GB  2021-04-08 12:16:37           1083  \n",
            "simiotic/github-code-snippets                               GitHub Code Snippets                                7GB  2021-03-03 11:34:39            477  \n",
            "mathurinache/twitter-edge-nodes                             Twitter Edge Nodes                                342MB  2021-03-08 06:43:04           1270  \n",
            "mathurinache/the-lj-speech-dataset                          The LJ Speech Dataset                               3GB  2021-02-15 09:19:54            467  \n",
            "coloradokb/dandelionimages                                  DandelionImages                                     4GB  2021-02-19 20:03:47           1011  \n",
            "stuartjames/lights                                          LightS: Light Specularity Dataset                  18GB  2021-02-18 14:32:26            201  \n",
            "imsparsh/accentdb-core-extended                             AccentDB - Core & Extended                          6GB  2021-02-17 14:22:54            176  \n",
            "nickuzmenkov/ranzcr-clip-kfold-tfrecords                    RANZCR CLiP KFold TFRecords                         2GB  2021-02-21 13:29:51            160  \n",
            "landrykezebou/lvzhdr-tone-mapping-benchmark-dataset-tmonet  LVZ-HDR Tone Mapping Benchmark Dataset (TMO-Net)   24GB  2021-03-01 05:03:40            227  \n",
            "datasnaek/youtube-new                                       Trending YouTube Video Statistics                 201MB  2019-06-03 00:56:47         157694  \n",
            "zynicide/wine-reviews                                       Wine Reviews                                       51MB  2017-11-27 17:08:04         148273  \n",
            "datasnaek/chess                                             Chess Game Dataset (Lichess)                        3MB  2017-09-04 03:09:09          24751  \n",
            "residentmario/ramen-ratings                                 Ramen Ratings                                      40KB  2018-01-11 16:04:39          29654  \n"
          ]
        }
      ]
    },
    {
      "cell_type": "code",
      "metadata": {
        "colab": {
          "base_uri": "https://localhost:8080/"
        },
        "id": "2e8r5c5BYORr",
        "outputId": "3fef2111-25fd-4238-89fd-acb10b6b1fce"
      },
      "source": [
        "!kaggle datasets download -d kotartemiy/topic-labeled-news-dataset --force"
      ],
      "execution_count": 6,
      "outputs": [
        {
          "output_type": "stream",
          "name": "stdout",
          "text": [
            "Downloading topic-labeled-news-dataset.zip to /content\n",
            " 53% 5.00M/9.45M [00:00<00:00, 8.84MB/s]\n",
            "100% 9.45M/9.45M [00:00<00:00, 14.9MB/s]\n"
          ]
        }
      ]
    },
    {
      "cell_type": "code",
      "metadata": {
        "colab": {
          "base_uri": "https://localhost:8080/"
        },
        "id": "h8HtWDmyYWCD",
        "outputId": "c395bb90-4725-4e30-a251-665ed4ec21a3"
      },
      "source": [
        "!unzip topic-labeled-news-dataset.zip\n",
        "!unzip topic-labeled-news-dataset.zip"
      ],
      "execution_count": 7,
      "outputs": [
        {
          "output_type": "stream",
          "name": "stdout",
          "text": [
            "Archive:  topic-labeled-news-dataset.zip\n",
            "  inflating: labelled_newscatcher_dataset.csv  \n",
            "Archive:  topic-labeled-news-dataset.zip\n",
            "replace labelled_newscatcher_dataset.csv? [y]es, [n]o, [A]ll, [N]one, [r]ename: r\n",
            "new name: train.csv\n",
            "  inflating: train.csv               \n"
          ]
        }
      ]
    },
    {
      "cell_type": "code",
      "metadata": {
        "colab": {
          "base_uri": "https://localhost:8080/"
        },
        "id": "CJJSUQiyatSG",
        "outputId": "8f0702fa-cde5-45b7-87f9-d3e68d1a7202"
      },
      "source": [
        "!head -n 10 train.csv"
      ],
      "execution_count": 8,
      "outputs": [
        {
          "output_type": "stream",
          "name": "stdout",
          "text": [
            "topic;link;domain;published_date;title;lang\n",
            "SCIENCE;https://www.eurekalert.org/pub_releases/2020-08/dbnl-acl080620.php;eurekalert.org;2020-08-06 13:59:45;A closer look at water-splitting's solar fuel potential;en\n",
            "SCIENCE;https://www.pulse.ng/news/world/an-irresistible-scent-makes-locusts-swarm-study-finds/jy784jw;pulse.ng;2020-08-12 15:14:19;An irresistible scent makes locusts swarm, study finds;en\n",
            "SCIENCE;https://www.express.co.uk/news/science/1322607/artificial-intelligence-warning-machine-learning-algorithm-social-media-data;express.co.uk;2020-08-13 21:01:00;Artificial intelligence warning: AI will know us better than we know ourselves;en\n",
            "SCIENCE;https://www.ndtv.com/world-news/glaciers-could-have-sculpted-mars-valleys-study-2273648;ndtv.com;2020-08-03 22:18:26;Glaciers Could Have Sculpted Mars Valleys: Study;en\n",
            "SCIENCE;https://www.thesun.ie/tech/5742187/perseid-meteor-shower-tonight-time-uk-see/;thesun.ie;2020-08-12 19:54:36;Perseid meteor shower 2020: What time and how to see the huge bright FIREBALLS over UK again tonight;en\n",
            "SCIENCE;https://interestingengineering.com/nasa-releases-in-depth-map-of-beirut-explosion-damage;interestingengineering.com;2020-08-08 11:05:45;NASA Releases In-Depth Map of Beirut Explosion Damage;en\n",
            "SCIENCE;https://www.thequint.com/tech-and-auto/spacex-nasa-demo-2-rocket-launch-set-for-saturday-how-to-watch;thequint.com;2020-05-28 09:09:46;SpaceX, NASA Demo-2 Rocket Launch Set for Saturday: How to Watch;en\n",
            "SCIENCE;https://www.thespacereview.com/article/4003/1;thespacereview.com;2020-08-10 22:48:23;Orbital space tourism set for rebirth in 2021;en\n",
            "SCIENCE;https://www.businessinsider.com/greenland-melting-ice-sheet-past-tipping-point-2020-8;businessinsider.com;2020-08-16 00:28:54;Greenland's melting ice sheet has 'passed the point of no return';en\n"
          ]
        }
      ]
    },
    {
      "cell_type": "code",
      "metadata": {
        "colab": {
          "base_uri": "https://localhost:8080/"
        },
        "id": "_06gyAtx1Sqy",
        "outputId": "ea6d1ea4-2020-49e9-d188-7272e4753e34"
      },
      "source": [
        "!wc -l train.csv"
      ],
      "execution_count": 9,
      "outputs": [
        {
          "output_type": "stream",
          "name": "stdout",
          "text": [
            "108775 train.csv\n"
          ]
        }
      ]
    },
    {
      "cell_type": "code",
      "metadata": {
        "id": "3LYq_cMXum6s"
      },
      "source": [
        "import os, sys, random\n",
        "import itertools\n",
        "\n",
        "import numpy as np\n",
        "import pandas as pd\n",
        "\n",
        "import torch\n",
        "from torch import optim\n",
        "import torch.nn.functional as F\n",
        "\n",
        "from tqdm import tqdm\n",
        "\n",
        "from transformers import BertForSequenceClassification, BertConfig, BertTokenizer\n",
        "from sklearn.feature_extraction.text import TfidfVectorizer\n",
        "from sklearn.metrics import accuracy_score, f1_score, recall_score, precision_score"
      ],
      "execution_count": 10,
      "outputs": []
    },
    {
      "cell_type": "code",
      "metadata": {
        "id": "YVrQAtPOu_ip"
      },
      "source": [
        "from torch.utils.data import Dataset, DataLoader\n",
        "\n",
        "class CustomDataset(Dataset):\n",
        "    NUM_LABELS = 8\n",
        "    \n",
        "    def __init__(self, dataset_path, tokenizer, split,row_indexes=None):\n",
        "        if (split=='train' or split=='dev'):\n",
        "          df = pd.read_csv(dataset_path,sep=\";\")\n",
        "          df['label'] = df['topic'].factorize()[0]\n",
        "          label_id_df = df[['topic', 'label']].drop_duplicates().sort_values('label')\n",
        "          label_to_id = dict(label_id_df.values)\n",
        "          id_to_label = dict(label_id_df[['label', 'topic']].values)\n",
        "        else:\n",
        "          df = pd.read_csv(dataset_path, sep=\";\")\n",
        "          df['label'] = 0\n",
        "        if(row_indexes != None):\n",
        "          df = df.iloc[row_indexes,:]\n",
        "          df.reset_index(drop=True, inplace=True) \n",
        "        df['title'] = df['title'].str.lower()\n",
        "\n",
        "        \n",
        "        self.data = df\n",
        "        self.tokenizer = tokenizer\n",
        "    \n",
        "    def __getitem__(self, index):\n",
        "        data = self.data.loc[index,:]\n",
        "        text, label = data['title'], data['label']\n",
        "        subwords = self.tokenizer(text, padding='max_length', truncation=True, max_length=360)\n",
        "        item = {key: torch.tensor(val) for key, val in subwords.items()}\n",
        "        item['labels'] = torch.tensor(label)\n",
        "        return item\n",
        "    \n",
        "    def __len__(self):\n",
        "        return len(self.data)"
      ],
      "execution_count": 11,
      "outputs": []
    },
    {
      "cell_type": "code",
      "metadata": {
        "id": "eCsjAkqHU17H"
      },
      "source": [
        "def set_seed(seed):\n",
        "    random.seed(seed)\n",
        "    np.random.seed(seed)\n",
        "    torch.manual_seed(seed)\n",
        "    torch.cuda.manual_seed(seed)\n",
        "set_seed(42)"
      ],
      "execution_count": 12,
      "outputs": []
    },
    {
      "cell_type": "code",
      "metadata": {
        "colab": {
          "base_uri": "https://localhost:8080/",
          "height": 218,
          "referenced_widgets": [
            "869715d90ffc4d1abf128ebc7e4cd057",
            "230aea2375f44787806853c8271e3f0e",
            "cf41ec5def7c44a0ba17c357892def30",
            "ca85212f90e54e42869281bfdd2a6bfd",
            "437fbe326f72456eb0bc595d9ca732ec",
            "09f7f850cfa74b2babbdf4468c30d6ff",
            "076412497f6248a9ae2c44991b4eaeb9",
            "66b73ed5986d4b60838d9da13c89fb98",
            "b70803663d7640108b7c1fa06baf9560",
            "315c972916b346e4a9450642abbdd1a6",
            "08f5a40449b4485895ae4cda4ccddcb9",
            "e7229b43ad8e4f72a084ebb56ea864e9",
            "b6dee7761a1842969233510818eb0327",
            "1d56a2a1df45427f8e37c5cf6846d87a",
            "b6808b73fc484d50a2d1a05dd945bdcf",
            "d4d7940125d04a8a92b3600a18904543",
            "5f804f246b54417a8f18265c47fb0411",
            "d4b423ace4a84551bf266e87d8fe130b",
            "ed49ce74013f49e796424aa86ae45795",
            "57f0086574b24a47846cc12e0e1dfcb1",
            "02158b73c2a04296853bb4bb334388e5",
            "b33ac4b334074ab19138e41de7e4448e",
            "9489720e2199494cb6c25301e3fe9c9f",
            "b3277997cf6d468aaf693ebce48984ea",
            "250cd40f481042c29629add68efe1085",
            "f21b323c32994f18a82435364d2e8dbf",
            "fe3b2477212c4d7ea339ff1f95c4660c",
            "f5c56bb85ad249c69d1b907f99a528c1",
            "2851b83b4e4441c48c88199ad866dcd7",
            "ca5986d766e340e092f20ec9a70b2056",
            "db0e809968054c10be9dfa8749dde3f1",
            "6cbb7588b2bc4ce5ae521e0c9cc97d32",
            "b0740cf89f7941d5859eb31d9bc80703"
          ]
        },
        "id": "T9HKF1O_gw5W",
        "outputId": "98308d71-74e7-4952-ee07-625cc9d0a62c"
      },
      "source": [
        "tokenizer = BertTokenizer.from_pretrained('bert-base-uncased')\n",
        "config = BertConfig.from_pretrained('bert-base-uncased')\n",
        "config.num_labels = CustomDataset.NUM_LABELS\n",
        "\n",
        "model = BertForSequenceClassification.from_pretrained('bert-base-uncased', config=config)"
      ],
      "execution_count": 13,
      "outputs": [
        {
          "output_type": "display_data",
          "data": {
            "application/vnd.jupyter.widget-view+json": {
              "model_id": "869715d90ffc4d1abf128ebc7e4cd057",
              "version_minor": 0,
              "version_major": 2
            },
            "text/plain": [
              "Downloading:   0%|          | 0.00/232k [00:00<?, ?B/s]"
            ]
          },
          "metadata": {}
        },
        {
          "output_type": "display_data",
          "data": {
            "application/vnd.jupyter.widget-view+json": {
              "model_id": "e7229b43ad8e4f72a084ebb56ea864e9",
              "version_minor": 0,
              "version_major": 2
            },
            "text/plain": [
              "Downloading:   0%|          | 0.00/433 [00:00<?, ?B/s]"
            ]
          },
          "metadata": {}
        },
        {
          "output_type": "display_data",
          "data": {
            "application/vnd.jupyter.widget-view+json": {
              "model_id": "9489720e2199494cb6c25301e3fe9c9f",
              "version_minor": 0,
              "version_major": 2
            },
            "text/plain": [
              "Downloading:   0%|          | 0.00/440M [00:00<?, ?B/s]"
            ]
          },
          "metadata": {}
        },
        {
          "output_type": "stream",
          "name": "stderr",
          "text": [
            "Some weights of the model checkpoint at bert-base-uncased were not used when initializing BertForSequenceClassification: ['cls.predictions.bias', 'cls.predictions.transform.dense.weight', 'cls.predictions.transform.dense.bias', 'cls.predictions.decoder.weight', 'cls.seq_relationship.weight', 'cls.seq_relationship.bias', 'cls.predictions.transform.LayerNorm.weight', 'cls.predictions.transform.LayerNorm.bias']\n",
            "- This IS expected if you are initializing BertForSequenceClassification from the checkpoint of a model trained on another task or with another architecture (e.g. initializing a BertForSequenceClassification model from a BertForPretraining model).\n",
            "- This IS NOT expected if you are initializing BertForSequenceClassification from the checkpoint of a model that you expect to be exactly identical (initializing a BertForSequenceClassification model from a BertForSequenceClassification model).\n",
            "Some weights of BertForSequenceClassification were not initialized from the model checkpoint at bert-base-uncased and are newly initialized: ['classifier.weight', 'classifier.bias']\n",
            "You should probably TRAIN this model on a down-stream task to be able to use it for predictions and inference.\n"
          ]
        }
      ]
    },
    {
      "cell_type": "code",
      "metadata": {
        "id": "lEBiC6rwAKBo"
      },
      "source": [
        "train_dataset_path = '/content/train.csv'\n",
        "dev_dataset_path = '/content/labelled_newscatcher_dataset.csv'\n",
        "\n",
        "train_dataset = CustomDataset(train_dataset_path, tokenizer, \"train\")\n",
        "dev_dataset = CustomDataset(dev_dataset_path, tokenizer, \"dev\")\n",
        "\n",
        "train_loader = DataLoader(dataset=train_dataset,  batch_size=8, shuffle=True) \n",
        "dev_loader = DataLoader(dataset=dev_dataset,  batch_size=8, shuffle=False)"
      ],
      "execution_count": 14,
      "outputs": []
    },
    {
      "cell_type": "code",
      "metadata": {
        "id": "oO8B7Nh70UrN"
      },
      "source": [
        "randomed_indexes = random.sample(range(0, 100000), 10000)\n",
        "train_indexes = randomed_indexes[:20000]\n",
        "dev_indexes = randomed_indexes[5000:]\n",
        "test_indexes = random.sample(range(0, 25000), 2000)"
      ],
      "execution_count": 15,
      "outputs": []
    },
    {
      "cell_type": "code",
      "metadata": {
        "colab": {
          "base_uri": "https://localhost:8080/"
        },
        "id": "-KXDkdlL0ZJt",
        "outputId": "103fed77-c556-4a8c-8f77-655215991833"
      },
      "source": [
        "train_dataset_path = '/content/train.csv'\n",
        "dev_dataset_path = '/content/labelled_newscatcher_dataset.csv'\n",
        "print(train_indexes)\n",
        "print(dev_indexes)\n",
        "train_dataset = CustomDataset(train_dataset_path, tokenizer, \"train\",train_indexes)\n",
        "dev_dataset = CustomDataset(dev_dataset_path, tokenizer, \"dev\",dev_indexes)\n",
        "\n",
        "train_loader = DataLoader(dataset=train_dataset,  batch_size=8, shuffle=True) \n",
        "dev_loader = DataLoader(dataset=dev_dataset,  batch_size=8, shuffle=False)"
      ],
      "execution_count": 16,
      "outputs": [
        {
          "output_type": "stream",
          "name": "stdout",
          "text": [
            "[83810, 14592, 3278, 97196, 36048, 32098, 29256, 18289, 96530, 13434, 88696, 97080, 71482, 11395, 77397, 55302, 4165, 3905, 12280, 28657, 30495, 66237, 78907, 3478, 73563, 26062, 93850, 85181, 91924, 71426, 54987, 28893, 58878, 77236, 36463, 851, 99458, 20926, 91506, 55392, 44597, 36421, 20379, 28221, 44118, 13396, 12156, 49797, 12676, 47052, 45082, 79131, 34671, 5695, 95647, 60217, 70284, 16361, 49615, 10328, 72357, 38427, 82397, 81070, 47400, 75674, 25203, 92349, 9116, 6006, 86673, 29871, 37930, 10458, 30512, 13238, 49823, 36434, 59429, 83320, 47819, 21319, 48520, 46566, 27460, 87841, 34993, 91988, 89593, 84939, 9358, 79840, 83227, 22431, 70010, 95568, 32087, 21417, 60589, 49735, 35382, 83886, 90198, 73000, 28785, 89733, 42504, 7331, 30021, 4207, 41347, 52581, 35093, 8675, 27653, 74341, 94098, 41245, 27869, 85909, 65435, 51856, 84259, 60142, 18726, 34718, 18301, 32325, 97647, 73579, 70644, 34438, 97912, 76622, 56155, 76484, 52350, 47447, 28746, 18131, 66784, 64686, 11915, 99061, 6175, 14371, 20033, 82240, 20969, 89192, 55333, 78172, 8326, 50432, 50019, 78104, 61348, 69352, 32953, 72512, 1504, 89166, 94466, 15014, 89353, 70381, 98419, 34973, 84012, 44587, 14621, 38469, 56985, 20730, 59470, 425, 94646, 94329, 34522, 65612, 99871, 23416, 66542, 13947, 81959, 39117, 83748, 66540, 79818, 26071, 20032, 49009, 99943, 21174, 70697, 69514, 74, 78504, 42487, 64042, 2552, 14662, 47576, 40306, 31385, 7592, 31571, 74364, 10322, 11226, 95932, 63699, 9071, 99693, 69822, 16483, 16828, 86474, 62296, 72063, 21643, 34741, 69163, 79507, 55461, 27760, 70686, 98994, 95673, 90422, 26365, 93447, 40857, 52296, 88039, 85180, 48944, 57422, 67839, 59177, 15860, 32493, 29451, 8392, 44313, 2757, 77110, 72603, 30161, 77128, 28864, 942, 9305, 92778, 82719, 7716, 30007, 8834, 4117, 43309, 9287, 67391, 31195, 36500, 87684, 63624, 28080, 70678, 17342, 94811, 74847, 75525, 61953, 31850, 61993, 53354, 24957, 12363, 12704, 86374, 56498, 46438, 55519, 53883, 61213, 95561, 7100, 88259, 85649, 84696, 12899, 7944, 52772, 95448, 44473, 14322, 32591, 25112, 24931, 70292, 58800, 18373, 55296, 24050, 36509, 60637, 32742, 9880, 58082, 72132, 12833, 6630, 85477, 70855, 1934, 12224, 98771, 30982, 21798, 53269, 63653, 63092, 28016, 52565, 7685, 21579, 49672, 282, 51173, 34760, 59638, 37388, 55444, 91303, 95748, 72845, 86752, 94163, 63788, 20289, 24890, 38890, 28534, 7665, 75914, 96434, 71066, 7989, 98038, 41104, 7492, 6572, 76569, 62493, 65909, 69615, 20635, 7455, 66562, 10500, 24356, 8981, 77992, 8907, 88501, 30828, 52923, 15713, 74668, 32271, 75880, 77924, 5209, 81183, 10745, 54948, 86163, 76503, 74085, 68522, 41467, 34179, 26772, 87782, 93872, 41180, 31285, 34814, 51876, 17154, 84607, 39321, 59929, 41441, 98548, 9508, 1220, 60068, 81416, 73792, 13104, 9602, 70468, 27938, 66307, 17361, 45745, 9016, 32018, 48434, 37353, 20676, 57433, 71200, 92214, 39651, 80173, 85717, 69329, 1025, 87538, 72692, 39240, 86951, 13577, 17601, 34664, 15129, 14029, 97310, 20374, 35697, 36930, 79276, 27607, 94058, 44942, 26685, 90111, 83130, 34600, 66244, 64032, 32914, 6658, 12097, 83136, 55518, 36265, 5778, 464, 43719, 17146, 83507, 34335, 21178, 97154, 57912, 72309, 92493, 56057, 73519, 1267, 14663, 9862, 90573, 19536, 71511, 4722, 48393, 76350, 72420, 19410, 56333, 16704, 5482, 40404, 47795, 5229, 46898, 27535, 89399, 32706, 87416, 13473, 46357, 73385, 53264, 81351, 98235, 20257, 31029, 21299, 23206, 54040, 3248, 23509, 96542, 43540, 53964, 87806, 96345, 32527, 34970, 20866, 91917, 14168, 50140, 5075, 61694, 29154, 26158, 60332, 45830, 40001, 29831, 29219, 3101, 86511, 25313, 52227, 43025, 36517, 9099, 36585, 46025, 84080, 66768, 52386, 89065, 70282, 43404, 3617, 15118, 34237, 23405, 76099, 34795, 5014, 14208, 78193, 56959, 45309, 95491, 41114, 57199, 79457, 67033, 15157, 50488, 75574, 24914, 33386, 5817, 92901, 57154, 221, 68146, 70575, 90027, 94297, 97248, 96605, 87900, 25825, 47739, 56531, 9171, 87062, 43279, 81678, 41145, 16334, 94339, 39363, 66469, 40538, 87410, 53528, 42753, 52743, 91384, 38752, 72667, 16683, 25144, 55108, 87153, 49695, 88777, 98059, 22810, 80676, 74593, 39446, 53225, 71819, 53, 39829, 37606, 27549, 56346, 76019, 79516, 85813, 42237, 60946, 57905, 57954, 88555, 28010, 67000, 62021, 96463, 22241, 86356, 11114, 37196, 67561, 87012, 82960, 81167, 43933, 12240, 98453, 30784, 88184, 40687, 29444, 26100, 19313, 3201, 6057, 32092, 62277, 80120, 9545, 59692, 54321, 82544, 75454, 25485, 94155, 91272, 50328, 64799, 52383, 31979, 19342, 85990, 90128, 726, 98430, 13970, 55724, 28683, 23053, 91214, 67889, 60889, 6582, 73060, 32662, 15906, 59829, 17477, 60901, 87500, 69616, 73259, 78047, 41588, 98992, 58008, 80301, 94276, 66162, 55933, 71810, 58446, 20861, 97472, 62216, 58991, 33972, 98536, 32406, 83579, 36347, 68327, 63517, 82149, 31358, 35992, 57654, 10155, 93525, 37450, 30735, 35614, 44020, 41904, 70798, 10561, 18136, 19769, 30311, 50205, 90957, 20028, 92591, 28043, 8418, 54377, 53424, 43369, 71121, 61069, 54496, 8161, 27110, 55069, 51049, 76556, 91163, 2560, 75456, 49857, 62518, 772, 46105, 39139, 98759, 51116, 54921, 70545, 97978, 96289, 71582, 79069, 28906, 63993, 28760, 35774, 57125, 63654, 3804, 50968, 44057, 87670, 89016, 52994, 94919, 21632, 61261, 16728, 81560, 70008, 3534, 51645, 77580, 73975, 86900, 3552, 11003, 84246, 56179, 17786, 60515, 23819, 6590, 34099, 49689, 42906, 27742, 59598, 42840, 44236, 99775, 49692, 36471, 98567, 55255, 33065, 10735, 61644, 2540, 98176, 70702, 6826, 45870, 29389, 85215, 8993, 85426, 5276, 98858, 4067, 32411, 26130, 2671, 81439, 19973, 31266, 16544, 62070, 87747, 14993, 73920, 28569, 60952, 91680, 33586, 48351, 21992, 79415, 79593, 98032, 94156, 15012, 21465, 40768, 75849, 3365, 40888, 75470, 88781, 49192, 51990, 93718, 25995, 9961, 77607, 90520, 82213, 31830, 13356, 91382, 39529, 89687, 78697, 15866, 74177, 5383, 45508, 69827, 56148, 86706, 48571, 9038, 66317, 84874, 44725, 1658, 55057, 64251, 13833, 56822, 47472, 83307, 60258, 92708, 20052, 57080, 23086, 96180, 68386, 85256, 35400, 80728, 70539, 63372, 60931, 57091, 95817, 77656, 35179, 42245, 32177, 11359, 36559, 59087, 31963, 98366, 60910, 74691, 79997, 87580, 49674, 44092, 3761, 64789, 42600, 23834, 63904, 27802, 46507, 33862, 44608, 36655, 78139, 91905, 36211, 72848, 1330, 67715, 25042, 11221, 31635, 94381, 53271, 64038, 72768, 99374, 31499, 90519, 62402, 84659, 93302, 64332, 58743, 2260, 12196, 38566, 29045, 53005, 90673, 31890, 40135, 87026, 76225, 48368, 62031, 72544, 69588, 45056, 55771, 97771, 72140, 43357, 46112, 92124, 59473, 35509, 40189, 32951, 30217, 15814, 94540, 25242, 41359, 15670, 97370, 70236, 99901, 90461, 24267, 25105, 28361, 96810, 63464, 36241, 94972, 77278, 99641, 68765, 78222, 37093, 13176, 25443, 38829, 29816, 47301, 23519, 39618, 1854, 92801, 16591, 35954, 5965, 7146, 72529, 38290, 91411, 16551, 83606, 98669, 64340, 13446, 1607, 75243, 37268, 61524, 62746, 57733, 44657, 24164, 6734, 33092, 62616, 14953, 8564, 52521, 64454, 9710, 75631, 82502, 89974, 7026, 19887, 19555, 73772, 39824, 11164, 32530, 15525, 73147, 54548, 79471, 78135, 81057, 29581, 68494, 49856, 59049, 58028, 38974, 77139, 56207, 40026, 74531, 81399, 7894, 79905, 97004, 13006, 99973, 27235, 81987, 27659, 34687, 86563, 10641, 20585, 31439, 22782, 72350, 9838, 20517, 350, 53545, 59048, 90357, 77832, 61592, 38175, 4278, 30340, 37762, 92662, 37056, 92141, 59510, 9329, 90096, 30595, 34675, 81927, 77304, 86662, 25928, 55723, 15043, 71376, 29466, 84886, 19528, 34816, 18643, 9359, 7816, 21747, 40319, 77993, 98167, 74607, 37828, 57560, 16299, 61433, 90266, 39857, 91715, 52757, 35683, 65597, 70776, 64722, 57377, 10543, 78385, 5224, 56626, 96276, 42247, 79129, 32816, 3390, 11970, 30005, 88381, 75392, 76955, 2719, 88117, 35325, 75529, 5273, 99125, 22962, 61669, 68021, 85394, 57963, 36458, 23788, 76720, 57132, 83202, 64451, 11959, 61605, 45607, 53523, 43687, 42081, 87835, 13710, 21079, 43228, 53955, 90921, 64942, 37777, 86846, 52488, 99680, 72102, 4809, 59614, 11542, 41224, 33082, 42372, 15194, 52976, 67449, 150, 86200, 71118, 60552, 54165, 7104, 24586, 67952, 47419, 81609, 99148, 65338, 81973, 57939, 99613, 6764, 26680, 35003, 71987, 17172, 37752, 57424, 91521, 63532, 15915, 3783, 82578, 79806, 31365, 93032, 20758, 40730, 72199, 1792, 72384, 53476, 12217, 14871, 60482, 15396, 84896, 20181, 65323, 93926, 38254, 66698, 92459, 35838, 54459, 63242, 61894, 31946, 59871, 72255, 18958, 50277, 24983, 78561, 66616, 97818, 17892, 9150, 36208, 54387, 44548, 66550, 35018, 336, 37072, 95164, 39132, 76931, 76011, 86499, 64178, 19476, 58529, 70592, 63483, 45236, 43573, 72340, 99991, 71228, 49441, 59682, 42176, 24727, 91422, 31300, 74946, 50196, 30613, 53841, 5720, 41704, 97609, 92435, 49968, 50604, 86991, 85461, 19936, 64923, 4852, 16547, 65836, 77356, 43515, 13154, 57711, 13069, 68937, 59890, 2011, 94692, 18894, 53736, 85823, 20232, 9807, 61537, 34737, 44375, 81691, 90794, 52098, 85175, 10527, 43065, 88389, 69942, 49808, 41505, 82155, 94203, 99536, 63956, 70912, 4705, 80931, 8968, 30771, 82727, 89705, 37667, 29817, 97880, 11846, 56881, 12903, 99663, 83066, 92260, 13173, 58153, 21805, 90964, 39251, 3794, 6028, 42516, 7355, 38452, 46984, 49131, 56450, 19080, 32007, 69621, 54008, 89364, 23600, 22280, 22946, 10350, 79887, 81226, 89539, 31566, 65230, 76435, 18758, 30433, 60443, 83611, 33289, 60236, 33466, 87404, 1231, 60981, 37700, 88815, 71643, 20706, 9681, 57898, 45293, 77014, 39210, 83746, 55615, 90480, 32780, 59878, 39599, 26111, 50422, 63335, 13979, 31091, 49986, 74963, 47049, 75341, 38780, 91655, 38696, 2875, 86275, 51879, 35976, 1061, 89889, 97605, 6428, 79482, 97671, 65107, 37512, 30162, 79569, 46179, 28705, 83442, 24920, 81381, 32850, 88835, 99035, 94493, 86400, 89241, 17927, 82345, 12735, 82242, 84717, 5167, 40492, 57779, 4373, 75965, 47823, 95991, 17224, 11813, 38680, 42823, 97973, 54460, 23021, 26318, 17322, 70701, 47953, 69579, 65771, 35720, 21567, 33681, 63156, 38684, 97853, 44396, 15095, 61385, 9869, 18449, 98848, 29571, 88647, 94924, 88395, 52089, 73048, 47942, 11836, 51717, 1824, 34663, 70329, 16199, 59609, 48311, 88188, 98174, 88125, 34362, 76619, 49941, 83695, 48689, 14201, 88452, 30647, 61797, 3280, 81205, 73584, 42992, 79964, 29015, 84889, 8285, 83283, 60852, 91891, 39608, 85097, 53516, 15292, 18320, 5943, 4877, 39893, 64569, 15220, 12739, 30775, 70457, 17781, 50940, 59459, 48629, 87881, 97404, 91289, 70804, 54935, 76983, 97290, 95236, 20253, 54379, 85841, 12978, 64139, 80694, 53492, 36666, 4288, 90476, 48566, 28477, 58115, 58287, 30947, 47537, 13022, 89873, 48147, 71364, 84518, 47012, 7936, 52184, 36160, 24878, 16011, 59600, 12015, 86870, 27801, 84109, 83819, 78269, 2799, 6629, 43713, 31925, 16505, 74000, 26896, 8992, 72641, 27152, 76858, 28305, 30539, 43064, 19340, 78116, 371, 36342, 18964, 17038, 70807, 32853, 22871, 14408, 86646, 3379, 17275, 1947, 46955, 31186, 77182, 42437, 2068, 22838, 34782, 6868, 16614, 97218, 55176, 68955, 14896, 97735, 8330, 62422, 58756, 47453, 67271, 77812, 14293, 59245, 66039, 29038, 80623, 5683, 95321, 86363, 68347, 39535, 60036, 84323, 4082, 7972, 62781, 52640, 55872, 89928, 14150, 64260, 93375, 58138, 9632, 10589, 42219, 79730, 19442, 8609, 16540, 36046, 81830, 82978, 76724, 71874, 93343, 42622, 49925, 78301, 69541, 38652, 59469, 66263, 79354, 56387, 12999, 91983, 14996, 85814, 85316, 72264, 94481, 28183, 56370, 59186, 29949, 54239, 44424, 59441, 52262, 54524, 95631, 12463, 40966, 55936, 40963, 87177, 33408, 49060, 20006, 90023, 62163, 8799, 11957, 11188, 12219, 56606, 12656, 97594, 96835, 48843, 17054, 72924, 7861, 76869, 73608, 73620, 43207, 87819, 16021, 53845, 46346, 87207, 98341, 55435, 94510, 6743, 78696, 40953, 46090, 13579, 75748, 66507, 27884, 20280, 86079, 63201, 29392, 14184, 45890, 72910, 48176, 15058, 99956, 36512, 75248, 29643, 56244, 73526, 81490, 80422, 88470, 84239, 72972, 3441, 79822, 86223, 90894, 35054, 23647, 35818, 92104, 99930, 40499, 44541, 46009, 800, 23777, 18776, 74228, 86159, 52531, 9120, 18595, 97120, 82991, 4018, 12026, 97794, 69531, 28197, 49308, 55028, 59460, 44681, 20631, 48503, 40846, 94581, 42517, 74395, 78148, 11135, 6895, 20392, 20632, 98885, 80981, 6522, 88338, 10693, 35665, 58079, 86761, 55576, 63656, 79570, 54287, 35804, 28255, 98951, 67154, 14918, 45242, 56349, 14534, 37125, 88895, 88930, 77743, 63783, 69066, 87442, 40425, 5952, 28903, 51807, 78554, 7180, 1007, 26794, 39507, 27686, 17987, 33491, 37938, 43007, 15726, 1013, 65193, 56446, 23028, 16932, 49834, 69806, 92231, 65570, 73233, 87562, 46421, 9447, 52044, 97260, 5544, 57176, 2456, 60260, 10205, 41033, 75465, 56267, 75156, 53008, 92995, 83904, 54747, 37947, 15096, 53088, 2733, 42568, 22527, 81018, 60305, 90388, 47428, 11551, 57240, 13875, 31891, 57104, 77184, 52487, 68676, 10308, 51873, 40668, 97754, 44500, 29041, 43655, 22037, 10011, 66910, 82998, 14945, 69547, 66840, 25415, 45793, 46019, 95339, 84599, 19358, 30968, 13474, 19194, 33550, 25856, 22740, 78957, 20036, 99642, 99503, 85918, 9876, 23218, 82306, 64764, 60811, 98886, 73889, 99598, 75952, 58838, 89277, 73989, 84278, 83269, 81857, 42363, 82210, 41436, 19786, 57640, 8950, 61462, 57961, 82756, 39691, 36002, 77518, 7362, 46129, 66497, 9724, 40685, 60521, 59233, 4929, 7456, 48331, 37627, 10057, 84497, 11835, 80610, 77867, 66462, 50394, 60648, 76064, 72655, 96851, 5376, 58947, 74928, 85437, 24672, 42143, 79299, 62341, 65715, 19773, 8109, 59050, 13566, 45015, 93626, 11053, 66132, 84689, 22617, 5130, 32472, 92749, 57595, 68690, 68517, 79928, 20807, 47696, 48870, 37079, 50779, 53578, 44350, 88984, 78366, 6863, 82691, 84843, 43863, 8639, 43213, 12387, 73133, 88916, 50667, 37243, 33029, 94861, 86057, 78997, 19709, 43694, 10682, 76380, 86980, 18537, 45851, 40662, 91551, 86787, 51374, 16901, 92908, 11104, 40577, 49372, 84343, 43054, 16750, 87833, 92121, 96832, 89838, 68995, 12249, 84675, 87878, 55496, 66648, 47425, 2389, 47526, 40483, 23627, 28074, 44791, 63736, 25166, 29693, 18030, 20308, 10114, 38770, 13256, 66543, 70748, 96815, 69013, 4947, 86760, 44140, 81006, 17176, 78282, 49377, 20218, 21266, 23703, 90812, 81885, 21697, 94526, 57366, 5726, 53852, 47749, 88652, 94317, 31133, 58222, 80031, 37346, 98617, 98112, 58841, 30671, 69993, 31348, 40562, 61474, 25430, 48213, 88907, 74766, 57749, 60513, 36932, 50052, 65916, 69135, 54874, 21241, 26174, 79254, 18140, 32768, 6839, 84040, 62991, 48655, 72684, 93244, 67621, 16341, 37363, 10993, 21012, 35755, 58893, 67286, 57340, 12021, 29102, 59130, 45820, 3495, 54381, 6980, 51964, 65799, 49015, 30903, 50615, 10696, 49140, 29430, 3694, 41770, 12987, 93677, 85191, 43947, 19142, 18035, 5020, 37601, 61925, 91235, 18191, 99462, 92476, 61487, 58799, 80654, 688, 10384, 2490, 33544, 28266, 19597, 71932, 95320, 79807, 69176, 55476, 14573, 31147, 39472, 15970, 6258, 31252, 55027, 81633, 59914, 8232, 14530, 65513, 78215, 70261, 2154, 82831, 67551, 75372, 31711, 94181, 18818, 38177, 56261, 205, 80584, 46244, 31531, 74798, 54600, 24551, 87080, 87584, 68614, 47265, 8870, 68951, 71313, 66496, 66535, 72633, 2665, 51177, 61621, 5706, 83318, 50709, 48929, 33246, 97952, 2128, 46805, 8855, 45193, 31604, 96068, 86127, 82346, 13587, 76271, 96362, 99179, 43583, 17486, 5811, 46176, 71567, 44374, 84252, 22949, 89742, 60899, 91146, 62722, 82802, 23891, 17675, 8270, 93853, 59988, 4847, 38462, 26422, 5741, 26144, 5492, 41365, 40642, 67552, 52196, 71176, 62049, 33202, 4799, 98735, 84790, 25048, 37501, 46789, 6265, 85948, 43506, 35811, 16315, 48237, 57272, 52431, 97426, 57637, 50678, 44438, 24486, 65038, 90710, 65211, 48148, 68062, 34959, 10828, 95300, 55640, 10345, 56440, 78964, 23652, 71496, 38504, 42101, 13447, 10494, 42981, 86628, 38750, 40173, 58447, 78986, 94065, 55851, 21842, 90408, 58183, 46077, 58606, 5551, 95265, 46210, 80589, 57008, 35986, 83816, 7518, 9835, 87973, 83560, 53242, 47619, 67251, 98290, 89051, 4081, 18714, 79635, 88878, 57432, 4561, 16545, 8812, 30932, 84562, 48015, 47467, 50181, 74349, 4244, 79310, 20111, 89006, 58972, 48623, 48760, 58188, 10077, 75225, 18047, 69397, 48096, 52171, 41207, 85139, 36528, 32717, 14869, 3396, 96426, 24385, 65410, 67861, 50723, 73619, 15435, 34311, 34116, 92279, 58493, 28124, 80199, 37431, 90961, 64382, 26237, 16074, 17790, 9706, 59250, 22630, 93502, 58341, 11506, 89381, 41889, 87535, 45537, 93000, 8511, 72089, 71063, 38058, 39315, 20644, 93298, 93003, 91779, 83584, 22818, 47381, 66683, 29391, 15907, 26342, 18202, 64752, 3445, 47303, 72616, 75009, 48353, 61263, 72305, 17009, 80209, 11300, 8617, 40539, 52187, 93969, 94223, 62739, 68903, 53843, 53665, 75353, 9666, 16426, 41553, 84192, 9720, 58979, 61057, 89143, 67811, 45156, 16821, 72260, 83859, 77042, 23850, 16912, 56704, 65911, 7263, 16274, 67908, 20056, 39862, 21581, 21229, 42291, 92973, 29552, 45353, 68012, 37230, 10336, 32847, 25729, 83238, 35972, 16406, 81922, 80534, 69924, 12245, 65873, 84015, 22103, 77569, 76106, 20210, 22439, 86341, 81851, 94454, 79316, 44252, 73874, 5399, 3718, 10646, 5958, 84076, 75598, 34688, 85344, 27631, 74991, 54602, 81016, 83753, 3969, 65278, 82203, 71509, 37967, 84136, 39596, 63300, 32096, 89783, 53227, 38985, 59446, 9564, 90257, 7852, 20719, 57619, 54476, 63471, 60875, 26741, 44589, 18830, 40970, 94157, 41853, 96233, 45268, 52260, 17139, 99701, 48567, 67499, 73616, 13917, 41827, 31685, 61141, 16059, 35058, 58929, 32495, 18465, 12689, 6632, 38038, 50351, 80658, 54805, 32541, 20932, 42917, 75718, 94519, 40988, 24881, 20885, 65308, 67466, 61186, 65373, 40441, 65191, 3037, 11802, 51543, 66249, 59930, 31552, 28199, 76460, 46254, 6377, 6624, 36877, 64866, 78317, 85755, 88148, 61680, 37453, 70345, 1071, 14089, 56482, 17555, 95355, 47943, 52855, 47964, 5930, 52505, 6705, 74747, 73638, 25513, 47516, 37827, 9637, 50639, 66093, 59028, 72070, 36663, 81689, 89181, 80090, 15572, 16864, 12672, 51629, 48915, 44444, 73116, 47920, 98954, 18909, 26090, 78966, 66731, 52610, 65546, 5938, 5100, 17961, 93531, 43652, 62094, 68069, 59898, 19521, 79463, 67568, 18321, 42987, 80356, 41750, 51505, 80805, 96904, 39221, 77820, 44089, 66494, 66809, 69774, 64205, 92895, 73783, 39294, 62245, 2180, 48281, 43416, 88317, 14366, 54596, 76507, 40327, 95069, 90183, 82478, 3492, 78238, 62205, 34803, 85929, 75821, 75711, 29824, 94555, 6731, 76483, 62973, 22349, 68712, 82447, 81230, 49832, 19369, 89224, 31745, 4138, 75047, 91818, 14404, 25006, 2482, 57807, 41116, 54890, 19848, 54127, 90505, 26724, 53788, 65774, 80147, 61814, 96447, 95342, 8163, 92507, 18098, 67984, 27176, 73516, 42604, 86799, 62701, 68875, 49391, 41124, 22699, 60249, 69878, 44869, 71601, 46437, 88587, 89226, 84319, 90873, 34650, 79963, 63462, 25200, 32311, 36569, 73149, 39124, 29473, 39008, 37880, 92392, 27168, 90471, 92404, 64094, 41555, 62888, 45718, 73464, 94589, 35842, 37721, 15974, 75166, 88686, 71197, 49767, 51712, 45237, 19198, 38070, 5513, 93603, 10358, 45398, 57983, 85979, 33612, 97955, 62793, 28047, 26485, 35537, 73664, 91248, 35601, 17992, 14316, 80698, 97110, 76917, 31363, 31779, 6653, 87796, 69604, 29579, 83616, 30518, 6880, 13133, 54172, 43292, 94025, 61918, 13178, 89285, 18018, 679, 72135, 20701, 53334, 85575, 62350, 62580, 85267, 26143, 99078, 37649, 42096, 37409, 7754, 11725, 85498, 75252, 30437, 70143, 96821, 94780, 4888, 54773, 23040, 4763, 52034, 64930, 24420, 98173, 37941, 4910, 1214, 39110, 74443, 79007, 14064, 43914, 37298, 59552, 84058, 71211, 68723, 64738, 17589, 66088, 61344, 35761, 25272, 14764, 43343, 21298, 95829, 60150, 84972, 33720, 94188, 24405, 1846, 96549, 44185, 38669, 74420, 99258, 25318, 23002, 80079, 83719, 53148, 56059, 67538, 42982, 11368, 52538, 87720, 12502, 24219, 18430, 42415, 32512, 895, 34181, 50275, 30870, 58554, 98796, 34995, 43204, 39576, 76344, 94749, 75088, 1498, 34282, 85679, 47127, 90802, 30972, 8142, 87528, 15495, 61000, 40213, 20934, 53138, 89925, 65866, 92216, 40760, 90477, 15389, 83717, 38671, 48174, 80560, 28947, 28721, 17507, 62676, 20078, 59634, 98007, 79395, 48971, 54505, 92004, 71989, 61712, 99267, 70453, 87044, 28627, 99858, 32435, 89173, 98925, 78094, 10730, 68879, 58556, 69228, 92244, 10237, 73946, 14707, 8094, 71781, 66255, 26497, 75065, 70341, 19641, 21566, 68202, 15235, 89167, 26922, 93967, 76434, 64071, 11919, 66895, 58390, 7292, 59432, 17294, 67272, 54450, 59873, 73912, 7567, 73242, 60604, 88181, 40392, 94801, 2853, 51897, 33352, 395, 28560, 75800, 9572, 5936, 55534, 45158, 91800, 8357, 70931, 7897, 9046, 61875, 4159, 37629, 53591, 23590, 17750, 84085, 95589, 84656, 55097, 49081, 50132, 58790, 49479, 49236, 10518, 89486, 86742, 70687, 17431, 85660, 45582, 15549, 23392, 70419, 51518, 69316, 16691, 95401, 29188, 455, 99113, 2979, 39107, 60686, 88276, 94253, 71361, 55591, 69721, 49712, 30102, 32441, 60375, 45371, 20332, 36129, 24704, 95030, 14790, 4222, 86533, 54950, 80599, 2050, 31544, 27011, 8819, 13224, 77849, 4400, 58515, 78352, 88083, 92181, 6380, 32077, 97064, 5798, 52725, 57535, 30715, 70747, 98878, 7398, 18367, 66046, 37914, 30692, 95881, 75511, 41799, 75690, 78370, 88150, 42030, 31051, 39552, 18777, 86535, 68321, 28972, 54206, 39387, 36064, 72970, 77550, 96365, 22955, 82050, 88965, 55994, 72856, 64962, 6145, 45143, 84320, 87994, 49958, 68742, 41777, 91266, 54568, 53511, 19558, 39306, 49343, 24101, 98882, 70507, 62065, 31584, 29536, 39418, 92743, 18920, 60689, 7552, 73713, 54090, 54592, 73044, 69467, 17575, 50910, 31831, 33422, 26651, 43288, 84765, 10363, 58954, 48637, 12119, 70206, 24966, 6755, 35187, 49436, 88299, 79294, 79026, 5183, 9539, 24662, 99837, 77015, 94936, 88008, 73249, 28444, 62835, 27379, 43642, 39739, 2009, 27762, 24906, 97186, 15376, 97894, 98871, 62773, 31797, 91177, 79220, 26805, 51987, 31369, 72362, 42154, 37101, 49894, 61112, 69946, 85029, 47088, 34283, 47139, 67215, 65179, 61080, 12924, 94688, 99828, 41973, 26624, 48589, 41015, 54254, 5992, 73731, 29002, 97157, 19126, 2125, 34180, 72523, 76550, 75909, 94373, 54732, 38691, 19976, 25715, 43236, 30149, 49786, 74683, 32208, 65444, 72173, 85800, 89764, 44245, 33728, 64044, 94838, 84108, 96940, 64303, 60401, 22050, 96045, 46160, 22185, 18344, 94412, 71636, 64004, 24123, 71058, 84123, 7698, 68674, 4433, 9742, 6358, 836, 54053, 18021, 82667, 30334, 8908, 92690, 19795, 1198, 28668, 66287, 59770, 48916, 7923, 80980, 83588, 87392, 80808, 63334, 86413, 63944, 2061, 866, 69758, 53914, 1553, 2192, 69391, 94659, 36010, 70220, 37576, 2246, 65826, 91469, 88346, 56436, 23496, 14026, 12624, 68732, 19516, 25156, 81235, 69003, 33084, 46457, 35038, 52022, 10357, 48896, 53218, 60161, 74055, 31877, 91388, 29603, 39318, 89658, 10566, 85686, 85182, 99560, 4152, 12255, 53120, 49710, 72443, 62390, 83459, 1238, 92123, 22463, 10837, 65517, 56873, 84529, 43420, 74167, 12499, 69226, 5577, 30115, 27710, 90739, 74289, 62324, 35532, 6102, 9744, 89709, 36749, 73860, 86259, 4312, 23508, 41220, 2052, 76943, 18899, 98599, 93416, 52205, 10084, 39226, 21292, 73919, 31519, 74277, 51007, 88740, 70852, 43480, 50311, 99039, 96959, 18343, 90349, 94917, 10279, 65639, 97708, 45332, 7038, 12803, 57290, 30427, 9963, 44642, 79320, 80460, 78067, 51996, 42778, 3883, 83115, 35825, 59054, 64304, 29902, 46636, 72487, 49207, 56603, 24345, 89088, 76791, 86595, 49816, 11232, 81083, 38715, 32302, 93468, 9634, 10752, 35123, 20214, 49807, 93280, 83086, 20221, 96948, 51068, 41507, 47277, 13965, 11995, 680, 40405, 58292, 47175, 99791, 35358, 13399, 17367, 11442, 24561, 56489, 58830, 73005, 72710, 67166, 53483, 13538, 3442, 11746, 46388, 72642, 12198, 78240, 78386, 42523, 50493, 1617, 38253, 54238, 50829, 11101, 95006, 73339, 31816, 74967, 68302, 22227, 89825, 49903, 22216, 18198, 35247, 39469, 35180, 64634, 19127, 8292, 21916, 56973, 36170, 55194, 39289, 63469, 10082, 47333, 32990, 32321, 94489, 81924, 64985, 77831, 80828, 25630, 60012, 14021, 17758, 39932, 887, 51864, 43544, 81289, 49792, 43193, 57700, 43874, 56441, 85332, 77908, 17842, 39378, 79064, 91133, 26326, 62784, 23283, 52198, 41830, 38200, 96321, 91089, 82955, 64357, 75481, 31775, 42714, 49290, 36739, 51502, 47843, 14927, 73905, 26188, 77624, 71516, 23583, 3527, 95317, 60505, 92847, 27479, 57469, 38185, 90811, 9064, 53627, 88208, 18242, 83012, 39692, 31722, 33119, 86332, 20203, 93747, 55460, 49412, 9694, 58860, 78372, 62814, 76315, 52534, 70040, 66402, 90663, 54827, 71256, 4818, 47124, 91964, 70373, 77833, 83647, 11138, 14335, 32536, 86193, 87122, 46531, 21802, 84803, 80304, 5806, 73822, 84545, 88797, 84769, 52378, 98655, 43463, 56420, 13886, 1382, 33913, 29098, 66935, 97891, 67999, 73137, 76089, 90133, 75397, 28971, 58429, 49036, 51266, 60694, 89070, 77147, 90496, 19758, 45215, 3219, 63277, 13703, 38722, 54522, 11253, 15213, 95702, 18569, 45656, 40880, 44966, 59681, 27114, 68303, 63298, 45652, 62411, 12795, 57431, 94633, 91326, 59303, 41800, 8804, 39356, 5856, 93163, 15084, 2960, 44967, 84930, 14334, 88754, 21542, 97057, 31970, 67632, 22865, 72339, 20989, 43383, 73380, 55885, 60562, 30389, 53090, 82543, 24176, 24430, 83948, 86154, 56640, 51849, 3826, 96650, 80492, 25863, 58926, 77621, 56302, 50965, 583, 92371, 28153, 26972, 36483, 98608, 92243, 8200, 13336, 70371, 24505, 47945, 42727, 25830, 59972, 14936, 34387, 87910, 64157, 69168, 83769, 41078, 78246, 50939, 80125, 51451, 76939, 14972, 45603, 46135, 80918, 22613, 88288, 92535, 38986, 80541, 77354, 11108, 88094, 17556, 41049, 15448, 31270, 15328, 23992, 90890, 18528, 66954, 50916, 54819, 78174, 18070, 75340, 50293, 55448, 24347, 83296, 70435, 90889, 84575, 22706, 72733, 21871, 37858, 18388, 24523, 41232, 59113, 81187, 47059, 1256, 63518, 17895, 25575, 50324, 73607, 66248, 85599, 64876, 53626, 89744, 54477, 93079, 58176, 64054, 21922, 10835, 74107, 4044, 99753, 28905, 38284, 4285, 36025, 29470, 70465, 37836, 22047, 59942, 74140, 97323, 64921, 72053, 66952, 14838, 75066, 14969, 35112, 71186, 48085, 71046, 99193, 5453, 99615, 94238, 57850, 71611, 28644, 55725, 13423, 96467, 85678, 98480, 32444, 39021, 4224, 34447, 45688, 11401, 57549, 15386, 31056, 27509, 96680, 77060, 90326, 45957, 93159, 79988, 82938, 56120, 21755, 80760, 18249, 27082, 27124, 7780, 74720, 45982, 69767, 36842, 78231, 70617, 22069, 42421, 92281, 38356, 37923, 75069, 35041, 67425, 89037, 12481, 17771, 98316, 53948, 7770, 36349, 85969, 16631, 91937, 17392, 32725, 19168, 93243, 42217, 32447, 99807, 88635, 51472, 64154, 18634, 75684, 82890, 35221, 82288, 54293, 49174, 59243, 9898, 83050, 12202, 52802, 67582, 98278, 36467, 91056, 48374, 59597, 63968, 42898, 76278, 324, 96039, 12208, 95804, 60089, 83209, 87050, 91395, 46952, 8300, 70048, 52129, 28551, 56314, 27767, 64843, 35197, 42318, 37171, 44270, 71737, 75750, 17117, 74205, 63614, 45054, 89463, 99910, 6345, 6021, 13051, 82074, 60238, 2134, 16284, 20707, 57840, 59836, 88, 56072, 26518, 90255, 17290, 85196, 39566, 20837, 35916, 12234, 85798, 47242, 32819, 10803, 48738, 87098, 85054, 21695, 6787, 51949, 81999, 40043, 95156, 91677, 98989, 30689, 56260, 85915, 11953, 92235, 12475, 142, 27973, 62496, 10215, 17393, 77814, 29647, 68084, 89126, 58335, 1217, 1056, 91173, 45032, 15806, 55353, 90968, 17324, 62613, 9283, 30008, 50209, 11708, 95782, 13425, 13526, 41071, 48177, 39223, 17973, 50164, 98717, 17451, 84092, 88753, 18724, 8966, 69534, 73831, 1110, 79995, 85199, 21511, 57684, 46030, 94690, 27925, 82323, 98077, 19840, 53963, 80750, 89989, 57984, 28474, 11362, 13168, 18351, 98624, 16142, 77276, 95683, 50335, 46076, 56280, 41222, 18327, 32477, 36302, 84491, 11042, 72534, 78774, 78644, 79638, 37345, 90502, 3515, 86298, 39537, 26928, 67862, 79551, 24726, 98021, 51347, 38737, 84694, 7152, 31370, 64865, 50578, 14777, 31599, 65481, 83634, 77847, 9307, 69243, 1581, 47329, 41480, 17299, 50703, 74498, 55163, 47895, 71612, 89514, 22645, 99972, 61736, 9567, 2187, 76986, 8851, 1807, 34365, 28277, 5220, 7925, 52163, 37550, 82388, 93405, 65673, 54451, 91987, 52727, 83956, 70328, 70471, 80746, 20012, 36368, 10957, 40620, 67017, 26633, 20365, 70305, 42827, 51213, 76865, 83138, 89267, 84299, 8665, 40654, 91576, 57342, 95677, 31278, 7589, 32044, 56948, 15202, 59424, 80254, 79800, 7212, 87304, 97215, 86252, 97079, 23022, 15655, 1660, 92785, 17984, 91946, 1487, 21473, 65065, 45443, 68551, 67793, 94472, 33980, 21884, 48741, 16637, 98274, 35227, 96067, 15473, 3847, 43910, 56272, 35649, 68662, 8371, 34465, 93365, 75582, 82251, 10101, 65031, 59663, 66949, 47202, 7266, 65484, 74302, 21873, 48193, 20618, 33438, 13487, 75223, 88358, 94736, 15117, 29937, 97095, 66692, 5772, 1610, 32053, 6026, 61835, 47707, 50197, 19671, 23456, 4635, 72465, 93588, 85944, 54967, 29427, 42179, 32540, 54559, 94409, 41934, 35554, 10208, 74912, 48864, 15650, 65803, 88254, 6903, 23507, 29253, 67603, 6019, 52550, 9034, 60960, 37002, 40723, 42899, 11322, 72494, 59866, 1044, 48354, 26302, 38219, 73899, 39834, 96937, 81620, 31795, 60807, 48270, 77554, 64665, 25614, 96005, 71638, 99677, 32129, 19735, 835, 53744, 3133, 70981, 45406, 83354, 90893, 1257, 43911, 191, 99474, 49319, 96741, 13624, 26895, 69443, 31217, 55026, 64491, 7850, 18661, 93277, 36677, 12193, 5754, 30339, 68125, 54140, 91861, 48823, 60091, 98028, 11128, 76122, 12527, 66247, 17499, 83521, 51688, 9808, 74425, 57014, 86827, 17132, 31034, 38230, 34208, 41288, 91845, 96384, 42762, 41688, 59343, 35645, 30619, 9789, 26569, 17840, 76638, 14283, 20369, 13848, 21544, 58925, 61086, 41160, 53282, 15825, 70244, 46961, 27215, 40410, 60731, 34735, 15717, 11851, 20658, 89922, 39874, 92367, 91341, 79076, 5286, 42964, 19441, 11955, 93212, 32534, 46627, 51936, 67300, 6416, 88759, 39169, 34100, 22789, 4073, 53004, 59270, 72869, 98052, 72105, 32748, 12415, 60560, 13357, 18322, 15919, 1567, 8083, 29135, 17133, 25969, 48790, 89952, 82614, 84500, 11015, 76326, 76823, 33924, 9828, 2857, 8450, 25919, 84670, 58121, 16880, 12055, 43456, 5596, 60423, 6637, 22018, 75220, 56774, 94952, 51773, 65028, 3864, 50165, 89550, 55923, 22650, 46392, 28143, 24530, 36042, 36681, 58459, 19481, 4541, 81156, 80868, 32215, 84840, 65390, 54000, 72179, 62787, 7992, 11497, 36670, 50202, 54949, 84233, 68919, 32656, 82674, 71258, 2559, 50134, 47069, 62873, 71371, 63527, 45093, 74141, 65849, 42153, 50905, 35446, 23568, 3416, 41795, 78265, 28707, 3840, 36822, 7679, 61824, 69393, 46849, 76544, 30508, 20922, 13124, 32487, 86096, 31608, 34934, 69951, 96607, 7328, 28758, 75457, 50911, 46504, 22768, 23081, 31005, 77662, 41681, 96744, 91439, 47026, 77537, 3697, 92202, 91823, 46095, 74403, 73873, 18625, 73807, 64517, 71057, 40508, 23010, 64282, 4975, 11830, 30490, 78861, 28679, 2612, 69002, 62650, 89, 43481, 80495, 26406, 17103, 44663, 93970, 23260, 42413, 7806, 2872, 19360, 76888, 92365, 18566, 14538, 68982, 47826, 9506, 48967, 92345, 51851, 76810, 13242, 44113, 42284, 17884, 95990, 57261, 83789, 63858, 85089, 41586, 22833, 92691, 73659, 90906, 80440, 46769, 29260, 87232, 77194, 22983, 49595, 40215, 96206, 90242, 38602, 23292, 95529, 235, 92013, 75082, 51327, 74381, 23865, 78956, 41709, 80134, 28953, 83839, 74127, 13645, 65035, 18434, 43406, 97693, 10198, 31194, 45457, 41879, 22005, 83386, 11629, 92925, 87821, 83768, 95588, 44007, 58540, 1493, 34761, 27483, 32707, 90855, 8885, 45938, 33640, 14160, 94426, 167, 6310, 50585, 57438, 96021, 55004, 54266, 64629, 49638, 46036, 71568, 49197, 13294, 62847, 75766, 85323, 99384, 90067, 29567, 59151, 9661, 4379, 38654, 2631, 41774, 34226, 13726, 9725, 44801, 22296, 49212, 21090, 95942, 9830, 71702, 12203, 44295, 77860, 80431, 63273, 92340, 4062, 56534, 85673, 21626, 79602, 56911, 20591, 7019, 13272, 43397, 26941, 24901, 53645, 72628, 94638, 95679, 70795, 34768, 86585, 36899, 38980, 31135, 12571, 6505, 51498, 74943, 72045, 64349, 20131, 7144, 47294, 500, 56047, 11485, 38607, 86772, 81931, 78671, 62957, 26171, 12712, 3373, 27125, 22391, 83648, 38248, 10739, 62071, 15139, 40416, 52096, 61727, 64106, 86643, 34734, 11945, 84130, 71319, 50793, 24232, 48630, 49996, 48418, 24455, 58428, 5848, 34510, 60956, 34524, 29654, 35200, 73956, 8079, 19808, 98596, 91287, 87486, 12675, 11233, 87574, 45061, 70968, 54262, 99150, 77296, 29820, 72561, 7993, 50738, 68495, 54870, 70190, 90055, 62236, 30886, 62424, 39171, 10348, 51747, 93625, 4551, 65811, 74870, 67740, 74905, 88805, 81300, 19326, 15765, 99246, 58856, 22659, 21910, 27772, 25260, 16539, 5593, 55492, 10271, 89538, 57067, 26465, 82211, 19382, 77994, 33801, 41910, 95302, 8783, 11406, 50868, 72923, 52082, 72358, 42746, 36202, 68116, 60051, 1620, 91804, 81665, 68493, 54997, 14748, 19613, 19424, 74264, 77061, 76372, 99402, 13845, 73752, 13237, 37498, 45071, 53856, 34620, 50206, 85824, 63646, 74976, 79817, 62003, 22570, 36099, 52818, 18855, 81034, 79777, 89235, 90919, 52654, 5083, 51877, 43449, 90507, 31139, 6460, 97746, 62287, 35203, 48816, 2651, 44284, 39722, 40756, 36745, 64437, 91250, 12873, 29878, 17614, 39384, 97481, 42056, 35313, 95525, 54627, 79295, 84614, 11703, 24633, 57896, 27707, 53368, 97117, 63499, 99548, 67698, 7367, 67537, 20836, 8600, 40779, 93004, 66426, 52872, 17779, 68719, 74537, 22772, 25265, 26309, 7553, 32701, 4334, 59827, 6626, 47235, 92357, 26097, 35910, 48280, 60846, 66207, 52028, 83284, 16236, 89282, 4005, 48819, 64066, 77862, 58471, 23276, 62204, 76923, 45843, 45121, 21432, 33903, 90289, 11847, 37364, 3597, 6507, 21352, 75007, 28091, 29012, 84853, 29505, 88826, 27096, 35269, 85404, 53674, 67276, 2628, 89417, 1166, 62140, 84852, 22701, 78792, 1109, 29329, 33081, 79736, 40037, 93420, 92978, 84245, 36094, 55549, 49345, 45706, 28601, 61171, 39602, 88761, 68241, 81737, 52055, 76609, 13410, 963, 67045, 86816, 49051, 73591, 84848, 77826, 79829, 37051, 39121, 89707, 14169, 63142, 8367, 44077, 36239, 83964, 42616, 36291, 34229, 85998, 93204, 85389, 39163, 24688, 19651, 67802, 31496, 7441, 78647, 52965, 86577, 41888, 89228, 18340, 3336, 85904, 38745, 34003, 54862, 53031, 50891, 96564, 4629, 76418, 92808, 74978, 24892, 44979, 95230, 29145, 89957, 70075, 83665, 62355, 88063, 46988, 39347, 86194, 73170, 23741, 38506, 12793, 61706, 16769, 97113, 33902, 95051, 73273, 99997, 23995, 89091, 43992, 85778, 11704, 29131, 46567, 29272, 97545, 40250, 55112, 43426, 48717, 34152, 76751, 38541, 60786, 15437, 61674, 7035, 83151, 76490, 76062, 81350, 9334, 25499, 65598, 15704, 89220, 50026, 69446, 39106, 54146, 7086, 19762, 18004, 26253, 44914, 53633, 74632, 59974, 18772, 41469, 93804, 23639, 10592, 63908, 43598, 82710, 23176, 41079, 83165, 7603, 617, 59251, 35851, 27444, 99771, 22099, 75534, 20766, 64169, 11539, 16961, 56847, 83032, 56283, 52873, 56233, 62573, 50242, 611, 4944, 69963, 26137, 95768, 48903, 1845, 42233, 99201, 69603, 24979, 2348, 88702, 540, 82141, 96154, 32613, 29657, 90901, 45134, 40906, 16899, 13462, 50272, 65973, 77158, 40123, 21891, 8557, 39085, 38119, 59759, 95398, 68195, 78167, 68697, 44280, 56841, 90017, 17536, 44922, 64248, 47087, 98319, 24697, 21611, 2506, 29939, 29402, 95311, 17197, 27681, 96216, 77292, 66143, 22149, 16143, 48049, 93206, 4897, 49177, 83928, 33526, 70088, 81675, 6368, 77846, 6286, 86765, 14170, 85664, 2587, 6322, 90406, 15176, 58237, 49840, 71733, 33126, 62180, 91995, 20070, 26934, 91120, 89881, 82616, 1219, 39467, 55164, 86725, 13235, 86832, 68197, 35386, 81631, 79381, 17978, 54896, 13751, 67054, 94210, 80962, 15431, 37054, 14943, 13928, 65239, 26037, 79823, 26181, 34471, 68569, 26433, 46913, 92200, 53707, 38712, 21020, 5164, 71845, 65058, 27222, 90204, 63001, 43332, 30737, 358, 1671, 88032, 11665, 14474, 75255, 87690, 64763, 19548, 11807, 67070, 9836, 94840, 13276, 33540, 84454, 30298, 59867, 38800, 34619, 60853, 6564, 13082, 22898, 5170, 38085, 47214, 88705, 40987, 55836, 96801, 15191, 12451, 99379, 6014, 18139, 86947, 84829, 43078, 46861, 57372, 81501, 35167, 96084, 12183, 48840, 44921, 23969, 14920, 52530, 52461, 59839, 35629, 50556, 90426, 62684, 55278, 85045, 21860, 14818, 17368, 95212, 7686, 20892, 13593, 54529, 77430, 63265, 74572, 88918, 57430, 23758, 80127, 49774, 47002, 80131, 3777, 89714, 95325, 17125, 63318, 63979, 14802, 53907, 57761, 6025, 8301, 34290, 85848, 41187, 88857, 68788, 97468, 94866, 74057, 29358, 87797, 44341, 68039, 68564, 90209, 91826, 81033, 12483, 56734, 86732, 95243, 32581, 63167, 45318, 86993, 88643, 84070, 50446, 19484, 73183, 80335, 1526, 84331, 20568, 66265, 61510, 64990, 21679, 9812, 98491, 64441, 42026, 31574, 43371, 6599, 66444, 29190, 72154, 49628, 52858, 30801, 10332, 60174, 58220, 75108, 58733, 11536, 65333, 58598, 41426, 15559, 97679, 85638, 2329, 13453, 52879, 54046, 4696, 73024, 71971, 22, 11913, 79194, 81142, 83563, 39924, 66628, 73706, 27112, 85799, 88011, 59796, 44676, 47624, 7113, 29218, 59566, 43512, 73420, 81232, 78636, 62014, 93933, 86136, 47617, 93836, 59314, 12771, 99525, 86364, 29064, 287, 44742, 46548, 83055, 38270, 71786, 68417, 49006, 92025, 13935, 6000, 21516, 64542, 18408, 93959, 97322, 94576, 53636, 14019, 33330, 80065, 25679, 24581, 15826, 51497, 28257, 59905, 93950, 44293, 14125, 99241, 54325, 6094, 83000, 88098, 77176, 16150, 59950, 86305, 77242, 66086, 17647, 65382, 568, 69515, 96497, 6366, 56729, 76692, 23226, 90677, 75832, 22760, 95747, 16827, 13573, 50778, 86182, 78714, 79450, 42184, 66074, 50418, 54875, 90769, 99925, 32537, 35860, 52149, 44939, 38557, 59355, 17481, 18111, 54099, 78974, 91752, 98097, 67147, 39179, 71802, 41144, 93306, 96576, 72559, 82913, 28487, 26330, 27487, 81810, 93635, 38086, 89995, 45258, 88129, 17389, 93113, 85208, 23306, 71105, 91004, 83476, 42255, 93107, 15126, 99716, 46168, 73699, 62963, 76389, 74794, 87445, 93077, 54719, 88374, 98024, 69979, 37477, 55363, 1673, 68515, 13955, 3312, 49921, 19048, 6955, 87851, 7419, 26201, 98328, 21094, 37567, 89573, 32841, 19192, 8130, 90517, 26738, 98775, 70932, 4234, 47013, 59322, 13432, 80754, 88542, 96926, 73647, 29400, 97309, 84819, 73566, 50972, 31142, 66967, 91242, 37701, 90824, 87096, 6157, 50014, 50797, 89803, 40980, 72368, 7051, 1699, 97474, 32943, 26619, 81338, 58073, 29563, 83071, 93001, 48200, 98973, 77120, 71645, 96790, 79087, 25751, 95015, 25362, 38558, 58827, 23255, 89477, 9760, 24507, 22779, 96348, 67350, 15643, 49440, 5326, 56165, 36583, 72954, 34634, 17048, 21093, 33425, 739, 43327, 61122, 93020, 20290, 5235, 20146, 42287, 78234, 6665, 81968, 80689, 86755, 64297, 75061, 72110, 46934, 9552, 92757, 41662, 68864, 28830, 24100, 68236, 8936, 66209, 20889, 54516, 71182, 70390, 52876, 12051, 45796, 28992, 27964, 86944, 43500, 43393, 47290, 38479, 28632, 98652, 81039, 69533, 62240, 73575, 98583, 85105, 1153, 15036, 87679, 45351, 58414, 31502, 84182, 80439, 81412, 31958, 5226, 42065, 49987, 14860, 50577, 33631, 70809, 94892, 37070, 3238, 67746, 49146, 67411, 66680, 58400, 63806, 5747, 38854, 85397, 25232, 41984, 67357, 10793, 12577, 21940, 70513, 69888, 960, 82173, 8581, 27627, 87862, 82511, 27941, 89837, 55601, 13621, 26945, 70484, 92109, 97173, 57047, 84746, 9452, 97896, 89921, 20152, 3113, 60191, 93961, 43478, 4965, 11471, 9600, 23329, 33018, 9232, 75361, 29837, 33901, 53429, 50860, 59129, 82603, 53011, 56757, 41471, 2213, 51052, 88250, 15506, 70101, 773, 84072, 81048, 8288, 99085, 97773, 76756, 91866, 9514, 46884, 65907, 13911, 37989, 89899, 39498, 79503, 11338, 57367, 49992, 51788, 86602, 4039, 62126, 20489, 69922, 28818, 17875, 97878, 51248, 71529, 38663, 83105, 18884, 39066, 88773, 95594, 84926, 48906, 1461, 72551, 72754, 18530, 16152, 5475, 659, 75067, 78204, 51653, 70405, 71765, 11157, 39936, 27532, 98080, 97180, 95150, 45069, 27752, 54087, 84663, 67181, 18671, 21096, 24116, 28939, 80856, 33127, 25470, 15023, 23770, 87946, 74356, 7128, 98440, 71939, 60458, 84498, 9587, 38096, 8829, 32858, 12871, 25875, 95104, 63857, 43365, 46810, 16805, 87988, 85914, 30740, 13113, 37373, 81201, 9149, 41652, 63682, 59067, 43036, 80785, 86431, 40065, 90892, 76568, 19974, 74128, 74299, 47774, 41462, 56139, 633, 41053, 32266, 29035, 93349, 96969, 83995, 57163, 36264, 47118, 17603, 89073, 96072, 43458, 62908, 60666, 58373, 47020, 40038, 63828, 72308, 14264, 23038, 84613, 79511, 10744, 36780, 18350, 70597, 25746, 34502, 96147, 82132, 10022, 95345, 9882, 2441, 66476, 82788, 4088, 76269, 75877, 53101, 77337, 27886, 4804, 72298, 34159, 71233, 70736, 61879, 85709, 47948, 51445, 29269, 77280, 96105, 38141, 17548, 60909, 65683, 66900, 11869, 52007, 47692, 65820, 1388, 86858, 31310, 80482, 89674, 21737, 99248, 67388, 18398, 58487, 20869, 23480, 74233, 74162, 86430, 19162, 96458, 95945, 63373, 47028, 5297, 28681, 63916, 30375, 8239, 34649, 48422, 30673, 5610, 87632, 27102, 67880, 47349, 61561, 59591, 6086, 5230, 85003, 42476, 13529, 92240, 68337, 83042, 35847, 97243, 34513, 75842, 71349, 74732, 22786, 49369, 49613, 47880, 77028, 85634, 10202, 67720, 32975, 49326, 29215, 67681, 53194, 46255, 45224, 63813, 63191, 79195, 864, 65776, 18214, 57658, 21706, 30145, 10104, 67441, 84341, 36806, 27723, 19692, 24498, 20625, 47477, 78908, 94018, 15509, 86652, 30191, 54344, 43283, 94405, 14855, 63113, 88503, 62759, 62786, 27617, 77436, 21134, 84837, 53857, 2942, 31938, 5655, 16762, 75168, 77640, 21119, 17658, 82515, 67193, 5136, 75008, 19249, 33850, 23597, 67717, 53143, 78558, 73872, 83574, 2440, 94312, 95417, 86736, 37152, 11239, 28389, 58877, 79498, 61789, 63133, 22356, 28752, 53840, 78753, 18705, 76368, 23839, 81685, 86461, 21983, 94920, 89861, 59437, 78188, 77410, 9023, 30122, 49572, 50523, 17329, 14230, 2170, 26522, 68512, 66107, 89701, 55023, 19603, 79365, 12622, 62373, 80576, 78618, 5116, 69655, 65972, 98616, 15403, 12214, 63208, 86427, 17082, 79098, 70685, 157, 88940, 85096, 56557, 68425, 55139, 48546, 5693, 91441, 69444, 56224, 30079, 63192, 49969, 45943, 77207, 97175, 99816, 91318, 75513, 12807, 55769, 33360, 62539, 30475, 10986, 37128, 78419, 71267, 53562, 33791, 24775, 716, 92949, 97471, 932, 75757, 68490, 15444, 68126, 49155, 85792, 26924, 90146, 41405, 53588, 47483, 20287, 55846, 85403, 76725, 33244, 34249, 70268, 55517, 74012, 47925, 80200, 36118, 89208, 52095, 98955, 26698, 54162, 72365, 73080, 63238, 23425, 48524, 73281, 63407, 33263, 40193, 75713, 45135, 92470, 52183, 96440, 18096, 15608, 98017, 30116, 58536, 91660, 21206, 13143, 28109, 66629, 52502, 44359, 72165, 80481, 91364, 89727, 92640, 6822, 21068, 51000, 83345, 693, 11939, 61822, 78675, 57065, 11552, 8399, 34483, 29067, 48606, 10490, 79826, 4948, 94960, 50374, 52513, 80473, 86006, 68289, 37548, 93271, 78311, 7531, 22973, 83924, 64797, 57536, 1403, 26438, 86099, 67915, 37487, 25525, 4405, 78579, 66918, 67608, 91547, 30365, 80634, 22214, 88345, 4726, 47151, 31359, 85854, 37, 20636, 11382, 36167, 52354, 46285, 87773, 51792, 76818, 26255, 2014, 96590, 92225, 11818, 72036, 37289, 95176, 73284, 76406, 45625, 45544, 36242, 29661, 79477, 25496, 59606, 52947, 75354, 609, 34223, 22942, 53363, 66353, 13954, 73220, 9487, 65951, 38568, 44560, 15336, 67277, 33776, 70504, 75352, 32786, 90989, 58034, 49424, 73815, 63390, 31886, 99283, 44520, 89337, 60387, 76916, 3584, 63172, 15239, 33792, 8854, 50157, 28885, 88724, 91904, 30137, 41383, 54057, 46281, 67699, 70208, 1274, 91857, 34517, 32539, 37655, 12190, 52288, 88302, 98145, 44825, 9965, 72686, 23394, 62463, 41139, 46338, 28647, 75197, 35268, 23957, 97800, 89536, 24925, 65404, 96614, 26170, 30783, 96394, 31726, 34787, 30042, 26577, 32728, 81080, 46665, 20446, 13983, 15712, 10287, 88580, 86956, 64574, 80455, 868, 70972, 5539, 63214, 48653, 81352, 41342, 64532, 75303, 36009, 64330, 66995, 36735, 52150, 29110, 98326, 75584, 16809, 7097, 68909, 55466, 62694, 70879, 4268, 65860, 45519, 51605, 89959, 22911, 59925, 15776, 91520, 67922, 60302, 41373, 90336, 1103, 1549, 88356, 27623, 49732, 76153, 13205, 42655, 47395, 80318, 34039, 71901, 34452, 31082, 35311, 61780, 80358, 44970, 47962, 24105, 65374, 55567, 27594, 54931, 91843, 98591, 48799, 47851, 52506, 36651, 59077, 23578, 74895, 17188, 75483, 89916, 29958, 13090, 94478, 30907, 72789, 56651, 49923, 25698, 19116, 96802, 19601, 61995, 1276, 23148, 55249, 65483, 17625, 82660, 67765, 69990, 94445, 63782, 39326, 32895, 73680, 74427, 6253, 52219, 12972, 90510, 21409, 7869, 28241, 62460, 82557, 58963, 97595, 43864, 34048, 47312, 47226, 73446, 73071, 33779, 45107, 2599, 53970, 15890, 46018, 89074, 79374, 26077, 75609, 85179, 85082, 70574, 22877, 37304, 46544, 42610, 88236, 66904, 63896, 96537, 58580, 10277, 49947, 80434, 37555, 60784, 82799, 18985, 21964, 83962, 44222, 55288, 82742, 80256, 74925, 53054, 9351, 10369, 21233, 45039, 29912, 41088, 41533, 85591, 38188, 93117, 79349, 84494, 51833, 35553, 58313, 47600, 76928, 68280, 59020, 21930, 24102, 3027, 16389, 95390, 30753, 32983, 97501, 91841, 98269, 27600, 21877, 52041, 13501, 12524, 8361, 71884, 7055, 3455, 52037, 68679, 10911, 13622, 34400, 81015, 20352, 11050, 85830, 51097, 40549, 30062, 32426, 96677, 37247, 58085, 82114, 16569, 17206, 69041, 22361, 3744, 4607, 86972, 46771, 42624, 62410, 61235, 35705, 71898, 58306, 17709, 91438, 23204, 77441, 78326, 59840, 82712, 98161, 83342, 73922, 57013, 68610, 83858, 83824, 69964, 40587, 45504, 63131, 70735, 29770, 11738, 57915, 40352, 54028, 34053, 20410, 39789, 1383, 12, 68592, 99391, 17865, 45073, 37586, 61498, 70136, 1090, 90147, 64478, 99021, 62530, 39270, 1197, 56418, 38393, 78250, 30305, 946, 71855, 48974, 24716, 53967, 73472, 57292, 51740, 32754, 21400, 93708, 96615, 84671, 51081, 49592, 28913, 34469, 10382, 55343, 81962, 31399, 67713, 80375, 90954, 89737, 35633, 37313, 84994, 97376, 69722, 35235, 54120, 24641, 8973, 23908, 17907, 37957, 14464, 83478, 80967, 59345, 35669, 91812, 81625, 64486, 24613, 42027, 2542, 19942, 70119, 2900, 24371, 13405, 36977, 35283, 93742, 57464, 95303, 1075, 30514, 11822, 19750, 1930, 64694, 28467, 44815, 55082, 40838, 65325, 48679, 60776, 91348, 43286, 10515, 98378, 19148, 7345, 34931, 51435, 9356, 61623, 23803, 25191, 32778, 1653, 15985, 93674, 32631, 50436, 58059, 32396, 96681, 4392, 26106, 60402, 96380, 12315, 68306, 87294, 27321, 61974, 51003, 89318, 40908, 42344, 20789, 82465, 95451, 5529, 97612, 72034, 68278, 16009, 63075, 83692, 39166, 26047, 47241, 6827, 87385, 28545, 14801, 30928, 82956, 56906, 42534, 1974, 21936, 36188, 76637, 15682, 31862, 1170, 5504, 76162, 90538, 62294, 90230, 78146, 20315, 11728, 32600, 20669, 65525, 11980, 89908, 81087, 44357, 99557, 81937, 7871, 7834, 46598, 84485, 20174, 70300, 14076, 16492, 63942, 30497, 41515, 73184, 84495, 99181, 45523, 57503, 96100, 25292, 2798, 90341, 49514, 46945, 94948, 17659, 32859, 5175, 63609, 92618, 57344, 73272, 38628, 71137, 91362, 64237, 24874, 74278, 24461, 71253, 45569, 42425, 95997, 61393, 36087, 78470, 72682, 21016, 9027, 69617, 20319, 58901, 38754, 70989, 48118, 59517, 94, 83627, 66316, 49681, 96161, 24318, 2453, 81229, 47720, 81290, 31298, 42034, 94503, 8302, 86283, 70642, 50789, 24886, 89551, 65214, 72281, 20202, 80352, 37110, 42283, 53713, 84004, 42208, 14478, 12616, 68576, 86362, 8739, 5737, 23414, 4099, 26486, 14031, 63618, 25115, 12943, 4170, 74843, 84115, 50934, 86235, 64213, 68920, 81785, 91922, 77371, 33546, 6433, 48018, 28930, 79423, 94089, 9289, 1715, 27359, 85950, 64409, 10480, 61349, 83744, 7956, 47307, 73140, 97449, 54519, 92855, 7641, 80862, 34840, 69339, 5328, 96246, 9225, 39833, 28298, 68089, 12729, 13267, 95049, 30279, 69685, 50506, 24832, 25312, 68969, 86098, 32605, 74714, 23448, 73193, 98198, 73156, 54419, 97793, 13829, 83705, 75571, 46918, 88407, 60125, 92084, 87194, 55977, 13644, 21864, 23644, 72085, 52632, 66151, 44238, 86184, 20732, 78632, 58066, 41307, 72100, 42553, 48722, 56438, 95140, 42395, 79745, 31551, 73812, 28039, 49160, 72120, 97593, 33303, 47187, 59297, 58654, 52047, 25, 95199, 4543, 37287, 78087, 2136, 67844, 17705, 39562, 860, 39365, 29083, 28157, 41275, 2844, 90402, 72569, 67013, 72918, 74922, 20278, 12358, 4946, 60341, 46616, 20461, 18141, 34732, 48114, 76304, 32749, 39361, 12046, 74774, 52402, 74588, 28499, 96241, 10118, 94841, 42558, 63246, 22662, 63999, 90386, 75527, 78018, 84181, 39373, 4898, 95786, 50010, 10286, 7329, 43829, 56925, 54594, 15799, 29716, 97999, 85561, 78944, 83084, 82862, 50133, 7094, 39948, 68731, 5397, 70769, 74044, 19605, 42838, 65850, 91457, 28940, 20079, 6621, 88294, 95889, 51495, 58407, 98676, 78005, 75399, 66155, 29109, 56614, 37982, 51684, 19400, 17326, 44062, 10819, 62371, 74899, 97689, 6463, 71847, 52322, 34413, 11151, 52235, 56949, 91471, 17088, 99881, 17677, 63035, 73308, 25966, 51815, 85491, 74885, 25703, 73553, 80739, 96425, 68714, 32275, 31760, 9390, 34898, 56369, 42390, 89749, 75499, 11743, 14749, 88047, 54209, 55514, 47876, 45653, 24967, 42039, 45157, 77840, 85905, 3172, 39953, 22184, 45838, 80769, 81681, 19112, 57732, 5882, 30603, 26173, 89831, 48997, 99317, 95484, 11247, 14728, 96938, 7148, 31856, 81396, 19356, 37707, 1800, 44993, 90937, 14585, 39992, 58990, 61759, 2981, 43499, 27395, 96994, 70517, 27770, 26712, 71620, 68585, 98350, 63311, 81663, 95672, 18526, 91104, 91587, 87590, 2410, 49362, 76415, 86969, 69048, 5699, 33483, 22324, 7878, 37226, 26305, 91295, 80997, 35557, 6957, 60943, 85820, 1092, 8729, 86556, 35561, 86898, 86520, 14141, 2500, 38337, 85119, 50662, 30299, 49899, 66655, 13055, 63525, 78263, 69672, 11537, 24434, 26066, 65621, 60029, 73490, 93384, 2816, 5210, 39967, 43721, 64216, 51563, 97568, 20578, 2408, 45453, 89694, 46125, 46580, 81950, 39626, 30959, 65700, 36159, 8127, 82023, 33774, 50747, 3862, 72737, 36725, 19884, 44798, 51491, 86105, 17991, 11507, 95668, 50096, 68251, 88866, 80274, 81988, 89983, 29809, 54700, 31504, 75090, 20021, 55897, 40944, 79346, 43160, 58873, 71071, 17271, 27100, 85520, 18163, 76156, 70956, 89659, 26517, 18102, 40501, 90247, 92423, 68656, 17727, 19025, 86013, 74035, 20715, 41614, 8888, 73051, 69856, 94298, 15517, 24134, 41628, 19073, 95299, 41771, 54269, 53903, 39760, 58065, 97728, 83472, 96775, 35887, 19917, 24632, 13994, 17241, 24215, 3433, 99935, 80213, 80864, 34978, 79377, 74323, 80263, 30266, 78166, 30432, 90095, 3418, 47089, 10417, 90196, 62469, 65840, 79260, 61441, 93325, 85140, 24114, 50785, 64414, 62108, 18024, 21467, 25330, 29658, 53554, 1967, 35370, 54138, 29170, 97303, 87993, 26585, 99323, 26812, 8668, 23209, 57577, 80879, 64217, 90159, 42584, 59971, 32346, 56040, 53066, 79682, 96381, 94398, 41012, 51662, 80151, 97316, 74964, 70275, 68843, 84068, 92289, 5047, 68242, 14328, 59193, 59886, 5559, 32207, 67987, 70499, 51853, 96360, 5144, 73098, 50777, 67649, 6461, 24884, 38165, 57613, 39918, 37475, 60469, 21821, 55372, 38590, 80364, 7149, 90433, 67760, 60762, 84685, 59204, 11854, 94718, 65622, 14833, 23562, 76735, 91241, 71618, 17734, 51520, 42396, 59098, 3265, 23445, 59464, 77373, 93406, 26467, 59596, 11820, 42477, 90664, 85010, 93253, 21495, 94158, 96110, 16193, 11952, 14963, 92566, 58903, 83109, 47571, 11181, 68657, 92704, 50343, 95272, 67065, 80225, 20958, 49634, 72134, 49886, 22398, 43934, 74120, 86445, 19672, 21249, 18953, 23444, 93329, 6725, 54995, 40378, 40569, 95703, 58491, 37851, 82110, 23684, 15408, 17245, 26588, 463, 81600, 33175, 1600, 60115, 65225, 65358, 71237, 753, 79689, 64679, 31179, 28426, 77183, 86438, 62352, 59472, 53759, 57917, 10407, 78802, 78656, 861, 32075, 71741, 36452, 81233, 82396, 73079, 6411, 24227, 19432, 7217, 85626, 45746, 4813, 19054, 4250, 87424, 75771, 79073, 43399, 11495, 6426, 14272, 54651, 23363, 21146, 88092, 37274, 80096, 90638, 91730, 77983, 75010, 73685, 23254, 98216, 75886, 47210, 4697, 12206, 39229, 42312, 48309, 49668, 8869, 99410, 56010, 72151, 8509, 38382, 61710, 17635, 15993, 91045, 35968, 43150, 69081, 54232, 68766, 27504, 91203, 27400, 80223, 7626, 14326, 74890, 95646, 82441, 69330, 11491, 63394, 94905, 90263, 79269, 92642, 37642, 55974, 79802, 41482, 34034, 75385, 46380, 17001, 80516, 73745, 65063, 68118, 95575, 82818, 64553, 23580, 79876, 30503, 92875, 38074, 25369, 207, 15493, 3143, 60933, 81980, 15456, 96661, 27175, 80649, 54346, 5962, 43750, 45829, 73454, 83558, 27831, 1480, 83967, 26370, 90441, 36913, 33347, 8891, 40340, 39358, 66412, 72088, 42457, 803, 89893, 43684, 51910, 74569, 3816, 23020, 43321, 44294, 88142, 62797, 62193, 4660, 84626, 17793, 63110, 20366, 82208, 60374, 43923, 60616, 54257, 97332, 7342, 68298, 39235, 74048, 95022, 88892, 41353, 70239, 27297, 75680, 89848, 43479, 8678, 19569, 36760, 4085, 44453, 49183, 82118, 70028, 21753, 74839, 79388, 51061, 24560, 78012, 15315, 98505, 40407, 92440, 93040, 4145, 35585, 54246, 11376, 65149, 31148, 48704, 59232, 39666, 28329, 68825, 39625, 22939, 14710, 49049, 4901, 26489, 12137, 58166, 66321, 3268, 63263, 65543, 20195, 44579, 63369, 96002, 68632, 40679, 42904, 18781, 12878, 67652, 88698, 17395, 26894, 94970, 4791, 60210, 50801, 93543, 68464, 15182, 538, 5771, 90053, 77894, 11413, 61194, 6047, 13513, 68233, 97721, 40957, 2946, 75701, 99417, 40913, 83735, 42058, 26287, 25237, 37560, 36261, 69766, 41831, 57817, 87965, 15420, 35737, 19571, 20643, 35866, 15002, 1999, 81650, 73351, 67378, 13418, 27076, 71110, 45916, 72006, 41744, 35527, 18554, 92321, 75246, 32089, 22449, 9337, 40812, 80381, 44399, 70854, 58149, 6648, 17049, 3800, 61700, 88538, 6613, 13884, 50279, 11287, 51369, 23459, 92363, 78134, 77693, 82505, 90456, 91667, 58436, 80781, 46612, 40952, 43559, 25971, 93441, 99405, 87932, 10295, 99056, 61039, 74421, 17274, 12178, 91566, 61377, 12748, 59714, 40683, 89715, 84465, 93089, 61675, 30368, 29333, 18837, 80863, 33823, 47638, 51390, 24032, 91699, 87186, 43296, 42567, 59412, 63898, 3966, 8567, 62303, 14796, 46064, 62737, 60455, 22387, 36996, 45693, 79225, 75324, 16697, 66577, 13491, 53174, 93621, 14022, 42712, 72895, 85124, 9296, 69828, 60420, 52535, 77402, 54190, 81379, 31941, 71820, 20843, 63225, 50307, 8658, 44658, 27294, 90971, 77459, 56511, 57062, 74345, 44852, 71372, 90981, 30953, 22686, 86849, 87766, 10209, 96910, 93311, 75260, 14984, 77616, 78128, 60674, 42647, 72756, 12799, 58355, 23091, 40374, 53188, 9123, 78415, 14253, 89850, 49664, 42914, 64788, 84540, 86529, 8058, 11866, 28522, 18208, 98957, 83379, 24, 99231, 19231, 86623, 59372, 69632, 38207, 51115, 80684, 58610, 25646, 26956, 89327, 41497, 39286, 89071, 39917, 56980, 94082, 45123, 76379, 1064, 80149, 66902, 52978, 16718, 38559, 8180, 48394, 71943, 6963, 110, 92190, 73404, 47086, 14378, 36989, 4087, 30833, 56585, 92041, 77353, 51677, 81948, 41697, 93293, 50173, 53219, 50012, 57041, 71449, 27684, 86833, 22729, 62242, 18228, 24671, 72800, 50409, 47223, 54687, 20220, 37810, 87826, 16455, 17600, 1520, 9403, 84985, 2058, 18873, 94547, 63792, 57243, 17796, 11097, 17985, 84180, 54507, 59772, 79223, 55797, 81690, 23566, 59558, 66770, 55590, 58988, 50425, 46570, 29588, 24352, 55675, 79242, 973, 75751, 65294, 95802, 31031, 93340, 65762, 35291, 53849, 71587, 75543, 48099, 4385, 4963, 74468, 63342, 92390, 48310, 14832, 76056, 63115, 90504, 18623, 95706, 95852, 68997, 98380, 36624, 60940, 67757, 10254, 68597, 11592, 32142, 82662, 97214, 86997, 87650, 10234, 89662, 83058, 70673, 75973, 40959, 6917, 45029, 70127, 1413, 61455, 59511, 67195, 61503, 75230, 96182, 43452, 55183, 46257, 38616, 37907, 21955, 4630, 91101, 78333, 98228, 39855, 95285, 73886, 34136, 8050, 82483, 62018, 75778, 22161, 75085, 6765, 86025, 38240, 96649, 3578, 37593, 63538, 10814, 16622, 66269, 10074, 36418, 33036, 17372, 80713, 36827, 36073, 33679, 1861, 79144, 22886, 77564, 96857, 19809, 86396, 58543, 48466, 22989, 34242, 91851, 30958, 63559, 23699, 69125, 4337, 44937, 11062, 19014, 78059, 20204, 65004, 98665, 54125, 50222, 31188, 86594, 57695, 95158, 83568, 21926, 27637, 75727, 96254, 45229, 7120, 34654, 99022, 15203, 6884, 21967, 60819, 52264, 62420, 39500, 62425, 97799, 98622, 69798, 30626, 49781, 89589, 92485, 51127, 34422, 69526, 56981, 1554, 37852, 50070, 88931, 41377, 69501, 89505, 12761, 69637, 83548, 46376, 56595, 80017, 85467, 35728, 43904, 35432, 35007, 12881, 33468, 85766, 51269, 60438, 88511, 98184, 31692, 96247, 88065, 77165, 25549, 68151, 44224, 88829, 23582, 41060, 71776, 1386, 88185, 8906, 12805, 68847, 13619, 89849, 58450, 46073, 28759, 95060, 37132, 33016, 25307, 4461, 3106, 81185, 12050, 77874, 86062, 28419, 78562, 15963, 15725, 79257, 17027, 49277, 86034, 84922, 74195, 24217, 14528, 91180, 24151, 33205, 38609, 61204, 86570, 9924, 83726, 59433, 36226, 55965, 90730, 42389, 33729, 9698, 36344, 8177, 50174, 50933, 43601, 7872, 33847, 34690, 23321, 57747, 9096, 64450, 79993, 51463, 23388, 84604, 64494, 14212, 18857, 70861, 56525, 28624, 13926, 57878, 93768, 33947, 4569, 9557, 9229, 74887, 95360, 32846, 58442, 2459, 65234, 19510, 85572, 83930, 113, 4959, 87111, 51181, 34922, 19871, 91757, 43231, 51292, 75319, 485, 92747, 64314, 62670, 52941, 95389, 9188, 29602, 433, 50387, 90342, 63185, 15886, 70163, 47044, 43704, 89369, 52509, 7234, 82873, 84813, 11883, 47887, 70074, 44572, 10545, 60245, 99674, 38005, 84907, 26623, 23149, 72676, 5155, 50353, 86603, 25035, 39173, 91210, 51131, 82656, 90287, 63766, 11123, 82941, 57407, 24833, 18342, 4679, 25309, 3324, 94337, 77718, 31258, 64124, 50956, 8256, 70851, 84332, 40334, 65494, 69984, 58891, 2151, 4855, 44470, 7347, 44265, 94504, 5611, 53150, 15491, 27745, 85701, 87466, 68566, 60079, 88877, 19523, 97131, 75936, 30537, 9441, 4833, 96398, 18558, 64080, 85699, 2498, 61763, 81051, 6003, 31808, 91920, 85037, 17109, 1882, 22577, 82924, 6548, 40283, 12752, 59793, 80114, 22372, 77469, 8383, 13937, 14965, 65161, 77984, 80691, 28910, 8271, 26560, 55864, 44216, 96721, 52692, 42498, 15833, 89664, 75493, 71550, 18000, 42151, 27948, 5975, 77736, 22734, 43975, 8286, 35899, 18512, 99293, 54415, 22026, 91264, 48487, 72536, 21627, 57496, 31934, 76282, 5334, 13102, 82863, 80273, 49300, 20677, 2048, 63827, 10580, 832, 23516, 11683, 92633, 77821, 37189, 54555, 90898, 62391, 90748, 16632, 27021, 18754, 83863, 35513, 68562, 59037, 54005, 22878, 80024, 90659, 4931, 78154, 23593, 94004, 65521, 80222, 82207, 39478, 45593, 54891, 599, 73100, 30885, 25153, 15401, 69494, 12541, 81123, 47435, 99762, 70742, 66524, 28740, 60845, 82111, 86419, 27277, 36231, 25391, 14769, 89816, 62182, 65210, 23111, 20940, 87836, 5651, 7081, 84523, 47735, 27471, 32949, 43816, 80847, 99406, 59394, 5677, 13686, 97047, 6875, 70432, 3809, 63577, 67489, 15212, 30841, 58303, 77687, 75990, 42725, 54927, 26050, 97922, 88716, 42688, 30154, 14435, 29855, 12853, 31079, 96698, 54079, 26208, 49221, 28922, 61733, 76689, 63492, 7122, 57129, 18997, 28333, 79879, 59636, 23338, 50768, 48953, 17878, 59996, 94348, 25448, 82840, 47001, 35349, 26504, 44025, 16673, 4206, 90729, 74536, 7818, 36779, 17891, 14563, 61018, 60106, 54817, 99659, 45033, 28816, 38687, 79119, 20550, 83623, 80154, 22273, 75775, 72450, 30107, 11334, 53961, 68389, 64122, 28369, 77539, 62061, 60655, 36591, 1901, 95684, 56113, 96492, 32329, 32483, 56917, 75951, 29151, 19525, 75196, 665, 54758, 5796, 5250, 61689, 96138, 4406, 62818, 91311, 12844, 59302, 64918, 31524, 10890, 73202, 98707, 1628, 90853, 95916, 53296, 28574, 17394, 46976, 38769, 31334, 84887, 11892, 2087, 62886, 87691, 39955, 21207, 92183, 60199, 74760, 97948, 76501, 3199, 59616, 18169, 92161, 53131, 24241, 48551, 82157, 60856, 92261, 83021, 178, 82222, 9266, 43634, 4287, 38874, 55823, 98682, 35361, 91495, 80281, 71098, 75396, 27151, 89740, 10611, 81324, 44000, 96437, 7184, 67467, 88428, 47708, 6758, 14544, 50194, 47918, 60994, 81151, 5357, 47916, 48029, 22972, 84957, 73241, 92389, 8782, 73499, 92974, 26832, 43899, 70730, 14884, 85070, 62717, 98602, 76037, 27498, 98719, 97650, 99730, 29548, 42003, 46230, 35043, 66003, 89158, 55434, 36325, 7138, 8305, 48865, 45249, 59298, 63730, 65726, 69033, 16083, 61625, 93038, 69717, 69842, 38307, 59241, 81389, 48253, 88251, 90862, 8601, 24687, 60014, 11443, 10508, 51207, 23437, 37797, 10085, 21596, 36168, 14683, 91367, 19392, 65054, 19726, 68247, 82218, 2974, 38426, 89443, 70966, 17305, 62115, 45442, 55067, 58177, 96693, 2815, 38209, 24780, 8250, 2888, 30451, 68107, 44024, 75851, 44930, 85951, 84679, 42769, 63720, 77772, 87274, 91339, 69489, 71888, 58360, 60031, 39856, 74350, 17295, 40172, 22509, 34079, 29724, 63470, 48745, 37767, 6202, 19443, 46284, 81085, 21075, 70165, 37387, 22984, 92813, 90814, 87340, 20117, 21135, 31182, 15324, 5393, 41500, 75304, 16577, 57788, 34132, 48453, 24182, 26890, 73726, 92685, 4546, 87235, 41542, 45068, 19391, 48878, 58776, 70761, 21311, 69945, 39526, 15923, 3266, 53026, 65459, 19055, 41971, 20454, 562, 96796, 71584, 43421, 84835, 92464, 38739, 62116, 37988, 98849, 75199, 19278, 74086, 57947, 44392, 90327, 14721, 95897, 5253, 18274, 88867, 72215, 15319, 40380, 3250, 52642, 80939, 28883, 58454, 46844, 12121, 42777, 7213, 79711, 25578, 76471, 69000, 29116, 36428, 25652, 2955, 10956, 70570, 58387, 88744, 88022, 11452, 67081, 51697, 25486, 64286, 41649, 79058, 79308, 67050, 7346, 87394, 47325, 52108, 93842, 56051, 48448, 50608, 48867, 1597, 37309, 45209, 46052, 40381, 58402, 73535, 11481, 28271, 58224, 97193, 54474, 57999, 37831, 21468, 95420, 55552, 95499, 54289, 18293, 76962, 11282, 18827, 27234, 39745, 62208, 68852, 43963, 77421, 99105, 49253, 11593, 867, 53668, 83729, 54331, 22923, 72851, 60570, 93093, 74437, 98991, 17947, 26117, 24380, 50039, 37940, 72596, 64302, 5535, 39582, 76704, 64762, 73306, 96974, 60745, 29428, 3517, 320, 20188, 34429, 39343, 83958, 83435, 61936, 16276, 85696, 87282, 54677, 23510, 64472, 90156, 84513, 32079, 3728, 15644, 36335, 64625, 8745, 78497, 97722, 47416, 76161, 62978, 74130, 57156, 33804, 82312, 89903, 62395, 90996, 15674, 67177, 96070, 75400, 2299, 34018, 21344, 76238, 7669, 19154, 41901, 60429, 90869, 17759, 46843, 21405, 6932, 35739, 47338, 54986, 83394, 46659, 6385, 37992, 38228, 69417, 83747, 10069, 67353, 25403, 82317, 24018, 78480, 98648, 21906, 71265, 41446, 89780, 39462, 35580, 89842, 91483, 90222, 12561, 70047, 76027, 46088, 1690, 17950, 67917, 36885, 48891, 63556, 44605, 21368, 13424, 28557, 65979, 28981, 24696, 73224, 80403, 90394, 68898, 69742, 93394, 72235, 92047, 99130, 14937, 54702, 60357, 10013, 15278, 17200, 2277, 62851, 45640, 90577, 47522, 18220, 57925, 78335, 44832, 22571, 93047, 39935, 3769, 97577, 15544, 29144, 16870, 90995, 18659, 29697, 40295, 16429, 17067, 10302, 55680, 90546, 14643, 10188, 2464, 63472, 99265, 56524, 5572, 25736, 14131, 4298, 86479, 67302, 77748, 7768, 61483, 15587, 33162, 5672, 8683, 87501, 1346, 98900, 12648, 16225, 78878, 77018, 26217, 87896, 3835, 11898, 19078, 97805, 36356, 75989, 45591, 46163, 21044, 65619, 95493, 80341, 31696, 66179, 74741, 8957, 12989, 75777, 1832, 69315, 28442, 93822, 25106, 36943, 22514, 98830, 70402, 567, 95072, 12934, 28051, 66085, 92767, 62221, 48033, 91505, 77251, 24264, 57627, 88280, 14067, 23704, 49756, 55586, 28085, 67403, 29825, 53422, 99799, 41193, 16202, 61066, 14459, 68121, 17814, 64987, 99912, 92370, 37784, 94651, 5322, 10780, 43006, 64711, 15167, 50434, 37173, 59892, 78694, 96491, 40895, 90052, 58190, 29605, 72602, 53383, 38088, 56093, 24744, 62347, 89015, 48161, 23500, 1675, 88363, 13785, 51952, 57417, 68506, 86317, 88672, 11141, 15626, 18791, 51748, 52510, 91099, 77405, 13332, 22114, 8481, 47672, 26094, 44385, 26248, 77982, 52990, 16090, 30522, 55666, 95053, 65419, 36505, 93519, 76273, 77810, 35779, 84388, 52459, 46674, 62367, 87382, 63508, 67032, 36554, 19316, 59589, 16015, 64138, 65178, 30254, 82361, 17643, 3895, 96704, 6927, 8942, 65291, 88880, 3506, 23474, 50152, 79244, 89024, 42854, 20019, 39682, 81522, 81688, 12626, 99637, 10029, 86649, 98514, 68150, 64512, 61082, 38477, 86781, 65260, 64258, 66164, 34296, 45038, 70848, 71646, 2316, 4141, 56414, 15615, 50283, 58997, 41229, 49327, 58006, 60248, 4716, 4306, 23182, 72963, 39720, 92544, 21514, 64419, 17627, 40954, 93811, 50997, 63891, 14336, 74560, 88476, 86517, 72585, 89833, 70699, 75000, 61580, 62378, 73695, 20487, 7305, 51299, 34523, 64840, 49518, 88668, 46237, 37281, 42006, 3689, 77393, 5913, 16803, 48026, 45727, 97262, 76541, 3525, 81940, 44729, 49882, 12759, 56118, 45238, 46840, 53992, 46041, 86670, 32011, 32455, 30752, 84945, 40907, 77664, 11133, 90176, 8585, 39965, 15003, 44249, 22253, 2583, 70571, 42744, 4899, 60412, 86214, 55374, 74455, 67470, 55203, 34946, 2674, 91220, 61564, 77068, 2914, 41486, 49510, 74757, 51157, 42260, 75043, 12809, 64010, 13114, 90552, 88488, 26988, 44035, 65898, 87475, 44504, 21840, 80586, 39258, 47622, 57146, 26444, 65136, 83288, 9872, 70232, 28059, 37664, 34754, 6230, 38970, 75172, 52694, 29607, 81863, 97371, 12053, 94071, 75784, 12416, 77576, 44150, 35830, 8817, 74242, 69607, 55981, 27490, 10048, 85398, 39563, 66144, 39309, 56742, 86960, 70772, 26224, 54304, 52730, 32933, 81915, 67550, 59405, 71770, 23671, 2438, 82292, 92187, 67662, 24450, 75608, 65431, 27912, 86613, 97282, 61249, 35118, 83614, 69824, 80533, 56849, 74202, 95238, 82150, 7848, 68454, 26299, 47746, 60619, 19365, 31506, 19722, 97836, 89824, 39357, 53773, 41766, 8444, 83090, 54059, 34987, 37623, 84678, 21048, 78804, 30950, 53197, 19655, 25154, 3631, 32189, 40703, 60838, 63620, 73377, 57164, 55314, 84793, 4850, 26475, 20887, 35744, 17882, 3819, 33868, 36408, 86333, 72182, 23066, 84448, 94696, 63680, 2609, 7251, 11000, 78852, 39056, 8333, 53347, 47636, 88037, 86170, 52021, 94926, 18423, 30938, 14671, 74838, 96269, 65568, 15812, 68414, 87060, 76076, 68846, 33004, 65070, 11829, 31205, 78619, 16027, 76588, 96631, 51111, 98090, 97512, 30924, 55426, 18910, 14000, 22957, 28063, 35985, 57602, 53526, 33332, 77264, 7330, 64272, 49113, 91700, 14806, 71531, 55545, 89487, 32289, 36403, 18993, 47578, 62288, 2762, 84593, 79405, 4562, 96921, 86798, 7166, 90529, 88027, 31414, 33158, 72447, 40536, 91831, 47560, 15997, 70111, 30983, 57986, 50917, 1031, 51508, 33493, 39438, 99177, 30862, 38983, 27575, 21001, 57520, 82752, 41573, 84466, 53253, 4440, 35918, 10498, 64447, 61746, 96592, 43610, 94029, 55360, 13159, 34205, 66366, 8698, 46118, 78920, 95581, 71791, 96703, 42830, 59409, 91122, 99873, 6828, 84066, 84094, 24083, 82595, 58117, 84030, 17837, 403, 52515, 82352, 40048, 41120, 75472, 10778, 14526, 20686, 32716, 93528, 17051, 77858, 89883, 53780, 41864, 62700, 34167, 22738, 90107, 77728, 42936, 36935, 26039, 54328, 48182, 23840, 51576, 49456, 74762, 29423, 2717, 3010, 73207, 84817, 80216, 82133, 29977, 11662, 60610, 25987, 34312, 91915, 22119, 6525, 52564, 81003, 56217, 19562, 11673, 48224, 22298, 15381, 1850, 94186, 68922, 57037, 59468, 88291, 64769, 15533, 26626, 24975, 34891, 37743, 97837, 64771, 50079, 17065, 56532, 27080, 78654, 28254, 37089, 95251, 88760, 24820, 54831, 23641, 53546, 19129, 3771, 38036, 34314, 30865, 80960, 59110, 32547, 48449, 76402, 89688, 84834, 60052, 11237, 1352, 61457, 17459, 42368, 90835, 27815, 93498, 50265, 92858, 55481, 96482, 78275, 33584, 9575, 12488, 73007, 7700, 6830, 43628, 30781, 61726, 46439, 79478, 87921, 78411, 98073, 702, 33247, 66131, 81219, 49930, 39650, 51733, 87983, 48614, 17332, 73342, 5390, 76085, 22264, 66027, 64597, 44456, 61352, 11750, 41591, 93094, 69523, 56744, 18585, 34131, 15314, 5788, 16760, 65432, 36831, 98018, 47263, 56372, 37083, 34500, 80338, 99819, 34571, 41026, 57117, 21624, 41358, 96582, 64392, 19826, 72833, 86169, 83447, 57670, 6975, 24762, 19480, 30128, 24004, 4700, 61636, 34108, 21437, 92531, 61228, 57203, 15207, 64868, 5346, 57870, 46729, 92933, 73512, 63596, 59999, 64616, 14744, 94340, 19405, 16207, 45823, 12265, 26703, 37239, 23678, 22058, 98295, 66681, 73825, 86918, 76765, 27839, 76486, 68945, 74814, 23667, 54580, 10070, 32264, 65288, 88723, 12360, 43077, 3402, 37261, 89300, 89212, 15989, 51664, 48963, 77376, 13902, 42406, 20155, 3784, 10625, 60323, 92760, 86447, 62895, 59513, 82359, 35300, 77883, 86246, 760, 43178, 86005, 81574, 59388, 42587, 95885, 96248, 74600, 16950, 27704, 84363, 37087, 42358, 7279, 97491, 9269, 71716, 78943, 49989, 12130, 52279, 33444, 23332, 31467, 52286, 11690, 2688, 27292, 21356, 50921, 52742, 37347, 84825, 98639, 85729, 15807, 39131, 64336, 56670, 96454, 40645, 89779, 79103, 17208, 47060, 87231, 12597, 48163, 67194, 26197, 64175, 58385, 50867, 62447, 35190, 73801, 78687, 55452, 11825, 99154, 55382, 48265, 24426, 56899, 82665, 55838, 12182, 5300, 67284, 44793, 60755, 88662, 29390, 84883, 89946, 93537, 20325, 64922, 69111, 82517, 84833, 68770, 11006, 38103, 61370, 57325, 10378, 62601, 19478, 16749, 39375, 56063, 38729, 74519, 6255, 72219, 10031, 5910, 67294, 14107, 66932, 55694, 54135, 12384, 60903, 86619, 74511, 33211, 46590, 33405, 10717, 65987, 2132, 14933, 97060, 86714, 60670, 23534, 23882, 5932, 10917, 54558, 92324, 39013, 41149, 76966, 94908, 59637, 87852, 58975, 81764, 34743, 44739, 24535, 27665, 24259, 10252, 97914, 79174, 33989, 88265, 13936, 56858, 70041, 766, 51764, 15293, 1743, 85957, 62537, 60314, 90676, 53096, 86208, 97549, 78890, 95146, 63795, 39688, 81067, 80837, 47281, 90526, 88316, 90478, 88487, 39669, 11486, 16395, 1818, 25008, 14668, 2082, 91230, 24670, 3514, 27424, 63060, 85016, 85162, 31690, 57119, 82058, 70593, 25023, 11284, 39441, 60742, 19420, 2859, 15264, 21771, 19978, 96833, 92090, 58361, 63576, 61799, 2572, 58918, 76706, 31801, 26389, 38644, 74636, 51345, 6674, 43758, 1032, 13456, 82629, 93466, 54484, 64972, 96610, 75846, 78097, 95823, 72653, 38112, 4851, 63897, 63714, 77468, 94976, 88954, 63950, 30396, 93623, 69246, 2492, 55312, 75550, 41399, 72516, 8324, 35107, 84974, 54675, 62041, 15327, 64852, 81618, 45451, 58762, 91424, 57177, 2727, 37750, 95185, 25192, 61504, 30422, 66536, 28796, 77025, 78918, 86108, 61402, 17191, 38455, 94764, 93242, 51166, 54638, 88225, 85524, 96283, 47219, 61908, 21237, 81506, 27159, 37022, 90531, 98206, 11297, 87432, 63293, 16920, 22713, 26146, 20488, 79396, 64511, 13225, 54523, 64713, 39800, 30765, 27450, 72984, 6166, 2376, 34184, 46798, 88726, 20788, 22900, 65991, 4190, 8344, 44267, 56442, 14938, 80945, 29712, 15818, 73660, 29372, 63748, 33793, 44606, 46562, 6117, 73010, 35060, 19815, 90457, 79205, 87750, 13650, 92589, 6608, 57386, 59917, 99059]\n",
            "[16143, 48049, 93206, 4897, 49177, 83928, 33526, 70088, 81675, 6368, 77846, 6286, 86765, 14170, 85664, 2587, 6322, 90406, 15176, 58237, 49840, 71733, 33126, 62180, 91995, 20070, 26934, 91120, 89881, 82616, 1219, 39467, 55164, 86725, 13235, 86832, 68197, 35386, 81631, 79381, 17978, 54896, 13751, 67054, 94210, 80962, 15431, 37054, 14943, 13928, 65239, 26037, 79823, 26181, 34471, 68569, 26433, 46913, 92200, 53707, 38712, 21020, 5164, 71845, 65058, 27222, 90204, 63001, 43332, 30737, 358, 1671, 88032, 11665, 14474, 75255, 87690, 64763, 19548, 11807, 67070, 9836, 94840, 13276, 33540, 84454, 30298, 59867, 38800, 34619, 60853, 6564, 13082, 22898, 5170, 38085, 47214, 88705, 40987, 55836, 96801, 15191, 12451, 99379, 6014, 18139, 86947, 84829, 43078, 46861, 57372, 81501, 35167, 96084, 12183, 48840, 44921, 23969, 14920, 52530, 52461, 59839, 35629, 50556, 90426, 62684, 55278, 85045, 21860, 14818, 17368, 95212, 7686, 20892, 13593, 54529, 77430, 63265, 74572, 88918, 57430, 23758, 80127, 49774, 47002, 80131, 3777, 89714, 95325, 17125, 63318, 63979, 14802, 53907, 57761, 6025, 8301, 34290, 85848, 41187, 88857, 68788, 97468, 94866, 74057, 29358, 87797, 44341, 68039, 68564, 90209, 91826, 81033, 12483, 56734, 86732, 95243, 32581, 63167, 45318, 86993, 88643, 84070, 50446, 19484, 73183, 80335, 1526, 84331, 20568, 66265, 61510, 64990, 21679, 9812, 98491, 64441, 42026, 31574, 43371, 6599, 66444, 29190, 72154, 49628, 52858, 30801, 10332, 60174, 58220, 75108, 58733, 11536, 65333, 58598, 41426, 15559, 97679, 85638, 2329, 13453, 52879, 54046, 4696, 73024, 71971, 22, 11913, 79194, 81142, 83563, 39924, 66628, 73706, 27112, 85799, 88011, 59796, 44676, 47624, 7113, 29218, 59566, 43512, 73420, 81232, 78636, 62014, 93933, 86136, 47617, 93836, 59314, 12771, 99525, 86364, 29064, 287, 44742, 46548, 83055, 38270, 71786, 68417, 49006, 92025, 13935, 6000, 21516, 64542, 18408, 93959, 97322, 94576, 53636, 14019, 33330, 80065, 25679, 24581, 15826, 51497, 28257, 59905, 93950, 44293, 14125, 99241, 54325, 6094, 83000, 88098, 77176, 16150, 59950, 86305, 77242, 66086, 17647, 65382, 568, 69515, 96497, 6366, 56729, 76692, 23226, 90677, 75832, 22760, 95747, 16827, 13573, 50778, 86182, 78714, 79450, 42184, 66074, 50418, 54875, 90769, 99925, 32537, 35860, 52149, 44939, 38557, 59355, 17481, 18111, 54099, 78974, 91752, 98097, 67147, 39179, 71802, 41144, 93306, 96576, 72559, 82913, 28487, 26330, 27487, 81810, 93635, 38086, 89995, 45258, 88129, 17389, 93113, 85208, 23306, 71105, 91004, 83476, 42255, 93107, 15126, 99716, 46168, 73699, 62963, 76389, 74794, 87445, 93077, 54719, 88374, 98024, 69979, 37477, 55363, 1673, 68515, 13955, 3312, 49921, 19048, 6955, 87851, 7419, 26201, 98328, 21094, 37567, 89573, 32841, 19192, 8130, 90517, 26738, 98775, 70932, 4234, 47013, 59322, 13432, 80754, 88542, 96926, 73647, 29400, 97309, 84819, 73566, 50972, 31142, 66967, 91242, 37701, 90824, 87096, 6157, 50014, 50797, 89803, 40980, 72368, 7051, 1699, 97474, 32943, 26619, 81338, 58073, 29563, 83071, 93001, 48200, 98973, 77120, 71645, 96790, 79087, 25751, 95015, 25362, 38558, 58827, 23255, 89477, 9760, 24507, 22779, 96348, 67350, 15643, 49440, 5326, 56165, 36583, 72954, 34634, 17048, 21093, 33425, 739, 43327, 61122, 93020, 20290, 5235, 20146, 42287, 78234, 6665, 81968, 80689, 86755, 64297, 75061, 72110, 46934, 9552, 92757, 41662, 68864, 28830, 24100, 68236, 8936, 66209, 20889, 54516, 71182, 70390, 52876, 12051, 45796, 28992, 27964, 86944, 43500, 43393, 47290, 38479, 28632, 98652, 81039, 69533, 62240, 73575, 98583, 85105, 1153, 15036, 87679, 45351, 58414, 31502, 84182, 80439, 81412, 31958, 5226, 42065, 49987, 14860, 50577, 33631, 70809, 94892, 37070, 3238, 67746, 49146, 67411, 66680, 58400, 63806, 5747, 38854, 85397, 25232, 41984, 67357, 10793, 12577, 21940, 70513, 69888, 960, 82173, 8581, 27627, 87862, 82511, 27941, 89837, 55601, 13621, 26945, 70484, 92109, 97173, 57047, 84746, 9452, 97896, 89921, 20152, 3113, 60191, 93961, 43478, 4965, 11471, 9600, 23329, 33018, 9232, 75361, 29837, 33901, 53429, 50860, 59129, 82603, 53011, 56757, 41471, 2213, 51052, 88250, 15506, 70101, 773, 84072, 81048, 8288, 99085, 97773, 76756, 91866, 9514, 46884, 65907, 13911, 37989, 89899, 39498, 79503, 11338, 57367, 49992, 51788, 86602, 4039, 62126, 20489, 69922, 28818, 17875, 97878, 51248, 71529, 38663, 83105, 18884, 39066, 88773, 95594, 84926, 48906, 1461, 72551, 72754, 18530, 16152, 5475, 659, 75067, 78204, 51653, 70405, 71765, 11157, 39936, 27532, 98080, 97180, 95150, 45069, 27752, 54087, 84663, 67181, 18671, 21096, 24116, 28939, 80856, 33127, 25470, 15023, 23770, 87946, 74356, 7128, 98440, 71939, 60458, 84498, 9587, 38096, 8829, 32858, 12871, 25875, 95104, 63857, 43365, 46810, 16805, 87988, 85914, 30740, 13113, 37373, 81201, 9149, 41652, 63682, 59067, 43036, 80785, 86431, 40065, 90892, 76568, 19974, 74128, 74299, 47774, 41462, 56139, 633, 41053, 32266, 29035, 93349, 96969, 83995, 57163, 36264, 47118, 17603, 89073, 96072, 43458, 62908, 60666, 58373, 47020, 40038, 63828, 72308, 14264, 23038, 84613, 79511, 10744, 36780, 18350, 70597, 25746, 34502, 96147, 82132, 10022, 95345, 9882, 2441, 66476, 82788, 4088, 76269, 75877, 53101, 77337, 27886, 4804, 72298, 34159, 71233, 70736, 61879, 85709, 47948, 51445, 29269, 77280, 96105, 38141, 17548, 60909, 65683, 66900, 11869, 52007, 47692, 65820, 1388, 86858, 31310, 80482, 89674, 21737, 99248, 67388, 18398, 58487, 20869, 23480, 74233, 74162, 86430, 19162, 96458, 95945, 63373, 47028, 5297, 28681, 63916, 30375, 8239, 34649, 48422, 30673, 5610, 87632, 27102, 67880, 47349, 61561, 59591, 6086, 5230, 85003, 42476, 13529, 92240, 68337, 83042, 35847, 97243, 34513, 75842, 71349, 74732, 22786, 49369, 49613, 47880, 77028, 85634, 10202, 67720, 32975, 49326, 29215, 67681, 53194, 46255, 45224, 63813, 63191, 79195, 864, 65776, 18214, 57658, 21706, 30145, 10104, 67441, 84341, 36806, 27723, 19692, 24498, 20625, 47477, 78908, 94018, 15509, 86652, 30191, 54344, 43283, 94405, 14855, 63113, 88503, 62759, 62786, 27617, 77436, 21134, 84837, 53857, 2942, 31938, 5655, 16762, 75168, 77640, 21119, 17658, 82515, 67193, 5136, 75008, 19249, 33850, 23597, 67717, 53143, 78558, 73872, 83574, 2440, 94312, 95417, 86736, 37152, 11239, 28389, 58877, 79498, 61789, 63133, 22356, 28752, 53840, 78753, 18705, 76368, 23839, 81685, 86461, 21983, 94920, 89861, 59437, 78188, 77410, 9023, 30122, 49572, 50523, 17329, 14230, 2170, 26522, 68512, 66107, 89701, 55023, 19603, 79365, 12622, 62373, 80576, 78618, 5116, 69655, 65972, 98616, 15403, 12214, 63208, 86427, 17082, 79098, 70685, 157, 88940, 85096, 56557, 68425, 55139, 48546, 5693, 91441, 69444, 56224, 30079, 63192, 49969, 45943, 77207, 97175, 99816, 91318, 75513, 12807, 55769, 33360, 62539, 30475, 10986, 37128, 78419, 71267, 53562, 33791, 24775, 716, 92949, 97471, 932, 75757, 68490, 15444, 68126, 49155, 85792, 26924, 90146, 41405, 53588, 47483, 20287, 55846, 85403, 76725, 33244, 34249, 70268, 55517, 74012, 47925, 80200, 36118, 89208, 52095, 98955, 26698, 54162, 72365, 73080, 63238, 23425, 48524, 73281, 63407, 33263, 40193, 75713, 45135, 92470, 52183, 96440, 18096, 15608, 98017, 30116, 58536, 91660, 21206, 13143, 28109, 66629, 52502, 44359, 72165, 80481, 91364, 89727, 92640, 6822, 21068, 51000, 83345, 693, 11939, 61822, 78675, 57065, 11552, 8399, 34483, 29067, 48606, 10490, 79826, 4948, 94960, 50374, 52513, 80473, 86006, 68289, 37548, 93271, 78311, 7531, 22973, 83924, 64797, 57536, 1403, 26438, 86099, 67915, 37487, 25525, 4405, 78579, 66918, 67608, 91547, 30365, 80634, 22214, 88345, 4726, 47151, 31359, 85854, 37, 20636, 11382, 36167, 52354, 46285, 87773, 51792, 76818, 26255, 2014, 96590, 92225, 11818, 72036, 37289, 95176, 73284, 76406, 45625, 45544, 36242, 29661, 79477, 25496, 59606, 52947, 75354, 609, 34223, 22942, 53363, 66353, 13954, 73220, 9487, 65951, 38568, 44560, 15336, 67277, 33776, 70504, 75352, 32786, 90989, 58034, 49424, 73815, 63390, 31886, 99283, 44520, 89337, 60387, 76916, 3584, 63172, 15239, 33792, 8854, 50157, 28885, 88724, 91904, 30137, 41383, 54057, 46281, 67699, 70208, 1274, 91857, 34517, 32539, 37655, 12190, 52288, 88302, 98145, 44825, 9965, 72686, 23394, 62463, 41139, 46338, 28647, 75197, 35268, 23957, 97800, 89536, 24925, 65404, 96614, 26170, 30783, 96394, 31726, 34787, 30042, 26577, 32728, 81080, 46665, 20446, 13983, 15712, 10287, 88580, 86956, 64574, 80455, 868, 70972, 5539, 63214, 48653, 81352, 41342, 64532, 75303, 36009, 64330, 66995, 36735, 52150, 29110, 98326, 75584, 16809, 7097, 68909, 55466, 62694, 70879, 4268, 65860, 45519, 51605, 89959, 22911, 59925, 15776, 91520, 67922, 60302, 41373, 90336, 1103, 1549, 88356, 27623, 49732, 76153, 13205, 42655, 47395, 80318, 34039, 71901, 34452, 31082, 35311, 61780, 80358, 44970, 47962, 24105, 65374, 55567, 27594, 54931, 91843, 98591, 48799, 47851, 52506, 36651, 59077, 23578, 74895, 17188, 75483, 89916, 29958, 13090, 94478, 30907, 72789, 56651, 49923, 25698, 19116, 96802, 19601, 61995, 1276, 23148, 55249, 65483, 17625, 82660, 67765, 69990, 94445, 63782, 39326, 32895, 73680, 74427, 6253, 52219, 12972, 90510, 21409, 7869, 28241, 62460, 82557, 58963, 97595, 43864, 34048, 47312, 47226, 73446, 73071, 33779, 45107, 2599, 53970, 15890, 46018, 89074, 79374, 26077, 75609, 85179, 85082, 70574, 22877, 37304, 46544, 42610, 88236, 66904, 63896, 96537, 58580, 10277, 49947, 80434, 37555, 60784, 82799, 18985, 21964, 83962, 44222, 55288, 82742, 80256, 74925, 53054, 9351, 10369, 21233, 45039, 29912, 41088, 41533, 85591, 38188, 93117, 79349, 84494, 51833, 35553, 58313, 47600, 76928, 68280, 59020, 21930, 24102, 3027, 16389, 95390, 30753, 32983, 97501, 91841, 98269, 27600, 21877, 52041, 13501, 12524, 8361, 71884, 7055, 3455, 52037, 68679, 10911, 13622, 34400, 81015, 20352, 11050, 85830, 51097, 40549, 30062, 32426, 96677, 37247, 58085, 82114, 16569, 17206, 69041, 22361, 3744, 4607, 86972, 46771, 42624, 62410, 61235, 35705, 71898, 58306, 17709, 91438, 23204, 77441, 78326, 59840, 82712, 98161, 83342, 73922, 57013, 68610, 83858, 83824, 69964, 40587, 45504, 63131, 70735, 29770, 11738, 57915, 40352, 54028, 34053, 20410, 39789, 1383, 12, 68592, 99391, 17865, 45073, 37586, 61498, 70136, 1090, 90147, 64478, 99021, 62530, 39270, 1197, 56418, 38393, 78250, 30305, 946, 71855, 48974, 24716, 53967, 73472, 57292, 51740, 32754, 21400, 93708, 96615, 84671, 51081, 49592, 28913, 34469, 10382, 55343, 81962, 31399, 67713, 80375, 90954, 89737, 35633, 37313, 84994, 97376, 69722, 35235, 54120, 24641, 8973, 23908, 17907, 37957, 14464, 83478, 80967, 59345, 35669, 91812, 81625, 64486, 24613, 42027, 2542, 19942, 70119, 2900, 24371, 13405, 36977, 35283, 93742, 57464, 95303, 1075, 30514, 11822, 19750, 1930, 64694, 28467, 44815, 55082, 40838, 65325, 48679, 60776, 91348, 43286, 10515, 98378, 19148, 7345, 34931, 51435, 9356, 61623, 23803, 25191, 32778, 1653, 15985, 93674, 32631, 50436, 58059, 32396, 96681, 4392, 26106, 60402, 96380, 12315, 68306, 87294, 27321, 61974, 51003, 89318, 40908, 42344, 20789, 82465, 95451, 5529, 97612, 72034, 68278, 16009, 63075, 83692, 39166, 26047, 47241, 6827, 87385, 28545, 14801, 30928, 82956, 56906, 42534, 1974, 21936, 36188, 76637, 15682, 31862, 1170, 5504, 76162, 90538, 62294, 90230, 78146, 20315, 11728, 32600, 20669, 65525, 11980, 89908, 81087, 44357, 99557, 81937, 7871, 7834, 46598, 84485, 20174, 70300, 14076, 16492, 63942, 30497, 41515, 73184, 84495, 99181, 45523, 57503, 96100, 25292, 2798, 90341, 49514, 46945, 94948, 17659, 32859, 5175, 63609, 92618, 57344, 73272, 38628, 71137, 91362, 64237, 24874, 74278, 24461, 71253, 45569, 42425, 95997, 61393, 36087, 78470, 72682, 21016, 9027, 69617, 20319, 58901, 38754, 70989, 48118, 59517, 94, 83627, 66316, 49681, 96161, 24318, 2453, 81229, 47720, 81290, 31298, 42034, 94503, 8302, 86283, 70642, 50789, 24886, 89551, 65214, 72281, 20202, 80352, 37110, 42283, 53713, 84004, 42208, 14478, 12616, 68576, 86362, 8739, 5737, 23414, 4099, 26486, 14031, 63618, 25115, 12943, 4170, 74843, 84115, 50934, 86235, 64213, 68920, 81785, 91922, 77371, 33546, 6433, 48018, 28930, 79423, 94089, 9289, 1715, 27359, 85950, 64409, 10480, 61349, 83744, 7956, 47307, 73140, 97449, 54519, 92855, 7641, 80862, 34840, 69339, 5328, 96246, 9225, 39833, 28298, 68089, 12729, 13267, 95049, 30279, 69685, 50506, 24832, 25312, 68969, 86098, 32605, 74714, 23448, 73193, 98198, 73156, 54419, 97793, 13829, 83705, 75571, 46918, 88407, 60125, 92084, 87194, 55977, 13644, 21864, 23644, 72085, 52632, 66151, 44238, 86184, 20732, 78632, 58066, 41307, 72100, 42553, 48722, 56438, 95140, 42395, 79745, 31551, 73812, 28039, 49160, 72120, 97593, 33303, 47187, 59297, 58654, 52047, 25, 95199, 4543, 37287, 78087, 2136, 67844, 17705, 39562, 860, 39365, 29083, 28157, 41275, 2844, 90402, 72569, 67013, 72918, 74922, 20278, 12358, 4946, 60341, 46616, 20461, 18141, 34732, 48114, 76304, 32749, 39361, 12046, 74774, 52402, 74588, 28499, 96241, 10118, 94841, 42558, 63246, 22662, 63999, 90386, 75527, 78018, 84181, 39373, 4898, 95786, 50010, 10286, 7329, 43829, 56925, 54594, 15799, 29716, 97999, 85561, 78944, 83084, 82862, 50133, 7094, 39948, 68731, 5397, 70769, 74044, 19605, 42838, 65850, 91457, 28940, 20079, 6621, 88294, 95889, 51495, 58407, 98676, 78005, 75399, 66155, 29109, 56614, 37982, 51684, 19400, 17326, 44062, 10819, 62371, 74899, 97689, 6463, 71847, 52322, 34413, 11151, 52235, 56949, 91471, 17088, 99881, 17677, 63035, 73308, 25966, 51815, 85491, 74885, 25703, 73553, 80739, 96425, 68714, 32275, 31760, 9390, 34898, 56369, 42390, 89749, 75499, 11743, 14749, 88047, 54209, 55514, 47876, 45653, 24967, 42039, 45157, 77840, 85905, 3172, 39953, 22184, 45838, 80769, 81681, 19112, 57732, 5882, 30603, 26173, 89831, 48997, 99317, 95484, 11247, 14728, 96938, 7148, 31856, 81396, 19356, 37707, 1800, 44993, 90937, 14585, 39992, 58990, 61759, 2981, 43499, 27395, 96994, 70517, 27770, 26712, 71620, 68585, 98350, 63311, 81663, 95672, 18526, 91104, 91587, 87590, 2410, 49362, 76415, 86969, 69048, 5699, 33483, 22324, 7878, 37226, 26305, 91295, 80997, 35557, 6957, 60943, 85820, 1092, 8729, 86556, 35561, 86898, 86520, 14141, 2500, 38337, 85119, 50662, 30299, 49899, 66655, 13055, 63525, 78263, 69672, 11537, 24434, 26066, 65621, 60029, 73490, 93384, 2816, 5210, 39967, 43721, 64216, 51563, 97568, 20578, 2408, 45453, 89694, 46125, 46580, 81950, 39626, 30959, 65700, 36159, 8127, 82023, 33774, 50747, 3862, 72737, 36725, 19884, 44798, 51491, 86105, 17991, 11507, 95668, 50096, 68251, 88866, 80274, 81988, 89983, 29809, 54700, 31504, 75090, 20021, 55897, 40944, 79346, 43160, 58873, 71071, 17271, 27100, 85520, 18163, 76156, 70956, 89659, 26517, 18102, 40501, 90247, 92423, 68656, 17727, 19025, 86013, 74035, 20715, 41614, 8888, 73051, 69856, 94298, 15517, 24134, 41628, 19073, 95299, 41771, 54269, 53903, 39760, 58065, 97728, 83472, 96775, 35887, 19917, 24632, 13994, 17241, 24215, 3433, 99935, 80213, 80864, 34978, 79377, 74323, 80263, 30266, 78166, 30432, 90095, 3418, 47089, 10417, 90196, 62469, 65840, 79260, 61441, 93325, 85140, 24114, 50785, 64414, 62108, 18024, 21467, 25330, 29658, 53554, 1967, 35370, 54138, 29170, 97303, 87993, 26585, 99323, 26812, 8668, 23209, 57577, 80879, 64217, 90159, 42584, 59971, 32346, 56040, 53066, 79682, 96381, 94398, 41012, 51662, 80151, 97316, 74964, 70275, 68843, 84068, 92289, 5047, 68242, 14328, 59193, 59886, 5559, 32207, 67987, 70499, 51853, 96360, 5144, 73098, 50777, 67649, 6461, 24884, 38165, 57613, 39918, 37475, 60469, 21821, 55372, 38590, 80364, 7149, 90433, 67760, 60762, 84685, 59204, 11854, 94718, 65622, 14833, 23562, 76735, 91241, 71618, 17734, 51520, 42396, 59098, 3265, 23445, 59464, 77373, 93406, 26467, 59596, 11820, 42477, 90664, 85010, 93253, 21495, 94158, 96110, 16193, 11952, 14963, 92566, 58903, 83109, 47571, 11181, 68657, 92704, 50343, 95272, 67065, 80225, 20958, 49634, 72134, 49886, 22398, 43934, 74120, 86445, 19672, 21249, 18953, 23444, 93329, 6725, 54995, 40378, 40569, 95703, 58491, 37851, 82110, 23684, 15408, 17245, 26588, 463, 81600, 33175, 1600, 60115, 65225, 65358, 71237, 753, 79689, 64679, 31179, 28426, 77183, 86438, 62352, 59472, 53759, 57917, 10407, 78802, 78656, 861, 32075, 71741, 36452, 81233, 82396, 73079, 6411, 24227, 19432, 7217, 85626, 45746, 4813, 19054, 4250, 87424, 75771, 79073, 43399, 11495, 6426, 14272, 54651, 23363, 21146, 88092, 37274, 80096, 90638, 91730, 77983, 75010, 73685, 23254, 98216, 75886, 47210, 4697, 12206, 39229, 42312, 48309, 49668, 8869, 99410, 56010, 72151, 8509, 38382, 61710, 17635, 15993, 91045, 35968, 43150, 69081, 54232, 68766, 27504, 91203, 27400, 80223, 7626, 14326, 74890, 95646, 82441, 69330, 11491, 63394, 94905, 90263, 79269, 92642, 37642, 55974, 79802, 41482, 34034, 75385, 46380, 17001, 80516, 73745, 65063, 68118, 95575, 82818, 64553, 23580, 79876, 30503, 92875, 38074, 25369, 207, 15493, 3143, 60933, 81980, 15456, 96661, 27175, 80649, 54346, 5962, 43750, 45829, 73454, 83558, 27831, 1480, 83967, 26370, 90441, 36913, 33347, 8891, 40340, 39358, 66412, 72088, 42457, 803, 89893, 43684, 51910, 74569, 3816, 23020, 43321, 44294, 88142, 62797, 62193, 4660, 84626, 17793, 63110, 20366, 82208, 60374, 43923, 60616, 54257, 97332, 7342, 68298, 39235, 74048, 95022, 88892, 41353, 70239, 27297, 75680, 89848, 43479, 8678, 19569, 36760, 4085, 44453, 49183, 82118, 70028, 21753, 74839, 79388, 51061, 24560, 78012, 15315, 98505, 40407, 92440, 93040, 4145, 35585, 54246, 11376, 65149, 31148, 48704, 59232, 39666, 28329, 68825, 39625, 22939, 14710, 49049, 4901, 26489, 12137, 58166, 66321, 3268, 63263, 65543, 20195, 44579, 63369, 96002, 68632, 40679, 42904, 18781, 12878, 67652, 88698, 17395, 26894, 94970, 4791, 60210, 50801, 93543, 68464, 15182, 538, 5771, 90053, 77894, 11413, 61194, 6047, 13513, 68233, 97721, 40957, 2946, 75701, 99417, 40913, 83735, 42058, 26287, 25237, 37560, 36261, 69766, 41831, 57817, 87965, 15420, 35737, 19571, 20643, 35866, 15002, 1999, 81650, 73351, 67378, 13418, 27076, 71110, 45916, 72006, 41744, 35527, 18554, 92321, 75246, 32089, 22449, 9337, 40812, 80381, 44399, 70854, 58149, 6648, 17049, 3800, 61700, 88538, 6613, 13884, 50279, 11287, 51369, 23459, 92363, 78134, 77693, 82505, 90456, 91667, 58436, 80781, 46612, 40952, 43559, 25971, 93441, 99405, 87932, 10295, 99056, 61039, 74421, 17274, 12178, 91566, 61377, 12748, 59714, 40683, 89715, 84465, 93089, 61675, 30368, 29333, 18837, 80863, 33823, 47638, 51390, 24032, 91699, 87186, 43296, 42567, 59412, 63898, 3966, 8567, 62303, 14796, 46064, 62737, 60455, 22387, 36996, 45693, 79225, 75324, 16697, 66577, 13491, 53174, 93621, 14022, 42712, 72895, 85124, 9296, 69828, 60420, 52535, 77402, 54190, 81379, 31941, 71820, 20843, 63225, 50307, 8658, 44658, 27294, 90971, 77459, 56511, 57062, 74345, 44852, 71372, 90981, 30953, 22686, 86849, 87766, 10209, 96910, 93311, 75260, 14984, 77616, 78128, 60674, 42647, 72756, 12799, 58355, 23091, 40374, 53188, 9123, 78415, 14253, 89850, 49664, 42914, 64788, 84540, 86529, 8058, 11866, 28522, 18208, 98957, 83379, 24, 99231, 19231, 86623, 59372, 69632, 38207, 51115, 80684, 58610, 25646, 26956, 89327, 41497, 39286, 89071, 39917, 56980, 94082, 45123, 76379, 1064, 80149, 66902, 52978, 16718, 38559, 8180, 48394, 71943, 6963, 110, 92190, 73404, 47086, 14378, 36989, 4087, 30833, 56585, 92041, 77353, 51677, 81948, 41697, 93293, 50173, 53219, 50012, 57041, 71449, 27684, 86833, 22729, 62242, 18228, 24671, 72800, 50409, 47223, 54687, 20220, 37810, 87826, 16455, 17600, 1520, 9403, 84985, 2058, 18873, 94547, 63792, 57243, 17796, 11097, 17985, 84180, 54507, 59772, 79223, 55797, 81690, 23566, 59558, 66770, 55590, 58988, 50425, 46570, 29588, 24352, 55675, 79242, 973, 75751, 65294, 95802, 31031, 93340, 65762, 35291, 53849, 71587, 75543, 48099, 4385, 4963, 74468, 63342, 92390, 48310, 14832, 76056, 63115, 90504, 18623, 95706, 95852, 68997, 98380, 36624, 60940, 67757, 10254, 68597, 11592, 32142, 82662, 97214, 86997, 87650, 10234, 89662, 83058, 70673, 75973, 40959, 6917, 45029, 70127, 1413, 61455, 59511, 67195, 61503, 75230, 96182, 43452, 55183, 46257, 38616, 37907, 21955, 4630, 91101, 78333, 98228, 39855, 95285, 73886, 34136, 8050, 82483, 62018, 75778, 22161, 75085, 6765, 86025, 38240, 96649, 3578, 37593, 63538, 10814, 16622, 66269, 10074, 36418, 33036, 17372, 80713, 36827, 36073, 33679, 1861, 79144, 22886, 77564, 96857, 19809, 86396, 58543, 48466, 22989, 34242, 91851, 30958, 63559, 23699, 69125, 4337, 44937, 11062, 19014, 78059, 20204, 65004, 98665, 54125, 50222, 31188, 86594, 57695, 95158, 83568, 21926, 27637, 75727, 96254, 45229, 7120, 34654, 99022, 15203, 6884, 21967, 60819, 52264, 62420, 39500, 62425, 97799, 98622, 69798, 30626, 49781, 89589, 92485, 51127, 34422, 69526, 56981, 1554, 37852, 50070, 88931, 41377, 69501, 89505, 12761, 69637, 83548, 46376, 56595, 80017, 85467, 35728, 43904, 35432, 35007, 12881, 33468, 85766, 51269, 60438, 88511, 98184, 31692, 96247, 88065, 77165, 25549, 68151, 44224, 88829, 23582, 41060, 71776, 1386, 88185, 8906, 12805, 68847, 13619, 89849, 58450, 46073, 28759, 95060, 37132, 33016, 25307, 4461, 3106, 81185, 12050, 77874, 86062, 28419, 78562, 15963, 15725, 79257, 17027, 49277, 86034, 84922, 74195, 24217, 14528, 91180, 24151, 33205, 38609, 61204, 86570, 9924, 83726, 59433, 36226, 55965, 90730, 42389, 33729, 9698, 36344, 8177, 50174, 50933, 43601, 7872, 33847, 34690, 23321, 57747, 9096, 64450, 79993, 51463, 23388, 84604, 64494, 14212, 18857, 70861, 56525, 28624, 13926, 57878, 93768, 33947, 4569, 9557, 9229, 74887, 95360, 32846, 58442, 2459, 65234, 19510, 85572, 83930, 113, 4959, 87111, 51181, 34922, 19871, 91757, 43231, 51292, 75319, 485, 92747, 64314, 62670, 52941, 95389, 9188, 29602, 433, 50387, 90342, 63185, 15886, 70163, 47044, 43704, 89369, 52509, 7234, 82873, 84813, 11883, 47887, 70074, 44572, 10545, 60245, 99674, 38005, 84907, 26623, 23149, 72676, 5155, 50353, 86603, 25035, 39173, 91210, 51131, 82656, 90287, 63766, 11123, 82941, 57407, 24833, 18342, 4679, 25309, 3324, 94337, 77718, 31258, 64124, 50956, 8256, 70851, 84332, 40334, 65494, 69984, 58891, 2151, 4855, 44470, 7347, 44265, 94504, 5611, 53150, 15491, 27745, 85701, 87466, 68566, 60079, 88877, 19523, 97131, 75936, 30537, 9441, 4833, 96398, 18558, 64080, 85699, 2498, 61763, 81051, 6003, 31808, 91920, 85037, 17109, 1882, 22577, 82924, 6548, 40283, 12752, 59793, 80114, 22372, 77469, 8383, 13937, 14965, 65161, 77984, 80691, 28910, 8271, 26560, 55864, 44216, 96721, 52692, 42498, 15833, 89664, 75493, 71550, 18000, 42151, 27948, 5975, 77736, 22734, 43975, 8286, 35899, 18512, 99293, 54415, 22026, 91264, 48487, 72536, 21627, 57496, 31934, 76282, 5334, 13102, 82863, 80273, 49300, 20677, 2048, 63827, 10580, 832, 23516, 11683, 92633, 77821, 37189, 54555, 90898, 62391, 90748, 16632, 27021, 18754, 83863, 35513, 68562, 59037, 54005, 22878, 80024, 90659, 4931, 78154, 23593, 94004, 65521, 80222, 82207, 39478, 45593, 54891, 599, 73100, 30885, 25153, 15401, 69494, 12541, 81123, 47435, 99762, 70742, 66524, 28740, 60845, 82111, 86419, 27277, 36231, 25391, 14769, 89816, 62182, 65210, 23111, 20940, 87836, 5651, 7081, 84523, 47735, 27471, 32949, 43816, 80847, 99406, 59394, 5677, 13686, 97047, 6875, 70432, 3809, 63577, 67489, 15212, 30841, 58303, 77687, 75990, 42725, 54927, 26050, 97922, 88716, 42688, 30154, 14435, 29855, 12853, 31079, 96698, 54079, 26208, 49221, 28922, 61733, 76689, 63492, 7122, 57129, 18997, 28333, 79879, 59636, 23338, 50768, 48953, 17878, 59996, 94348, 25448, 82840, 47001, 35349, 26504, 44025, 16673, 4206, 90729, 74536, 7818, 36779, 17891, 14563, 61018, 60106, 54817, 99659, 45033, 28816, 38687, 79119, 20550, 83623, 80154, 22273, 75775, 72450, 30107, 11334, 53961, 68389, 64122, 28369, 77539, 62061, 60655, 36591, 1901, 95684, 56113, 96492, 32329, 32483, 56917, 75951, 29151, 19525, 75196, 665, 54758, 5796, 5250, 61689, 96138, 4406, 62818, 91311, 12844, 59302, 64918, 31524, 10890, 73202, 98707, 1628, 90853, 95916, 53296, 28574, 17394, 46976, 38769, 31334, 84887, 11892, 2087, 62886, 87691, 39955, 21207, 92183, 60199, 74760, 97948, 76501, 3199, 59616, 18169, 92161, 53131, 24241, 48551, 82157, 60856, 92261, 83021, 178, 82222, 9266, 43634, 4287, 38874, 55823, 98682, 35361, 91495, 80281, 71098, 75396, 27151, 89740, 10611, 81324, 44000, 96437, 7184, 67467, 88428, 47708, 6758, 14544, 50194, 47918, 60994, 81151, 5357, 47916, 48029, 22972, 84957, 73241, 92389, 8782, 73499, 92974, 26832, 43899, 70730, 14884, 85070, 62717, 98602, 76037, 27498, 98719, 97650, 99730, 29548, 42003, 46230, 35043, 66003, 89158, 55434, 36325, 7138, 8305, 48865, 45249, 59298, 63730, 65726, 69033, 16083, 61625, 93038, 69717, 69842, 38307, 59241, 81389, 48253, 88251, 90862, 8601, 24687, 60014, 11443, 10508, 51207, 23437, 37797, 10085, 21596, 36168, 14683, 91367, 19392, 65054, 19726, 68247, 82218, 2974, 38426, 89443, 70966, 17305, 62115, 45442, 55067, 58177, 96693, 2815, 38209, 24780, 8250, 2888, 30451, 68107, 44024, 75851, 44930, 85951, 84679, 42769, 63720, 77772, 87274, 91339, 69489, 71888, 58360, 60031, 39856, 74350, 17295, 40172, 22509, 34079, 29724, 63470, 48745, 37767, 6202, 19443, 46284, 81085, 21075, 70165, 37387, 22984, 92813, 90814, 87340, 20117, 21135, 31182, 15324, 5393, 41500, 75304, 16577, 57788, 34132, 48453, 24182, 26890, 73726, 92685, 4546, 87235, 41542, 45068, 19391, 48878, 58776, 70761, 21311, 69945, 39526, 15923, 3266, 53026, 65459, 19055, 41971, 20454, 562, 96796, 71584, 43421, 84835, 92464, 38739, 62116, 37988, 98849, 75199, 19278, 74086, 57947, 44392, 90327, 14721, 95897, 5253, 18274, 88867, 72215, 15319, 40380, 3250, 52642, 80939, 28883, 58454, 46844, 12121, 42777, 7213, 79711, 25578, 76471, 69000, 29116, 36428, 25652, 2955, 10956, 70570, 58387, 88744, 88022, 11452, 67081, 51697, 25486, 64286, 41649, 79058, 79308, 67050, 7346, 87394, 47325, 52108, 93842, 56051, 48448, 50608, 48867, 1597, 37309, 45209, 46052, 40381, 58402, 73535, 11481, 28271, 58224, 97193, 54474, 57999, 37831, 21468, 95420, 55552, 95499, 54289, 18293, 76962, 11282, 18827, 27234, 39745, 62208, 68852, 43963, 77421, 99105, 49253, 11593, 867, 53668, 83729, 54331, 22923, 72851, 60570, 93093, 74437, 98991, 17947, 26117, 24380, 50039, 37940, 72596, 64302, 5535, 39582, 76704, 64762, 73306, 96974, 60745, 29428, 3517, 320, 20188, 34429, 39343, 83958, 83435, 61936, 16276, 85696, 87282, 54677, 23510, 64472, 90156, 84513, 32079, 3728, 15644, 36335, 64625, 8745, 78497, 97722, 47416, 76161, 62978, 74130, 57156, 33804, 82312, 89903, 62395, 90996, 15674, 67177, 96070, 75400, 2299, 34018, 21344, 76238, 7669, 19154, 41901, 60429, 90869, 17759, 46843, 21405, 6932, 35739, 47338, 54986, 83394, 46659, 6385, 37992, 38228, 69417, 83747, 10069, 67353, 25403, 82317, 24018, 78480, 98648, 21906, 71265, 41446, 89780, 39462, 35580, 89842, 91483, 90222, 12561, 70047, 76027, 46088, 1690, 17950, 67917, 36885, 48891, 63556, 44605, 21368, 13424, 28557, 65979, 28981, 24696, 73224, 80403, 90394, 68898, 69742, 93394, 72235, 92047, 99130, 14937, 54702, 60357, 10013, 15278, 17200, 2277, 62851, 45640, 90577, 47522, 18220, 57925, 78335, 44832, 22571, 93047, 39935, 3769, 97577, 15544, 29144, 16870, 90995, 18659, 29697, 40295, 16429, 17067, 10302, 55680, 90546, 14643, 10188, 2464, 63472, 99265, 56524, 5572, 25736, 14131, 4298, 86479, 67302, 77748, 7768, 61483, 15587, 33162, 5672, 8683, 87501, 1346, 98900, 12648, 16225, 78878, 77018, 26217, 87896, 3835, 11898, 19078, 97805, 36356, 75989, 45591, 46163, 21044, 65619, 95493, 80341, 31696, 66179, 74741, 8957, 12989, 75777, 1832, 69315, 28442, 93822, 25106, 36943, 22514, 98830, 70402, 567, 95072, 12934, 28051, 66085, 92767, 62221, 48033, 91505, 77251, 24264, 57627, 88280, 14067, 23704, 49756, 55586, 28085, 67403, 29825, 53422, 99799, 41193, 16202, 61066, 14459, 68121, 17814, 64987, 99912, 92370, 37784, 94651, 5322, 10780, 43006, 64711, 15167, 50434, 37173, 59892, 78694, 96491, 40895, 90052, 58190, 29605, 72602, 53383, 38088, 56093, 24744, 62347, 89015, 48161, 23500, 1675, 88363, 13785, 51952, 57417, 68506, 86317, 88672, 11141, 15626, 18791, 51748, 52510, 91099, 77405, 13332, 22114, 8481, 47672, 26094, 44385, 26248, 77982, 52990, 16090, 30522, 55666, 95053, 65419, 36505, 93519, 76273, 77810, 35779, 84388, 52459, 46674, 62367, 87382, 63508, 67032, 36554, 19316, 59589, 16015, 64138, 65178, 30254, 82361, 17643, 3895, 96704, 6927, 8942, 65291, 88880, 3506, 23474, 50152, 79244, 89024, 42854, 20019, 39682, 81522, 81688, 12626, 99637, 10029, 86649, 98514, 68150, 64512, 61082, 38477, 86781, 65260, 64258, 66164, 34296, 45038, 70848, 71646, 2316, 4141, 56414, 15615, 50283, 58997, 41229, 49327, 58006, 60248, 4716, 4306, 23182, 72963, 39720, 92544, 21514, 64419, 17627, 40954, 93811, 50997, 63891, 14336, 74560, 88476, 86517, 72585, 89833, 70699, 75000, 61580, 62378, 73695, 20487, 7305, 51299, 34523, 64840, 49518, 88668, 46237, 37281, 42006, 3689, 77393, 5913, 16803, 48026, 45727, 97262, 76541, 3525, 81940, 44729, 49882, 12759, 56118, 45238, 46840, 53992, 46041, 86670, 32011, 32455, 30752, 84945, 40907, 77664, 11133, 90176, 8585, 39965, 15003, 44249, 22253, 2583, 70571, 42744, 4899, 60412, 86214, 55374, 74455, 67470, 55203, 34946, 2674, 91220, 61564, 77068, 2914, 41486, 49510, 74757, 51157, 42260, 75043, 12809, 64010, 13114, 90552, 88488, 26988, 44035, 65898, 87475, 44504, 21840, 80586, 39258, 47622, 57146, 26444, 65136, 83288, 9872, 70232, 28059, 37664, 34754, 6230, 38970, 75172, 52694, 29607, 81863, 97371, 12053, 94071, 75784, 12416, 77576, 44150, 35830, 8817, 74242, 69607, 55981, 27490, 10048, 85398, 39563, 66144, 39309, 56742, 86960, 70772, 26224, 54304, 52730, 32933, 81915, 67550, 59405, 71770, 23671, 2438, 82292, 92187, 67662, 24450, 75608, 65431, 27912, 86613, 97282, 61249, 35118, 83614, 69824, 80533, 56849, 74202, 95238, 82150, 7848, 68454, 26299, 47746, 60619, 19365, 31506, 19722, 97836, 89824, 39357, 53773, 41766, 8444, 83090, 54059, 34987, 37623, 84678, 21048, 78804, 30950, 53197, 19655, 25154, 3631, 32189, 40703, 60838, 63620, 73377, 57164, 55314, 84793, 4850, 26475, 20887, 35744, 17882, 3819, 33868, 36408, 86333, 72182, 23066, 84448, 94696, 63680, 2609, 7251, 11000, 78852, 39056, 8333, 53347, 47636, 88037, 86170, 52021, 94926, 18423, 30938, 14671, 74838, 96269, 65568, 15812, 68414, 87060, 76076, 68846, 33004, 65070, 11829, 31205, 78619, 16027, 76588, 96631, 51111, 98090, 97512, 30924, 55426, 18910, 14000, 22957, 28063, 35985, 57602, 53526, 33332, 77264, 7330, 64272, 49113, 91700, 14806, 71531, 55545, 89487, 32289, 36403, 18993, 47578, 62288, 2762, 84593, 79405, 4562, 96921, 86798, 7166, 90529, 88027, 31414, 33158, 72447, 40536, 91831, 47560, 15997, 70111, 30983, 57986, 50917, 1031, 51508, 33493, 39438, 99177, 30862, 38983, 27575, 21001, 57520, 82752, 41573, 84466, 53253, 4440, 35918, 10498, 64447, 61746, 96592, 43610, 94029, 55360, 13159, 34205, 66366, 8698, 46118, 78920, 95581, 71791, 96703, 42830, 59409, 91122, 99873, 6828, 84066, 84094, 24083, 82595, 58117, 84030, 17837, 403, 52515, 82352, 40048, 41120, 75472, 10778, 14526, 20686, 32716, 93528, 17051, 77858, 89883, 53780, 41864, 62700, 34167, 22738, 90107, 77728, 42936, 36935, 26039, 54328, 48182, 23840, 51576, 49456, 74762, 29423, 2717, 3010, 73207, 84817, 80216, 82133, 29977, 11662, 60610, 25987, 34312, 91915, 22119, 6525, 52564, 81003, 56217, 19562, 11673, 48224, 22298, 15381, 1850, 94186, 68922, 57037, 59468, 88291, 64769, 15533, 26626, 24975, 34891, 37743, 97837, 64771, 50079, 17065, 56532, 27080, 78654, 28254, 37089, 95251, 88760, 24820, 54831, 23641, 53546, 19129, 3771, 38036, 34314, 30865, 80960, 59110, 32547, 48449, 76402, 89688, 84834, 60052, 11237, 1352, 61457, 17459, 42368, 90835, 27815, 93498, 50265, 92858, 55481, 96482, 78275, 33584, 9575, 12488, 73007, 7700, 6830, 43628, 30781, 61726, 46439, 79478, 87921, 78411, 98073, 702, 33247, 66131, 81219, 49930, 39650, 51733, 87983, 48614, 17332, 73342, 5390, 76085, 22264, 66027, 64597, 44456, 61352, 11750, 41591, 93094, 69523, 56744, 18585, 34131, 15314, 5788, 16760, 65432, 36831, 98018, 47263, 56372, 37083, 34500, 80338, 99819, 34571, 41026, 57117, 21624, 41358, 96582, 64392, 19826, 72833, 86169, 83447, 57670, 6975, 24762, 19480, 30128, 24004, 4700, 61636, 34108, 21437, 92531, 61228, 57203, 15207, 64868, 5346, 57870, 46729, 92933, 73512, 63596, 59999, 64616, 14744, 94340, 19405, 16207, 45823, 12265, 26703, 37239, 23678, 22058, 98295, 66681, 73825, 86918, 76765, 27839, 76486, 68945, 74814, 23667, 54580, 10070, 32264, 65288, 88723, 12360, 43077, 3402, 37261, 89300, 89212, 15989, 51664, 48963, 77376, 13902, 42406, 20155, 3784, 10625, 60323, 92760, 86447, 62895, 59513, 82359, 35300, 77883, 86246, 760, 43178, 86005, 81574, 59388, 42587, 95885, 96248, 74600, 16950, 27704, 84363, 37087, 42358, 7279, 97491, 9269, 71716, 78943, 49989, 12130, 52279, 33444, 23332, 31467, 52286, 11690, 2688, 27292, 21356, 50921, 52742, 37347, 84825, 98639, 85729, 15807, 39131, 64336, 56670, 96454, 40645, 89779, 79103, 17208, 47060, 87231, 12597, 48163, 67194, 26197, 64175, 58385, 50867, 62447, 35190, 73801, 78687, 55452, 11825, 99154, 55382, 48265, 24426, 56899, 82665, 55838, 12182, 5300, 67284, 44793, 60755, 88662, 29390, 84883, 89946, 93537, 20325, 64922, 69111, 82517, 84833, 68770, 11006, 38103, 61370, 57325, 10378, 62601, 19478, 16749, 39375, 56063, 38729, 74519, 6255, 72219, 10031, 5910, 67294, 14107, 66932, 55694, 54135, 12384, 60903, 86619, 74511, 33211, 46590, 33405, 10717, 65987, 2132, 14933, 97060, 86714, 60670, 23534, 23882, 5932, 10917, 54558, 92324, 39013, 41149, 76966, 94908, 59637, 87852, 58975, 81764, 34743, 44739, 24535, 27665, 24259, 10252, 97914, 79174, 33989, 88265, 13936, 56858, 70041, 766, 51764, 15293, 1743, 85957, 62537, 60314, 90676, 53096, 86208, 97549, 78890, 95146, 63795, 39688, 81067, 80837, 47281, 90526, 88316, 90478, 88487, 39669, 11486, 16395, 1818, 25008, 14668, 2082, 91230, 24670, 3514, 27424, 63060, 85016, 85162, 31690, 57119, 82058, 70593, 25023, 11284, 39441, 60742, 19420, 2859, 15264, 21771, 19978, 96833, 92090, 58361, 63576, 61799, 2572, 58918, 76706, 31801, 26389, 38644, 74636, 51345, 6674, 43758, 1032, 13456, 82629, 93466, 54484, 64972, 96610, 75846, 78097, 95823, 72653, 38112, 4851, 63897, 63714, 77468, 94976, 88954, 63950, 30396, 93623, 69246, 2492, 55312, 75550, 41399, 72516, 8324, 35107, 84974, 54675, 62041, 15327, 64852, 81618, 45451, 58762, 91424, 57177, 2727, 37750, 95185, 25192, 61504, 30422, 66536, 28796, 77025, 78918, 86108, 61402, 17191, 38455, 94764, 93242, 51166, 54638, 88225, 85524, 96283, 47219, 61908, 21237, 81506, 27159, 37022, 90531, 98206, 11297, 87432, 63293, 16920, 22713, 26146, 20488, 79396, 64511, 13225, 54523, 64713, 39800, 30765, 27450, 72984, 6166, 2376, 34184, 46798, 88726, 20788, 22900, 65991, 4190, 8344, 44267, 56442, 14938, 80945, 29712, 15818, 73660, 29372, 63748, 33793, 44606, 46562, 6117, 73010, 35060, 19815, 90457, 79205, 87750, 13650, 92589, 6608, 57386, 59917, 99059]\n"
          ]
        }
      ]
    },
    {
      "cell_type": "code",
      "metadata": {
        "colab": {
          "base_uri": "https://localhost:8080/"
        },
        "id": "Ag4_gLqRA3xw",
        "outputId": "85dabf4b-6cbe-46a5-cd60-20d37a56f6d6"
      },
      "source": [
        "print(train_dataset[0])\n",
        "print(len(train_dataset))\n",
        "print(len(dev_dataset))"
      ],
      "execution_count": 17,
      "outputs": [
        {
          "output_type": "stream",
          "name": "stdout",
          "text": [
            "{'input_ids': tensor([  101,  7570, 14510,  2103,  2003,  2275,  2000,  2202,  2019,  3668,\n",
            "         2006,  1011,  3898,  3338,  2127,  2101,  2023,  2095,   102,     0,\n",
            "            0,     0,     0,     0,     0,     0,     0,     0,     0,     0,\n",
            "            0,     0,     0,     0,     0,     0,     0,     0,     0,     0,\n",
            "            0,     0,     0,     0,     0,     0,     0,     0,     0,     0,\n",
            "            0,     0,     0,     0,     0,     0,     0,     0,     0,     0,\n",
            "            0,     0,     0,     0,     0,     0,     0,     0,     0,     0,\n",
            "            0,     0,     0,     0,     0,     0,     0,     0,     0,     0,\n",
            "            0,     0,     0,     0,     0,     0,     0,     0,     0,     0,\n",
            "            0,     0,     0,     0,     0,     0,     0,     0,     0,     0,\n",
            "            0,     0,     0,     0,     0,     0,     0,     0,     0,     0,\n",
            "            0,     0,     0,     0,     0,     0,     0,     0,     0,     0,\n",
            "            0,     0,     0,     0,     0,     0,     0,     0,     0,     0,\n",
            "            0,     0,     0,     0,     0,     0,     0,     0,     0,     0,\n",
            "            0,     0,     0,     0,     0,     0,     0,     0,     0,     0,\n",
            "            0,     0,     0,     0,     0,     0,     0,     0,     0,     0,\n",
            "            0,     0,     0,     0,     0,     0,     0,     0,     0,     0,\n",
            "            0,     0,     0,     0,     0,     0,     0,     0,     0,     0,\n",
            "            0,     0,     0,     0,     0,     0,     0,     0,     0,     0,\n",
            "            0,     0,     0,     0,     0,     0,     0,     0,     0,     0,\n",
            "            0,     0,     0,     0,     0,     0,     0,     0,     0,     0,\n",
            "            0,     0,     0,     0,     0,     0,     0,     0,     0,     0,\n",
            "            0,     0,     0,     0,     0,     0,     0,     0,     0,     0,\n",
            "            0,     0,     0,     0,     0,     0,     0,     0,     0,     0,\n",
            "            0,     0,     0,     0,     0,     0,     0,     0,     0,     0,\n",
            "            0,     0,     0,     0,     0,     0,     0,     0,     0,     0,\n",
            "            0,     0,     0,     0,     0,     0,     0,     0,     0,     0,\n",
            "            0,     0,     0,     0,     0,     0,     0,     0,     0,     0,\n",
            "            0,     0,     0,     0,     0,     0,     0,     0,     0,     0,\n",
            "            0,     0,     0,     0,     0,     0,     0,     0,     0,     0,\n",
            "            0,     0,     0,     0,     0,     0,     0,     0,     0,     0,\n",
            "            0,     0,     0,     0,     0,     0,     0,     0,     0,     0,\n",
            "            0,     0,     0,     0,     0,     0,     0,     0,     0,     0,\n",
            "            0,     0,     0,     0,     0,     0,     0,     0,     0,     0,\n",
            "            0,     0,     0,     0,     0,     0,     0,     0,     0,     0,\n",
            "            0,     0,     0,     0,     0,     0,     0,     0,     0,     0]), 'token_type_ids': tensor([0, 0, 0, 0, 0, 0, 0, 0, 0, 0, 0, 0, 0, 0, 0, 0, 0, 0, 0, 0, 0, 0, 0, 0,\n",
            "        0, 0, 0, 0, 0, 0, 0, 0, 0, 0, 0, 0, 0, 0, 0, 0, 0, 0, 0, 0, 0, 0, 0, 0,\n",
            "        0, 0, 0, 0, 0, 0, 0, 0, 0, 0, 0, 0, 0, 0, 0, 0, 0, 0, 0, 0, 0, 0, 0, 0,\n",
            "        0, 0, 0, 0, 0, 0, 0, 0, 0, 0, 0, 0, 0, 0, 0, 0, 0, 0, 0, 0, 0, 0, 0, 0,\n",
            "        0, 0, 0, 0, 0, 0, 0, 0, 0, 0, 0, 0, 0, 0, 0, 0, 0, 0, 0, 0, 0, 0, 0, 0,\n",
            "        0, 0, 0, 0, 0, 0, 0, 0, 0, 0, 0, 0, 0, 0, 0, 0, 0, 0, 0, 0, 0, 0, 0, 0,\n",
            "        0, 0, 0, 0, 0, 0, 0, 0, 0, 0, 0, 0, 0, 0, 0, 0, 0, 0, 0, 0, 0, 0, 0, 0,\n",
            "        0, 0, 0, 0, 0, 0, 0, 0, 0, 0, 0, 0, 0, 0, 0, 0, 0, 0, 0, 0, 0, 0, 0, 0,\n",
            "        0, 0, 0, 0, 0, 0, 0, 0, 0, 0, 0, 0, 0, 0, 0, 0, 0, 0, 0, 0, 0, 0, 0, 0,\n",
            "        0, 0, 0, 0, 0, 0, 0, 0, 0, 0, 0, 0, 0, 0, 0, 0, 0, 0, 0, 0, 0, 0, 0, 0,\n",
            "        0, 0, 0, 0, 0, 0, 0, 0, 0, 0, 0, 0, 0, 0, 0, 0, 0, 0, 0, 0, 0, 0, 0, 0,\n",
            "        0, 0, 0, 0, 0, 0, 0, 0, 0, 0, 0, 0, 0, 0, 0, 0, 0, 0, 0, 0, 0, 0, 0, 0,\n",
            "        0, 0, 0, 0, 0, 0, 0, 0, 0, 0, 0, 0, 0, 0, 0, 0, 0, 0, 0, 0, 0, 0, 0, 0,\n",
            "        0, 0, 0, 0, 0, 0, 0, 0, 0, 0, 0, 0, 0, 0, 0, 0, 0, 0, 0, 0, 0, 0, 0, 0,\n",
            "        0, 0, 0, 0, 0, 0, 0, 0, 0, 0, 0, 0, 0, 0, 0, 0, 0, 0, 0, 0, 0, 0, 0, 0]), 'attention_mask': tensor([1, 1, 1, 1, 1, 1, 1, 1, 1, 1, 1, 1, 1, 1, 1, 1, 1, 1, 1, 0, 0, 0, 0, 0,\n",
            "        0, 0, 0, 0, 0, 0, 0, 0, 0, 0, 0, 0, 0, 0, 0, 0, 0, 0, 0, 0, 0, 0, 0, 0,\n",
            "        0, 0, 0, 0, 0, 0, 0, 0, 0, 0, 0, 0, 0, 0, 0, 0, 0, 0, 0, 0, 0, 0, 0, 0,\n",
            "        0, 0, 0, 0, 0, 0, 0, 0, 0, 0, 0, 0, 0, 0, 0, 0, 0, 0, 0, 0, 0, 0, 0, 0,\n",
            "        0, 0, 0, 0, 0, 0, 0, 0, 0, 0, 0, 0, 0, 0, 0, 0, 0, 0, 0, 0, 0, 0, 0, 0,\n",
            "        0, 0, 0, 0, 0, 0, 0, 0, 0, 0, 0, 0, 0, 0, 0, 0, 0, 0, 0, 0, 0, 0, 0, 0,\n",
            "        0, 0, 0, 0, 0, 0, 0, 0, 0, 0, 0, 0, 0, 0, 0, 0, 0, 0, 0, 0, 0, 0, 0, 0,\n",
            "        0, 0, 0, 0, 0, 0, 0, 0, 0, 0, 0, 0, 0, 0, 0, 0, 0, 0, 0, 0, 0, 0, 0, 0,\n",
            "        0, 0, 0, 0, 0, 0, 0, 0, 0, 0, 0, 0, 0, 0, 0, 0, 0, 0, 0, 0, 0, 0, 0, 0,\n",
            "        0, 0, 0, 0, 0, 0, 0, 0, 0, 0, 0, 0, 0, 0, 0, 0, 0, 0, 0, 0, 0, 0, 0, 0,\n",
            "        0, 0, 0, 0, 0, 0, 0, 0, 0, 0, 0, 0, 0, 0, 0, 0, 0, 0, 0, 0, 0, 0, 0, 0,\n",
            "        0, 0, 0, 0, 0, 0, 0, 0, 0, 0, 0, 0, 0, 0, 0, 0, 0, 0, 0, 0, 0, 0, 0, 0,\n",
            "        0, 0, 0, 0, 0, 0, 0, 0, 0, 0, 0, 0, 0, 0, 0, 0, 0, 0, 0, 0, 0, 0, 0, 0,\n",
            "        0, 0, 0, 0, 0, 0, 0, 0, 0, 0, 0, 0, 0, 0, 0, 0, 0, 0, 0, 0, 0, 0, 0, 0,\n",
            "        0, 0, 0, 0, 0, 0, 0, 0, 0, 0, 0, 0, 0, 0, 0, 0, 0, 0, 0, 0, 0, 0, 0, 0]), 'labels': tensor(4)}\n",
            "10000\n",
            "5000\n"
          ]
        }
      ]
    },
    {
      "cell_type": "code",
      "metadata": {
        "colab": {
          "base_uri": "https://localhost:8080/",
          "height": 461
        },
        "id": "AHZYvz8hqt33",
        "outputId": "d6b5d82d-0d4f-487c-d3ad-97ab26e13a59"
      },
      "source": [
        "import matplotlib.pyplot as plt\n",
        "fig = plt.figure(figsize=(8,6))\n",
        "train_dataset.data.groupby('topic').title.count().plot.bar(ylim=0)\n",
        "plt.show()"
      ],
      "execution_count": 30,
      "outputs": [
        {
          "output_type": "display_data",
          "data": {
            "image/png": "[encoded data removed]",
            "text/plain": [
              "<Figure size 576x432 with 1 Axes>"
            ]
          },
          "metadata": {
            "needs_background": "light"
          }
        }
      ]
    },
    {
      "cell_type": "code",
      "metadata": {
        "id": "PnNuCpbdhdkw"
      },
      "source": [
        "optimizer = optim.Adam(model.parameters(), lr=3e-5)\n",
        "model = model.cuda()"
      ],
      "execution_count": 18,
      "outputs": []
    },
    {
      "cell_type": "code",
      "metadata": {
        "colab": {
          "base_uri": "https://localhost:8080/"
        },
        "id": "HzjWRoGWkXj1",
        "outputId": "867fcd56-6ae2-4edb-abf9-df6d4db39cf7"
      },
      "source": [
        "# Train\n",
        "device = 'cuda'\n",
        "n_epochs = 4\n",
        "for epoch in range(n_epochs):\n",
        "    model.train()\n",
        "    torch.set_grad_enabled(True)\n",
        " \n",
        "    total_train_loss = 0\n",
        "    list_hyp, list_label = [], []\n",
        "\n",
        "    train_pbar = tqdm(train_loader, leave=True, total=len(train_loader))\n",
        "    for i, batch in enumerate(train_pbar):\n",
        "        optimizer.zero_grad()\n",
        "        input_ids = batch['input_ids'].to(device)\n",
        "        attention_mask = batch['attention_mask'].to(device)\n",
        "        labels = batch['labels'].to(device)\n",
        "        outputs = model(input_ids, attention_mask=attention_mask, labels=labels)\n",
        "        loss = outputs[0]\n",
        "        loss.backward()\n",
        "        optimizer.step()\n",
        "\n",
        "        tr_loss = loss.item()\n",
        "        total_train_loss = total_train_loss + tr_loss\n",
        "\n",
        "        train_pbar.set_description(\"(Epoch {}) TRAIN LOSS:{:.4f}\".format((epoch+1),\n",
        "            total_train_loss/(i+1)))\n",
        "        \n",
        "    # # eval on dev\n",
        "    model.eval()\n",
        "    torch.set_grad_enabled(False)\n",
        "    \n",
        "    total_loss, total_correct, total_labels = 0, 0, 0\n",
        "    list_hyp, list_label = [], []\n",
        "\n",
        "    pbar = tqdm(dev_loader, leave=True, total=len(dev_loader))\n",
        "    for i, batch in enumerate(pbar):\n",
        "        input_ids = batch['input_ids'].to(device)\n",
        "        attention_mask = batch['attention_mask'].to(device)\n",
        "        labels = batch['labels'].to(device)\n",
        "        outputs = model(input_ids, attention_mask=attention_mask, labels=labels)\n",
        "        loss = outputs[0]\n",
        "\n",
        "        valid_loss = loss.item()\n",
        "        total_loss = total_loss + valid_loss\n",
        "\n",
        "        pbar.set_description(\"DEV LOSS:{:.4f} \".format(total_loss/(i+1)))\n",
        "\n",
        "        logits = outputs[1]\n",
        "        batch_hyp = torch.argmax(logits, dim=-1)\n",
        "        list_hyp += batch_hyp.cpu().numpy().tolist()\n",
        "        list_label += labels.cpu().numpy().tolist()\n",
        "    \n",
        "    acc = accuracy_score(list_label, list_hyp)\n",
        "    f1 = f1_score(list_label, list_hyp, average='macro')\n",
        "    rec = recall_score(list_label, list_hyp, average='macro')\n",
        "    prec = precision_score(list_label, list_hyp, average='macro')\n",
        "\n",
        "    print(f\"epoch: {epoch}\")\n",
        "    print(\"Acc: \", acc)\n",
        "    print(\"F1: \", f1)\n",
        "    print(\"recall: \", rec)\n",
        "    print(\"precision: \", prec)"
      ],
      "execution_count": 19,
      "outputs": [
        {
          "output_type": "stream",
          "name": "stderr",
          "text": [
            "(Epoch 1) TRAIN LOSS:0.8475: 100%|██████████| 1250/1250 [21:20<00:00,  1.02s/it]\n",
            "DEV LOSS:0.4482 : 100%|██████████| 625/625 [04:01<00:00,  2.59it/s]\n"
          ]
        },
        {
          "output_type": "stream",
          "name": "stdout",
          "text": [
            "epoch: 0\n",
            "Acc:  0.8592\n",
            "F1:  0.8618934950927724\n",
            "recall:  0.8583718437829051\n",
            "precision:  0.8783998830092938\n"
          ]
        },
        {
          "output_type": "stream",
          "name": "stderr",
          "text": [
            "(Epoch 2) TRAIN LOSS:0.4771: 100%|██████████| 1250/1250 [21:21<00:00,  1.03s/it]\n",
            "DEV LOSS:0.2269 : 100%|██████████| 625/625 [04:01<00:00,  2.59it/s]\n"
          ]
        },
        {
          "output_type": "stream",
          "name": "stdout",
          "text": [
            "epoch: 1\n",
            "Acc:  0.9328\n",
            "F1:  0.933311638343415\n",
            "recall:  0.9325550263952742\n",
            "precision:  0.9358017928395606\n"
          ]
        },
        {
          "output_type": "stream",
          "name": "stderr",
          "text": [
            "(Epoch 3) TRAIN LOSS:0.2880: 100%|██████████| 1250/1250 [21:25<00:00,  1.03s/it]\n",
            "DEV LOSS:0.1357 : 100%|██████████| 625/625 [04:02<00:00,  2.58it/s]\n"
          ]
        },
        {
          "output_type": "stream",
          "name": "stdout",
          "text": [
            "epoch: 2\n",
            "Acc:  0.962\n",
            "F1:  0.9599153786344448\n",
            "recall:  0.9598451371010686\n",
            "precision:  0.960909326464795\n"
          ]
        },
        {
          "output_type": "stream",
          "name": "stderr",
          "text": [
            "(Epoch 4) TRAIN LOSS:0.1777: 100%|██████████| 1250/1250 [21:16<00:00,  1.02s/it]\n",
            "DEV LOSS:0.0640 : 100%|██████████| 625/625 [03:58<00:00,  2.62it/s]"
          ]
        },
        {
          "output_type": "stream",
          "name": "stdout",
          "text": [
            "epoch: 3\n",
            "Acc:  0.9828\n",
            "F1:  0.9802973097902299\n",
            "recall:  0.9787917937015023\n",
            "precision:  0.9818990273844324\n"
          ]
        },
        {
          "output_type": "stream",
          "name": "stderr",
          "text": [
            "\n"
          ]
        }
      ]
    },
    {
      "cell_type": "code",
      "metadata": {
        "id": "EiR2_vCn4Vat"
      },
      "source": [
        "model.eval()\n",
        "torch.save(model.state_dict(),'topic_classification_model.bin')"
      ],
      "execution_count": 20,
      "outputs": []
    },
    {
      "cell_type": "code",
      "metadata": {
        "id": "vLzjukJb4fyt"
      },
      "source": [
        "loaded_model = BertForSequenceClassification.from_pretrained('/content/topic_classification_model.bin', config=config)"
      ],
      "execution_count": 21,
      "outputs": []
    },
    {
      "cell_type": "code",
      "metadata": {
        "id": "j5htjFo55N1L",
        "colab": {
          "base_uri": "https://localhost:8080/"
        },
        "outputId": "c677624d-9e50-4d14-f433-b08915e30e63"
      },
      "source": [
        "test_dataset = CustomDataset(dev_dataset_path, tokenizer, \"test\",test_indexes)\n",
        "test_loader = DataLoader(dataset=test_dataset,  batch_size=8, shuffle=False)\n",
        "print(test_dataset[0])\n",
        "print(len(test_dataset))"
      ],
      "execution_count": 22,
      "outputs": [
        {
          "output_type": "stream",
          "name": "stdout",
          "text": [
            "{'input_ids': tensor([  101, 10022,  8816,  1024,  5351,  2257,  1006,  2885,  1007,   102,\n",
            "            0,     0,     0,     0,     0,     0,     0,     0,     0,     0,\n",
            "            0,     0,     0,     0,     0,     0,     0,     0,     0,     0,\n",
            "            0,     0,     0,     0,     0,     0,     0,     0,     0,     0,\n",
            "            0,     0,     0,     0,     0,     0,     0,     0,     0,     0,\n",
            "            0,     0,     0,     0,     0,     0,     0,     0,     0,     0,\n",
            "            0,     0,     0,     0,     0,     0,     0,     0,     0,     0,\n",
            "            0,     0,     0,     0,     0,     0,     0,     0,     0,     0,\n",
            "            0,     0,     0,     0,     0,     0,     0,     0,     0,     0,\n",
            "            0,     0,     0,     0,     0,     0,     0,     0,     0,     0,\n",
            "            0,     0,     0,     0,     0,     0,     0,     0,     0,     0,\n",
            "            0,     0,     0,     0,     0,     0,     0,     0,     0,     0,\n",
            "            0,     0,     0,     0,     0,     0,     0,     0,     0,     0,\n",
            "            0,     0,     0,     0,     0,     0,     0,     0,     0,     0,\n",
            "            0,     0,     0,     0,     0,     0,     0,     0,     0,     0,\n",
            "            0,     0,     0,     0,     0,     0,     0,     0,     0,     0,\n",
            "            0,     0,     0,     0,     0,     0,     0,     0,     0,     0,\n",
            "            0,     0,     0,     0,     0,     0,     0,     0,     0,     0,\n",
            "            0,     0,     0,     0,     0,     0,     0,     0,     0,     0,\n",
            "            0,     0,     0,     0,     0,     0,     0,     0,     0,     0,\n",
            "            0,     0,     0,     0,     0,     0,     0,     0,     0,     0,\n",
            "            0,     0,     0,     0,     0,     0,     0,     0,     0,     0,\n",
            "            0,     0,     0,     0,     0,     0,     0,     0,     0,     0,\n",
            "            0,     0,     0,     0,     0,     0,     0,     0,     0,     0,\n",
            "            0,     0,     0,     0,     0,     0,     0,     0,     0,     0,\n",
            "            0,     0,     0,     0,     0,     0,     0,     0,     0,     0,\n",
            "            0,     0,     0,     0,     0,     0,     0,     0,     0,     0,\n",
            "            0,     0,     0,     0,     0,     0,     0,     0,     0,     0,\n",
            "            0,     0,     0,     0,     0,     0,     0,     0,     0,     0,\n",
            "            0,     0,     0,     0,     0,     0,     0,     0,     0,     0,\n",
            "            0,     0,     0,     0,     0,     0,     0,     0,     0,     0,\n",
            "            0,     0,     0,     0,     0,     0,     0,     0,     0,     0,\n",
            "            0,     0,     0,     0,     0,     0,     0,     0,     0,     0,\n",
            "            0,     0,     0,     0,     0,     0,     0,     0,     0,     0,\n",
            "            0,     0,     0,     0,     0,     0,     0,     0,     0,     0,\n",
            "            0,     0,     0,     0,     0,     0,     0,     0,     0,     0]), 'token_type_ids': tensor([0, 0, 0, 0, 0, 0, 0, 0, 0, 0, 0, 0, 0, 0, 0, 0, 0, 0, 0, 0, 0, 0, 0, 0,\n",
            "        0, 0, 0, 0, 0, 0, 0, 0, 0, 0, 0, 0, 0, 0, 0, 0, 0, 0, 0, 0, 0, 0, 0, 0,\n",
            "        0, 0, 0, 0, 0, 0, 0, 0, 0, 0, 0, 0, 0, 0, 0, 0, 0, 0, 0, 0, 0, 0, 0, 0,\n",
            "        0, 0, 0, 0, 0, 0, 0, 0, 0, 0, 0, 0, 0, 0, 0, 0, 0, 0, 0, 0, 0, 0, 0, 0,\n",
            "        0, 0, 0, 0, 0, 0, 0, 0, 0, 0, 0, 0, 0, 0, 0, 0, 0, 0, 0, 0, 0, 0, 0, 0,\n",
            "        0, 0, 0, 0, 0, 0, 0, 0, 0, 0, 0, 0, 0, 0, 0, 0, 0, 0, 0, 0, 0, 0, 0, 0,\n",
            "        0, 0, 0, 0, 0, 0, 0, 0, 0, 0, 0, 0, 0, 0, 0, 0, 0, 0, 0, 0, 0, 0, 0, 0,\n",
            "        0, 0, 0, 0, 0, 0, 0, 0, 0, 0, 0, 0, 0, 0, 0, 0, 0, 0, 0, 0, 0, 0, 0, 0,\n",
            "        0, 0, 0, 0, 0, 0, 0, 0, 0, 0, 0, 0, 0, 0, 0, 0, 0, 0, 0, 0, 0, 0, 0, 0,\n",
            "        0, 0, 0, 0, 0, 0, 0, 0, 0, 0, 0, 0, 0, 0, 0, 0, 0, 0, 0, 0, 0, 0, 0, 0,\n",
            "        0, 0, 0, 0, 0, 0, 0, 0, 0, 0, 0, 0, 0, 0, 0, 0, 0, 0, 0, 0, 0, 0, 0, 0,\n",
            "        0, 0, 0, 0, 0, 0, 0, 0, 0, 0, 0, 0, 0, 0, 0, 0, 0, 0, 0, 0, 0, 0, 0, 0,\n",
            "        0, 0, 0, 0, 0, 0, 0, 0, 0, 0, 0, 0, 0, 0, 0, 0, 0, 0, 0, 0, 0, 0, 0, 0,\n",
            "        0, 0, 0, 0, 0, 0, 0, 0, 0, 0, 0, 0, 0, 0, 0, 0, 0, 0, 0, 0, 0, 0, 0, 0,\n",
            "        0, 0, 0, 0, 0, 0, 0, 0, 0, 0, 0, 0, 0, 0, 0, 0, 0, 0, 0, 0, 0, 0, 0, 0]), 'attention_mask': tensor([1, 1, 1, 1, 1, 1, 1, 1, 1, 1, 0, 0, 0, 0, 0, 0, 0, 0, 0, 0, 0, 0, 0, 0,\n",
            "        0, 0, 0, 0, 0, 0, 0, 0, 0, 0, 0, 0, 0, 0, 0, 0, 0, 0, 0, 0, 0, 0, 0, 0,\n",
            "        0, 0, 0, 0, 0, 0, 0, 0, 0, 0, 0, 0, 0, 0, 0, 0, 0, 0, 0, 0, 0, 0, 0, 0,\n",
            "        0, 0, 0, 0, 0, 0, 0, 0, 0, 0, 0, 0, 0, 0, 0, 0, 0, 0, 0, 0, 0, 0, 0, 0,\n",
            "        0, 0, 0, 0, 0, 0, 0, 0, 0, 0, 0, 0, 0, 0, 0, 0, 0, 0, 0, 0, 0, 0, 0, 0,\n",
            "        0, 0, 0, 0, 0, 0, 0, 0, 0, 0, 0, 0, 0, 0, 0, 0, 0, 0, 0, 0, 0, 0, 0, 0,\n",
            "        0, 0, 0, 0, 0, 0, 0, 0, 0, 0, 0, 0, 0, 0, 0, 0, 0, 0, 0, 0, 0, 0, 0, 0,\n",
            "        0, 0, 0, 0, 0, 0, 0, 0, 0, 0, 0, 0, 0, 0, 0, 0, 0, 0, 0, 0, 0, 0, 0, 0,\n",
            "        0, 0, 0, 0, 0, 0, 0, 0, 0, 0, 0, 0, 0, 0, 0, 0, 0, 0, 0, 0, 0, 0, 0, 0,\n",
            "        0, 0, 0, 0, 0, 0, 0, 0, 0, 0, 0, 0, 0, 0, 0, 0, 0, 0, 0, 0, 0, 0, 0, 0,\n",
            "        0, 0, 0, 0, 0, 0, 0, 0, 0, 0, 0, 0, 0, 0, 0, 0, 0, 0, 0, 0, 0, 0, 0, 0,\n",
            "        0, 0, 0, 0, 0, 0, 0, 0, 0, 0, 0, 0, 0, 0, 0, 0, 0, 0, 0, 0, 0, 0, 0, 0,\n",
            "        0, 0, 0, 0, 0, 0, 0, 0, 0, 0, 0, 0, 0, 0, 0, 0, 0, 0, 0, 0, 0, 0, 0, 0,\n",
            "        0, 0, 0, 0, 0, 0, 0, 0, 0, 0, 0, 0, 0, 0, 0, 0, 0, 0, 0, 0, 0, 0, 0, 0,\n",
            "        0, 0, 0, 0, 0, 0, 0, 0, 0, 0, 0, 0, 0, 0, 0, 0, 0, 0, 0, 0, 0, 0, 0, 0]), 'labels': tensor(0)}\n",
            "2000\n"
          ]
        }
      ]
    },
    {
      "cell_type": "code",
      "metadata": {
        "id": "sCLAlXFG4qi2",
        "colab": {
          "base_uri": "https://localhost:8080/"
        },
        "outputId": "83bb1f07-41e3-4de1-de96-9ebadc57e818"
      },
      "source": [
        "model= loaded_model\n",
        "model.eval()\n",
        "torch.set_grad_enabled(False)\n",
        "device = 'cpu'\n",
        "total_loss, total_correct, total_labels = 0, 0, 0\n",
        "list_hyp, list_label = [], []\n",
        "\n",
        "pbar = tqdm(test_loader, leave=True, total=len(test_loader))\n",
        "for i, batch in enumerate(pbar):\n",
        "    input_ids = batch['input_ids'].to(device)\n",
        "    attention_mask = batch['attention_mask'].to(device)\n",
        "    labels = batch['labels'].to(device)\n",
        "    outputs = model(input_ids, attention_mask=attention_mask, labels=labels)\n",
        "    loss = outputs[0]\n",
        "\n",
        "    logits = outputs[1]\n",
        "    batch_hyp = torch.argmax(logits, dim=-1)\n",
        "    list_hyp += batch_hyp.cpu().numpy().tolist()\n",
        "    list_label += labels.cpu().numpy().tolist()\n",
        "    \n",
        "\n",
        "print(list_label)\n",
        "print(list_hyp)\n",
        "\n",
        "\n",
        "df = pd.DataFrame({'label':list_hyp}).reset_index()\n",
        "df.to_csv('pred_tc.csv', index=False)\n",
        "\n",
        "print(df)"
      ],
      "execution_count": 23,
      "outputs": [
        {
          "output_type": "stream",
          "name": "stderr",
          "text": [
            "100%|██████████| 250/250 [39:02<00:00,  9.37s/it]"
          ]
        },
        {
          "output_type": "stream",
          "name": "stdout",
          "text": [
            "[0, 0, 0, 0, 0, 0, 0, 0, 0, 0, 0, 0, 0, 0, 0, 0, 0, 0, 0, 0, 0, 0, 0, 0, 0, 0, 0, 0, 0, 0, 0, 0, 0, 0, 0, 0, 0, 0, 0, 0, 0, 0, 0, 0, 0, 0, 0, 0, 0, 0, 0, 0, 0, 0, 0, 0, 0, 0, 0, 0, 0, 0, 0, 0, 0, 0, 0, 0, 0, 0, 0, 0, 0, 0, 0, 0, 0, 0, 0, 0, 0, 0, 0, 0, 0, 0, 0, 0, 0, 0, 0, 0, 0, 0, 0, 0, 0, 0, 0, 0, 0, 0, 0, 0, 0, 0, 0, 0, 0, 0, 0, 0, 0, 0, 0, 0, 0, 0, 0, 0, 0, 0, 0, 0, 0, 0, 0, 0, 0, 0, 0, 0, 0, 0, 0, 0, 0, 0, 0, 0, 0, 0, 0, 0, 0, 0, 0, 0, 0, 0, 0, 0, 0, 0, 0, 0, 0, 0, 0, 0, 0, 0, 0, 0, 0, 0, 0, 0, 0, 0, 0, 0, 0, 0, 0, 0, 0, 0, 0, 0, 0, 0, 0, 0, 0, 0, 0, 0, 0, 0, 0, 0, 0, 0, 0, 0, 0, 0, 0, 0, 0, 0, 0, 0, 0, 0, 0, 0, 0, 0, 0, 0, 0, 0, 0, 0, 0, 0, 0, 0, 0, 0, 0, 0, 0, 0, 0, 0, 0, 0, 0, 0, 0, 0, 0, 0, 0, 0, 0, 0, 0, 0, 0, 0, 0, 0, 0, 0, 0, 0, 0, 0, 0, 0, 0, 0, 0, 0, 0, 0, 0, 0, 0, 0, 0, 0, 0, 0, 0, 0, 0, 0, 0, 0, 0, 0, 0, 0, 0, 0, 0, 0, 0, 0, 0, 0, 0, 0, 0, 0, 0, 0, 0, 0, 0, 0, 0, 0, 0, 0, 0, 0, 0, 0, 0, 0, 0, 0, 0, 0, 0, 0, 0, 0, 0, 0, 0, 0, 0, 0, 0, 0, 0, 0, 0, 0, 0, 0, 0, 0, 0, 0, 0, 0, 0, 0, 0, 0, 0, 0, 0, 0, 0, 0, 0, 0, 0, 0, 0, 0, 0, 0, 0, 0, 0, 0, 0, 0, 0, 0, 0, 0, 0, 0, 0, 0, 0, 0, 0, 0, 0, 0, 0, 0, 0, 0, 0, 0, 0, 0, 0, 0, 0, 0, 0, 0, 0, 0, 0, 0, 0, 0, 0, 0, 0, 0, 0, 0, 0, 0, 0, 0, 0, 0, 0, 0, 0, 0, 0, 0, 0, 0, 0, 0, 0, 0, 0, 0, 0, 0, 0, 0, 0, 0, 0, 0, 0, 0, 0, 0, 0, 0, 0, 0, 0, 0, 0, 0, 0, 0, 0, 0, 0, 0, 0, 0, 0, 0, 0, 0, 0, 0, 0, 0, 0, 0, 0, 0, 0, 0, 0, 0, 0, 0, 0, 0, 0, 0, 0, 0, 0, 0, 0, 0, 0, 0, 0, 0, 0, 0, 0, 0, 0, 0, 0, 0, 0, 0, 0, 0, 0, 0, 0, 0, 0, 0, 0, 0, 0, 0, 0, 0, 0, 0, 0, 0, 0, 0, 0, 0, 0, 0, 0, 0, 0, 0, 0, 0, 0, 0, 0, 0, 0, 0, 0, 0, 0, 0, 0, 0, 0, 0, 0, 0, 0, 0, 0, 0, 0, 0, 0, 0, 0, 0, 0, 0, 0, 0, 0, 0, 0, 0, 0, 0, 0, 0, 0, 0, 0, 0, 0, 0, 0, 0, 0, 0, 0, 0, 0, 0, 0, 0, 0, 0, 0, 0, 0, 0, 0, 0, 0, 0, 0, 0, 0, 0, 0, 0, 0, 0, 0, 0, 0, 0, 0, 0, 0, 0, 0, 0, 0, 0, 0, 0, 0, 0, 0, 0, 0, 0, 0, 0, 0, 0, 0, 0, 0, 0, 0, 0, 0, 0, 0, 0, 0, 0, 0, 0, 0, 0, 0, 0, 0, 0, 0, 0, 0, 0, 0, 0, 0, 0, 0, 0, 0, 0, 0, 0, 0, 0, 0, 0, 0, 0, 0, 0, 0, 0, 0, 0, 0, 0, 0, 0, 0, 0, 0, 0, 0, 0, 0, 0, 0, 0, 0, 0, 0, 0, 0, 0, 0, 0, 0, 0, 0, 0, 0, 0, 0, 0, 0, 0, 0, 0, 0, 0, 0, 0, 0, 0, 0, 0, 0, 0, 0, 0, 0, 0, 0, 0, 0, 0, 0, 0, 0, 0, 0, 0, 0, 0, 0, 0, 0, 0, 0, 0, 0, 0, 0, 0, 0, 0, 0, 0, 0, 0, 0, 0, 0, 0, 0, 0, 0, 0, 0, 0, 0, 0, 0, 0, 0, 0, 0, 0, 0, 0, 0, 0, 0, 0, 0, 0, 0, 0, 0, 0, 0, 0, 0, 0, 0, 0, 0, 0, 0, 0, 0, 0, 0, 0, 0, 0, 0, 0, 0, 0, 0, 0, 0, 0, 0, 0, 0, 0, 0, 0, 0, 0, 0, 0, 0, 0, 0, 0, 0, 0, 0, 0, 0, 0, 0, 0, 0, 0, 0, 0, 0, 0, 0, 0, 0, 0, 0, 0, 0, 0, 0, 0, 0, 0, 0, 0, 0, 0, 0, 0, 0, 0, 0, 0, 0, 0, 0, 0, 0, 0, 0, 0, 0, 0, 0, 0, 0, 0, 0, 0, 0, 0, 0, 0, 0, 0, 0, 0, 0, 0, 0, 0, 0, 0, 0, 0, 0, 0, 0, 0, 0, 0, 0, 0, 0, 0, 0, 0, 0, 0, 0, 0, 0, 0, 0, 0, 0, 0, 0, 0, 0, 0, 0, 0, 0, 0, 0, 0, 0, 0, 0, 0, 0, 0, 0, 0, 0, 0, 0, 0, 0, 0, 0, 0, 0, 0, 0, 0, 0, 0, 0, 0, 0, 0, 0, 0, 0, 0, 0, 0, 0, 0, 0, 0, 0, 0, 0, 0, 0, 0, 0, 0, 0, 0, 0, 0, 0, 0, 0, 0, 0, 0, 0, 0, 0, 0, 0, 0, 0, 0, 0, 0, 0, 0, 0, 0, 0, 0, 0, 0, 0, 0, 0, 0, 0, 0, 0, 0, 0, 0, 0, 0, 0, 0, 0, 0, 0, 0, 0, 0, 0, 0, 0, 0, 0, 0, 0, 0, 0, 0, 0, 0, 0, 0, 0, 0, 0, 0, 0, 0, 0, 0, 0, 0, 0, 0, 0, 0, 0, 0, 0, 0, 0, 0, 0, 0, 0, 0, 0, 0, 0, 0, 0, 0, 0, 0, 0, 0, 0, 0, 0, 0, 0, 0, 0, 0, 0, 0, 0, 0, 0, 0, 0, 0, 0, 0, 0, 0, 0, 0, 0, 0, 0, 0, 0, 0, 0, 0, 0, 0, 0, 0, 0, 0, 0, 0, 0, 0, 0, 0, 0, 0, 0, 0, 0, 0, 0, 0, 0, 0, 0, 0, 0, 0, 0, 0, 0, 0, 0, 0, 0, 0, 0, 0, 0, 0, 0, 0, 0, 0, 0, 0, 0, 0, 0, 0, 0, 0, 0, 0, 0, 0, 0, 0, 0, 0, 0, 0, 0, 0, 0, 0, 0, 0, 0, 0, 0, 0, 0, 0, 0, 0, 0, 0, 0, 0, 0, 0, 0, 0, 0, 0, 0, 0, 0, 0, 0, 0, 0, 0, 0, 0, 0, 0, 0, 0, 0, 0, 0, 0, 0, 0, 0, 0, 0, 0, 0, 0, 0, 0, 0, 0, 0, 0, 0, 0, 0, 0, 0, 0, 0, 0, 0, 0, 0, 0, 0, 0, 0, 0, 0, 0, 0, 0, 0, 0, 0, 0, 0, 0, 0, 0, 0, 0, 0, 0, 0, 0, 0, 0, 0, 0, 0, 0, 0, 0, 0, 0, 0, 0, 0, 0, 0, 0, 0, 0, 0, 0, 0, 0, 0, 0, 0, 0, 0, 0, 0, 0, 0, 0, 0, 0, 0, 0, 0, 0, 0, 0, 0, 0, 0, 0, 0, 0, 0, 0, 0, 0, 0, 0, 0, 0, 0, 0, 0, 0, 0, 0, 0, 0, 0, 0, 0, 0, 0, 0, 0, 0, 0, 0, 0, 0, 0, 0, 0, 0, 0, 0, 0, 0, 0, 0, 0, 0, 0, 0, 0, 0, 0, 0, 0, 0, 0, 0, 0, 0, 0, 0, 0, 0, 0, 0, 0, 0, 0, 0, 0, 0, 0, 0, 0, 0, 0, 0, 0, 0, 0, 0, 0, 0, 0, 0, 0, 0, 0, 0, 0, 0, 0, 0, 0, 0, 0, 0, 0, 0, 0, 0, 0, 0, 0, 0, 0, 0, 0, 0, 0, 0, 0, 0, 0, 0, 0, 0, 0, 0, 0, 0, 0, 0, 0, 0, 0, 0, 0, 0, 0, 0, 0, 0, 0, 0, 0, 0, 0, 0, 0, 0, 0, 0, 0, 0, 0, 0, 0, 0, 0, 0, 0, 0, 0, 0, 0, 0, 0, 0, 0, 0, 0, 0, 0, 0, 0, 0, 0, 0, 0, 0, 0, 0, 0, 0, 0, 0, 0, 0, 0, 0, 0, 0, 0, 0, 0, 0, 0, 0, 0, 0, 0, 0, 0, 0, 0, 0, 0, 0, 0, 0, 0, 0, 0, 0, 0, 0, 0, 0, 0, 0, 0, 0, 0, 0, 0, 0, 0, 0, 0, 0, 0, 0, 0, 0, 0, 0, 0, 0, 0, 0, 0, 0, 0, 0, 0, 0, 0, 0, 0, 0, 0, 0, 0, 0, 0, 0, 0, 0, 0, 0, 0, 0, 0, 0, 0, 0, 0, 0, 0, 0, 0, 0, 0, 0, 0, 0, 0, 0, 0, 0, 0, 0, 0, 0, 0, 0, 0, 0, 0, 0, 0, 0, 0, 0, 0, 0, 0, 0, 0, 0, 0, 0, 0, 0, 0, 0, 0, 0, 0, 0, 0, 0, 0, 0, 0, 0, 0, 0, 0, 0, 0, 0, 0, 0, 0, 0, 0, 0, 0, 0, 0, 0, 0, 0, 0, 0, 0, 0, 0, 0, 0, 0, 0, 0, 0, 0, 0, 0, 0, 0, 0, 0, 0, 0, 0, 0, 0, 0, 0, 0, 0, 0, 0, 0, 0, 0, 0, 0, 0, 0, 0, 0, 0, 0, 0, 0, 0, 0, 0, 0, 0, 0, 0, 0, 0, 0, 0, 0, 0, 0, 0, 0, 0, 0, 0, 0, 0, 0, 0, 0, 0, 0, 0, 0, 0, 0, 0, 0, 0, 0, 0, 0, 0, 0, 0, 0, 0, 0, 0, 0, 0, 0, 0, 0, 0, 0, 0, 0, 0, 0, 0, 0, 0, 0, 0, 0, 0, 0, 0, 0, 0, 0, 0, 0, 0, 0, 0, 0, 0, 0, 0, 0, 0, 0, 0, 0, 0, 0, 0, 0, 0, 0, 0, 0, 0, 0, 0, 0, 0, 0, 0, 0, 0, 0, 0, 0, 0, 0, 0, 0, 0, 0, 0, 0, 0, 0, 0, 0, 0, 0, 0, 0, 0, 0, 0, 0, 0, 0, 0, 0, 0, 0, 0, 0, 0, 0, 0, 0, 0, 0, 0, 0, 0, 0, 0, 0, 0, 0, 0, 0, 0, 0, 0, 0, 0, 0, 0, 0, 0, 0, 0, 0, 0, 0, 0, 0, 0, 0, 0, 0, 0, 0, 0, 0, 0, 0, 0, 0, 0, 0, 0, 0, 0, 0, 0, 0, 0, 0, 0, 0, 0, 0, 0, 0, 0, 0, 0, 0, 0, 0, 0, 0, 0, 0, 0, 0, 0, 0, 0, 0, 0, 0, 0, 0, 0, 0, 0, 0, 0, 0, 0, 0, 0, 0, 0, 0, 0, 0, 0, 0, 0, 0, 0, 0, 0, 0, 0, 0, 0, 0, 0, 0, 0, 0, 0, 0, 0, 0, 0, 0, 0, 0, 0, 0, 0, 0, 0, 0, 0, 0, 0, 0, 0, 0, 0, 0, 0, 0, 0, 0, 0, 0, 0, 0, 0, 0, 0, 0, 0, 0, 0, 0, 0, 0, 0, 0, 0, 0, 0, 0, 0, 0, 0, 0, 0, 0, 0, 0, 0, 0, 0, 0, 0, 0, 0, 0, 0, 0, 0, 0, 0, 0, 0, 0, 0, 0, 0, 0, 0, 0, 0, 0, 0, 0, 0, 0, 0, 0, 0, 0, 0, 0, 0, 0, 0, 0, 0, 0, 0, 0, 0, 0, 0, 0, 0, 0, 0, 0, 0, 0, 0, 0, 0, 0, 0, 0, 0, 0, 0, 0, 0, 0, 0, 0, 0, 0, 0, 0, 0, 0, 0, 0, 0, 0, 0, 0]\n",
            "[1, 1, 1, 5, 1, 3, 1, 1, 1, 2, 4, 2, 1, 1, 3, 5, 3, 5, 0, 6, 4, 3, 5, 2, 4, 4, 3, 1, 7, 1, 3, 2, 2, 0, 3, 1, 7, 3, 1, 1, 0, 3, 1, 1, 2, 1, 1, 3, 5, 2, 1, 2, 2, 1, 2, 1, 2, 3, 2, 1, 2, 1, 2, 3, 2, 1, 3, 1, 2, 6, 2, 1, 2, 4, 2, 2, 4, 1, 1, 6, 1, 4, 5, 1, 3, 1, 2, 6, 3, 4, 2, 0, 1, 2, 5, 4, 2, 5, 2, 3, 2, 1, 0, 4, 1, 1, 4, 3, 3, 1, 1, 3, 5, 1, 5, 1, 3, 3, 2, 3, 3, 2, 1, 3, 2, 3, 3, 5, 3, 3, 1, 1, 0, 2, 3, 4, 4, 3, 4, 4, 3, 4, 5, 1, 2, 2, 2, 2, 3, 3, 7, 2, 4, 4, 2, 5, 1, 2, 3, 1, 3, 7, 3, 2, 5, 1, 2, 1, 6, 3, 2, 1, 4, 2, 2, 2, 1, 3, 5, 2, 5, 2, 5, 3, 0, 1, 3, 1, 2, 6, 2, 3, 5, 2, 4, 4, 3, 2, 3, 7, 7, 2, 7, 4, 0, 3, 2, 3, 6, 1, 1, 1, 1, 2, 3, 2, 3, 0, 2, 7, 2, 1, 7, 3, 4, 1, 1, 4, 5, 2, 4, 3, 4, 4, 5, 1, 3, 3, 2, 1, 2, 5, 1, 6, 1, 1, 6, 2, 1, 7, 3, 3, 4, 7, 4, 1, 1, 4, 1, 4, 2, 6, 2, 1, 1, 7, 1, 1, 2, 6, 3, 2, 3, 7, 1, 1, 3, 4, 1, 2, 3, 3, 2, 1, 1, 2, 1, 1, 0, 1, 0, 6, 3, 3, 1, 3, 1, 2, 6, 1, 2, 4, 4, 3, 7, 0, 4, 1, 3, 3, 4, 4, 2, 0, 2, 1, 4, 2, 1, 2, 3, 6, 2, 3, 3, 7, 7, 7, 1, 3, 5, 0, 3, 3, 6, 4, 4, 3, 2, 7, 4, 1, 4, 6, 2, 2, 1, 2, 2, 1, 0, 4, 3, 2, 5, 0, 7, 1, 1, 5, 2, 2, 3, 3, 2, 3, 3, 0, 2, 4, 4, 7, 2, 6, 5, 2, 4, 6, 0, 1, 3, 2, 1, 3, 0, 0, 2, 2, 1, 0, 1, 3, 2, 3, 1, 7, 2, 0, 2, 2, 4, 1, 2, 4, 3, 1, 1, 1, 2, 3, 0, 2, 1, 2, 0, 6, 1, 2, 1, 1, 0, 2, 1, 1, 2, 2, 2, 0, 2, 4, 2, 1, 1, 1, 0, 7, 4, 1, 1, 1, 1, 1, 2, 2, 1, 1, 2, 1, 3, 2, 3, 4, 2, 2, 1, 4, 6, 0, 2, 3, 4, 2, 1, 6, 0, 1, 1, 0, 1, 3, 1, 2, 0, 3, 2, 2, 7, 1, 0, 7, 4, 2, 4, 5, 1, 2, 0, 4, 3, 5, 4, 1, 1, 4, 1, 7, 2, 2, 3, 1, 3, 5, 2, 2, 2, 3, 2, 3, 4, 3, 2, 5, 3, 3, 2, 6, 2, 3, 0, 3, 4, 1, 2, 3, 1, 5, 3, 1, 2, 0, 4, 1, 5, 2, 7, 1, 2, 7, 3, 2, 3, 4, 2, 6, 2, 2, 2, 4, 5, 1, 3, 2, 3, 4, 4, 1, 1, 1, 4, 2, 1, 2, 1, 1, 0, 2, 7, 1, 4, 1, 3, 5, 1, 2, 2, 5, 3, 2, 1, 6, 4, 3, 3, 5, 3, 3, 3, 2, 1, 0, 4, 4, 5, 7, 3, 1, 3, 4, 3, 1, 1, 4, 3, 3, 2, 3, 1, 7, 3, 3, 2, 1, 2, 1, 2, 2, 2, 2, 2, 1, 2, 4, 0, 2, 3, 2, 2, 4, 2, 2, 4, 7, 3, 2, 1, 2, 2, 1, 3, 5, 1, 5, 2, 4, 3, 2, 2, 4, 7, 1, 2, 7, 2, 6, 2, 4, 1, 2, 3, 2, 2, 1, 3, 0, 1, 0, 3, 2, 1, 2, 5, 3, 3, 4, 1, 0, 2, 1, 2, 1, 2, 5, 5, 1, 0, 2, 2, 4, 2, 3, 6, 0, 1, 1, 2, 1, 1, 2, 1, 3, 5, 4, 1, 5, 4, 2, 1, 2, 2, 2, 6, 7, 5, 1, 2, 2, 1, 1, 2, 3, 5, 2, 2, 1, 2, 2, 4, 1, 3, 1, 0, 2, 5, 5, 3, 1, 4, 1, 5, 1, 2, 1, 2, 2, 5, 4, 2, 1, 7, 3, 1, 4, 3, 2, 5, 0, 2, 1, 1, 1, 5, 1, 4, 4, 4, 2, 1, 1, 2, 5, 4, 5, 4, 3, 2, 1, 2, 3, 3, 3, 2, 1, 4, 2, 1, 7, 4, 2, 3, 3, 3, 3, 4, 6, 1, 7, 1, 3, 4, 2, 4, 0, 2, 3, 3, 3, 1, 1, 1, 2, 4, 3, 1, 1, 2, 3, 2, 3, 5, 2, 2, 5, 1, 2, 1, 6, 1, 0, 4, 1, 7, 1, 1, 4, 3, 1, 2, 1, 5, 4, 4, 5, 3, 4, 2, 5, 3, 3, 7, 0, 1, 1, 2, 0, 2, 2, 0, 2, 1, 3, 4, 3, 7, 4, 2, 1, 1, 1, 2, 2, 3, 3, 1, 2, 2, 3, 1, 6, 3, 3, 1, 7, 2, 1, 1, 3, 2, 3, 5, 2, 1, 2, 0, 4, 3, 6, 6, 3, 1, 4, 5, 4, 3, 1, 1, 2, 2, 2, 3, 1, 1, 3, 2, 2, 3, 4, 2, 0, 4, 3, 1, 4, 3, 1, 4, 2, 0, 5, 2, 2, 4, 4, 7, 4, 4, 0, 2, 5, 3, 1, 3, 3, 2, 2, 5, 4, 7, 1, 4, 3, 2, 2, 1, 7, 4, 3, 4, 2, 4, 2, 0, 2, 5, 6, 0, 3, 3, 3, 3, 1, 2, 3, 3, 0, 4, 0, 2, 1, 1, 3, 3, 0, 3, 1, 3, 1, 4, 2, 1, 6, 4, 2, 3, 5, 1, 4, 7, 2, 4, 1, 0, 3, 6, 0, 2, 3, 4, 1, 3, 5, 2, 2, 3, 1, 4, 4, 3, 5, 1, 3, 3, 2, 2, 2, 0, 1, 2, 1, 6, 2, 3, 3, 3, 4, 2, 2, 5, 0, 2, 4, 3, 3, 1, 1, 2, 3, 0, 1, 1, 1, 5, 5, 0, 7, 3, 3, 7, 2, 0, 1, 2, 1, 5, 3, 1, 1, 1, 5, 4, 3, 3, 4, 3, 2, 1, 2, 4, 3, 4, 6, 4, 1, 4, 2, 3, 3, 4, 5, 2, 3, 1, 3, 7, 2, 2, 3, 1, 4, 1, 5, 2, 1, 3, 4, 1, 7, 1, 1, 6, 2, 1, 7, 0, 4, 2, 1, 2, 2, 4, 1, 2, 1, 1, 1, 1, 1, 4, 4, 1, 1, 2, 2, 1, 5, 1, 3, 2, 4, 4, 2, 2, 3, 1, 1, 4, 1, 3, 2, 5, 3, 0, 2, 0, 2, 3, 7, 2, 1, 2, 3, 3, 0, 2, 0, 7, 0, 2, 1, 1, 3, 3, 1, 3, 1, 3, 4, 4, 1, 4, 1, 5, 4, 2, 3, 2, 1, 7, 0, 3, 0, 5, 2, 1, 6, 1, 3, 2, 7, 1, 4, 1, 0, 5, 2, 1, 1, 3, 2, 2, 1, 1, 4, 1, 1, 0, 0, 3, 2, 3, 1, 3, 2, 1, 1, 1, 3, 2, 4, 2, 4, 2, 5, 3, 4, 7, 7, 1, 4, 7, 1, 2, 1, 2, 1, 1, 2, 4, 3, 3, 0, 4, 0, 6, 2, 1, 1, 4, 5, 4, 2, 2, 5, 2, 3, 2, 1, 1, 2, 3, 1, 2, 2, 7, 4, 1, 2, 1, 2, 2, 0, 1, 4, 3, 2, 3, 6, 6, 1, 3, 4, 3, 3, 2, 6, 2, 1, 7, 1, 3, 2, 1, 4, 0, 6, 3, 2, 2, 4, 2, 1, 1, 3, 7, 4, 5, 2, 4, 5, 5, 6, 2, 1, 4, 3, 4, 2, 3, 0, 1, 2, 3, 1, 3, 4, 2, 3, 1, 0, 1, 7, 1, 1, 6, 3, 2, 5, 2, 5, 2, 3, 1, 6, 3, 7, 4, 2, 1, 5, 2, 4, 3, 3, 3, 2, 6, 0, 3, 3, 1, 1, 4, 1, 1, 7, 2, 5, 7, 1, 3, 1, 1, 0, 1, 1, 4, 1, 4, 2, 1, 1, 5, 1, 5, 3, 6, 3, 7, 5, 7, 2, 1, 1, 5, 2, 5, 7, 7, 4, 2, 3, 2, 4, 4, 2, 1, 4, 2, 2, 4, 3, 0, 2, 2, 7, 6, 2, 2, 3, 1, 2, 1, 1, 0, 0, 6, 2, 3, 2, 1, 2, 3, 1, 2, 2, 3, 2, 3, 4, 5, 1, 7, 3, 3, 1, 5, 2, 3, 1, 4, 3, 2, 3, 4, 1, 2, 3, 3, 1, 2, 1, 4, 4, 7, 2, 2, 3, 6, 2, 2, 4, 2, 2, 4, 2, 2, 3, 1, 2, 4, 4, 4, 3, 2, 2, 2, 4, 4, 2, 2, 4, 2, 2, 0, 1, 0, 3, 2, 4, 6, 4, 0, 1, 2, 3, 2, 2, 2, 2, 2, 7, 1, 5, 4, 1, 7, 0, 2, 2, 6, 2, 2, 2, 1, 1, 4, 7, 7, 5, 3, 1, 3, 3, 1, 3, 7, 1, 1, 4, 1, 6, 1, 1, 3, 2, 1, 1, 5, 4, 3, 4, 2, 2, 2, 1, 5, 1, 2, 2, 4, 2, 1, 3, 1, 1, 7, 3, 3, 2, 6, 1, 3, 7, 1, 5, 3, 2, 5, 7, 7, 1, 3, 2, 3, 1, 1, 4, 3, 2, 4, 5, 3, 3, 5, 1, 2, 7, 3, 2, 6, 1, 3, 5, 4, 4, 1, 6, 2, 2, 0, 3, 1, 4, 6, 1, 1, 1, 4, 3, 4, 4, 4, 4, 0, 2, 3, 7, 2, 1, 4, 2, 1, 4, 4, 1, 1, 3, 7, 6, 1, 6, 4, 3, 1, 1, 2, 1, 1, 3, 7, 1, 4, 5, 7, 4, 3, 2, 7, 3, 2, 4, 2, 4, 1, 4, 1, 3, 1, 1, 2, 3, 1, 5, 2, 7, 4, 6, 2, 0, 4, 1, 1, 3, 2, 1, 7, 7, 7, 7, 0, 2, 1, 3, 4, 2, 4, 2, 2, 1, 1, 2, 2, 2, 2, 3, 2, 6, 0, 2, 3, 1, 4, 6, 3, 5, 7, 3, 1, 2, 7, 3, 2, 4, 1, 2, 6, 2, 0, 7, 1, 4, 3, 3, 4, 2, 1, 2, 4, 0, 4, 2, 4, 4, 1, 4, 3, 4, 0, 2, 2, 4, 1, 5, 3, 1, 5, 3, 0, 1, 1, 5, 2, 4, 1, 4, 1, 3, 4, 1, 1, 1, 0, 3, 3, 2, 3, 3, 7, 1, 2, 7, 3, 3, 4, 2, 2, 7, 1, 1, 2, 4, 2, 3, 2, 0, 2, 0, 2, 3, 3, 3, 2, 2, 5, 7, 2, 1, 2, 2, 2, 1, 3, 2, 3, 3, 2, 4, 0, 1, 1, 5, 4, 5, 1, 3, 5, 1, 4, 3, 3, 3, 1, 1, 1, 7, 4, 7, 1, 1, 5, 2, 5, 3, 5, 2, 2, 2, 1, 1, 0, 0, 2, 2, 3, 6, 2, 5, 0, 6, 2, 4, 1, 3, 7, 0, 5, 2, 1, 4, 2, 7, 3, 4, 2, 3, 7, 2, 2, 5, 5, 3, 2, 0, 4, 4, 2, 4, 2, 1, 2, 4, 5, 1, 2, 1, 5, 3, 5, 1, 3, 2, 7, 2, 5, 4, 2, 3, 1, 1, 2, 0, 2, 3, 2, 6, 2, 2, 1, 5, 7, 2, 4, 1, 1, 3, 1, 3, 2, 3, 5, 2, 1, 4, 1, 0, 4, 3, 1, 3, 7, 1, 1, 0, 1, 3, 7, 5, 1, 2, 2, 2, 6, 2, 3, 1, 2, 3, 1, 2, 7, 2, 6, 4, 3, 7, 0, 1, 3, 6, 3, 4, 1, 1, 1, 2, 4, 2, 3, 1, 2, 4, 2, 1, 4, 3, 2, 3, 1, 1, 6, 3]\n",
            "      index  label\n",
            "0         0      1\n",
            "1         1      1\n",
            "2         2      1\n",
            "3         3      5\n",
            "4         4      1\n",
            "...     ...    ...\n",
            "1995   1995      3\n",
            "1996   1996      1\n",
            "1997   1997      1\n",
            "1998   1998      6\n",
            "1999   1999      3\n",
            "\n",
            "[2000 rows x 2 columns]\n"
          ]
        },
        {
          "output_type": "stream",
          "name": "stderr",
          "text": [
            "\n"
          ]
        }
      ]
    },
    {
      "cell_type": "code",
      "metadata": {
        "id": "pkQdlYAM4y1E"
      },
      "source": [
        "trans = {\n",
        "    0:'SCIENCE',\n",
        "    1:'TECHNOLOGY',\n",
        "    2:'HEALTH',\n",
        "    3:'WORLD',\n",
        "    4:'ENTERTAINMENT',\n",
        "    5:'SPORTS',\n",
        "    6:'BUSINESS',\n",
        "    7:'NATION'\n",
        "}\n",
        "def predict(text):\n",
        "  subwords = tokenizer.encode(text)\n",
        "  subwords = torch.LongTensor(subwords).view(1, -1).to(model.device)\n",
        "\n",
        "  logits = model(subwords)[0]\n",
        "  label = torch.argmax(logits, dim=-1).item()\n",
        "  return trans[label]"
      ],
      "execution_count": 46,
      "outputs": []
    },
    {
      "cell_type": "code",
      "metadata": {
        "id": "5eeCfLjE6aod",
        "colab": {
          "base_uri": "https://localhost:8080/",
          "height": 35
        },
        "outputId": "71abacef-0e84-4a4b-8214-f7c99153cc91"
      },
      "source": [
        "predict(\"A closer look at water-splitting's solar fuel potential\")"
      ],
      "execution_count": 47,
      "outputs": [
        {
          "output_type": "execute_result",
          "data": {
            "application/vnd.google.colaboratory.intrinsic+json": {
              "type": "string"
            },
            "text/plain": [
              "'SCIENCE'"
            ]
          },
          "metadata": {},
          "execution_count": 47
        }
      ]
    },
    {
      "cell_type": "code",
      "metadata": {
        "colab": {
          "base_uri": "https://localhost:8080/",
          "height": 35
        },
        "id": "nZRgQGrbplpK",
        "outputId": "9ced819f-36f2-48e3-c31e-a524f3852477"
      },
      "source": [
        "predict(\"Come See What It’s Like To Play Microsoft Flight Simulator\")"
      ],
      "execution_count": 48,
      "outputs": [
        {
          "output_type": "execute_result",
          "data": {
            "application/vnd.google.colaboratory.intrinsic+json": {
              "type": "string"
            },
            "text/plain": [
              "'TECHNOLOGY'"
            ]
          },
          "metadata": {},
          "execution_count": 48
        }
      ]
    },
    {
      "cell_type": "code",
      "metadata": {
        "colab": {
          "base_uri": "https://localhost:8080/",
          "height": 35
        },
        "id": "1yejstfHpy37",
        "outputId": "6a1c0ce4-e139-414a-f4b0-afa50cf03094"
      },
      "source": [
        "predict(\"I nearly died as my body burned itself from the inside out – after mistaking life-threatening disorder for i\")"
      ],
      "execution_count": 49,
      "outputs": [
        {
          "output_type": "execute_result",
          "data": {
            "application/vnd.google.colaboratory.intrinsic+json": {
              "type": "string"
            },
            "text/plain": [
              "'HEALTH'"
            ]
          },
          "metadata": {},
          "execution_count": 49
        }
      ]
    },
    {
      "cell_type": "code",
      "metadata": {
        "colab": {
          "base_uri": "https://localhost:8080/",
          "height": 35
        },
        "id": "GAaedCjuqcgG",
        "outputId": "9ff28982-4da7-4876-96ff-7bb63841affb"
      },
      "source": [
        "predict(\"Hell ant’ found in 99 million year old amber\")"
      ],
      "execution_count": 50,
      "outputs": [
        {
          "output_type": "execute_result",
          "data": {
            "application/vnd.google.colaboratory.intrinsic+json": {
              "type": "string"
            },
            "text/plain": [
              "'SCIENCE'"
            ]
          },
          "metadata": {},
          "execution_count": 50
        }
      ]
    }
  ]
}